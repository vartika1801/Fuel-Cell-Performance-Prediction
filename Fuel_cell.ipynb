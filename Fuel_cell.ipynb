{
  "cells": [
    {
      "cell_type": "code",
      "execution_count": 2,
      "metadata": {
        "id": "FjMDE45kYPNE"
      },
      "outputs": [],
      "source": [
        "import numpy as np\n",
        "import pandas as pd\n",
        "import seaborn as sns\n",
        "import matplotlib.pyplot as plt\n",
        "\n",
        "from sklearn.model_selection import train_test_split\n",
        "import warnings\n",
        "warnings.filterwarnings('ignore')"
      ]
    },
    {
      "cell_type": "code",
      "execution_count": 3,
      "metadata": {
        "colab": {
          "base_uri": "https://localhost:8080/"
        },
        "id": "QdN35DfeZ_JD",
        "outputId": "d77cd9b3-bb17-4144-b12b-e6963e1fe6a0"
      },
      "outputs": [
        {
          "output_type": "stream",
          "name": "stdout",
          "text": [
            "Drive already mounted at /content/drive; to attempt to forcibly remount, call drive.mount(\"/content/drive\", force_remount=True).\n"
          ]
        }
      ],
      "source": [
        "# Read the dataset\n",
        "from google.colab import drive\n",
        "drive.mount('/content/drive')"
      ]
    },
    {
      "cell_type": "code",
      "execution_count": 4,
      "metadata": {
        "id": "lwBc6rSfaLS3"
      },
      "outputs": [],
      "source": [
        "df=pd.read_csv('/content/drive/My Drive/Fuel_cell_performance_data-Full.csv')"
      ]
    },
    {
      "cell_type": "code",
      "execution_count": 5,
      "metadata": {
        "colab": {
          "base_uri": "https://localhost:8080/",
          "height": 260
        },
        "id": "FpqQGT7XafwB",
        "outputId": "147d2bec-0730-4d9e-c43b-2882219de1e2"
      },
      "outputs": [
        {
          "output_type": "execute_result",
          "data": {
            "text/plain": [
              "     F1    F2    F3     F4      F5    F6     F7     F8   F9   F10      F11  \\\n",
              "0  52.9  1.33  49.1  37.13  129.43  35.0  0.281  112.7  207  0.55   98.971   \n",
              "1  87.6  2.12  48.8  42.10  171.07  37.6  0.153  157.4  188  0.86  101.179   \n",
              "2  73.3  2.72  93.8  20.11  163.69  44.3  0.367  348.7  270  1.87   98.919   \n",
              "3  65.6  2.58  48.1  35.11   63.37  32.5  0.279  321.2  322  1.75  101.560   \n",
              "4  39.6  2.58  49.3  32.93   63.40  47.0  0.149  205.6  203  1.55   98.148   \n",
              "\n",
              "    F12   F13   F14   F15  Target1  Target2  Target3  Target4  Target5  \n",
              "0  2.87  1362  15.9   429    0.959    1.531     79.3     4.19    33.29  \n",
              "1  2.34  5130  26.1  1819    0.728    1.690     57.2     5.19    34.50  \n",
              "2  2.13  7811  16.7  1763    0.784    1.865     61.6     7.77   129.28  \n",
              "3  2.91  1641  32.1   203    0.884    1.920     71.3     8.40   186.65  \n",
              "4  1.93  7648  27.5   276    0.736    1.711     58.5     4.75    52.32  "
            ],
            "text/html": [
              "\n",
              "  <div id=\"df-ae57cd3e-4dcf-4b92-810f-3db71aa34fe8\" class=\"colab-df-container\">\n",
              "    <div>\n",
              "<style scoped>\n",
              "    .dataframe tbody tr th:only-of-type {\n",
              "        vertical-align: middle;\n",
              "    }\n",
              "\n",
              "    .dataframe tbody tr th {\n",
              "        vertical-align: top;\n",
              "    }\n",
              "\n",
              "    .dataframe thead th {\n",
              "        text-align: right;\n",
              "    }\n",
              "</style>\n",
              "<table border=\"1\" class=\"dataframe\">\n",
              "  <thead>\n",
              "    <tr style=\"text-align: right;\">\n",
              "      <th></th>\n",
              "      <th>F1</th>\n",
              "      <th>F2</th>\n",
              "      <th>F3</th>\n",
              "      <th>F4</th>\n",
              "      <th>F5</th>\n",
              "      <th>F6</th>\n",
              "      <th>F7</th>\n",
              "      <th>F8</th>\n",
              "      <th>F9</th>\n",
              "      <th>F10</th>\n",
              "      <th>F11</th>\n",
              "      <th>F12</th>\n",
              "      <th>F13</th>\n",
              "      <th>F14</th>\n",
              "      <th>F15</th>\n",
              "      <th>Target1</th>\n",
              "      <th>Target2</th>\n",
              "      <th>Target3</th>\n",
              "      <th>Target4</th>\n",
              "      <th>Target5</th>\n",
              "    </tr>\n",
              "  </thead>\n",
              "  <tbody>\n",
              "    <tr>\n",
              "      <th>0</th>\n",
              "      <td>52.9</td>\n",
              "      <td>1.33</td>\n",
              "      <td>49.1</td>\n",
              "      <td>37.13</td>\n",
              "      <td>129.43</td>\n",
              "      <td>35.0</td>\n",
              "      <td>0.281</td>\n",
              "      <td>112.7</td>\n",
              "      <td>207</td>\n",
              "      <td>0.55</td>\n",
              "      <td>98.971</td>\n",
              "      <td>2.87</td>\n",
              "      <td>1362</td>\n",
              "      <td>15.9</td>\n",
              "      <td>429</td>\n",
              "      <td>0.959</td>\n",
              "      <td>1.531</td>\n",
              "      <td>79.3</td>\n",
              "      <td>4.19</td>\n",
              "      <td>33.29</td>\n",
              "    </tr>\n",
              "    <tr>\n",
              "      <th>1</th>\n",
              "      <td>87.6</td>\n",
              "      <td>2.12</td>\n",
              "      <td>48.8</td>\n",
              "      <td>42.10</td>\n",
              "      <td>171.07</td>\n",
              "      <td>37.6</td>\n",
              "      <td>0.153</td>\n",
              "      <td>157.4</td>\n",
              "      <td>188</td>\n",
              "      <td>0.86</td>\n",
              "      <td>101.179</td>\n",
              "      <td>2.34</td>\n",
              "      <td>5130</td>\n",
              "      <td>26.1</td>\n",
              "      <td>1819</td>\n",
              "      <td>0.728</td>\n",
              "      <td>1.690</td>\n",
              "      <td>57.2</td>\n",
              "      <td>5.19</td>\n",
              "      <td>34.50</td>\n",
              "    </tr>\n",
              "    <tr>\n",
              "      <th>2</th>\n",
              "      <td>73.3</td>\n",
              "      <td>2.72</td>\n",
              "      <td>93.8</td>\n",
              "      <td>20.11</td>\n",
              "      <td>163.69</td>\n",
              "      <td>44.3</td>\n",
              "      <td>0.367</td>\n",
              "      <td>348.7</td>\n",
              "      <td>270</td>\n",
              "      <td>1.87</td>\n",
              "      <td>98.919</td>\n",
              "      <td>2.13</td>\n",
              "      <td>7811</td>\n",
              "      <td>16.7</td>\n",
              "      <td>1763</td>\n",
              "      <td>0.784</td>\n",
              "      <td>1.865</td>\n",
              "      <td>61.6</td>\n",
              "      <td>7.77</td>\n",
              "      <td>129.28</td>\n",
              "    </tr>\n",
              "    <tr>\n",
              "      <th>3</th>\n",
              "      <td>65.6</td>\n",
              "      <td>2.58</td>\n",
              "      <td>48.1</td>\n",
              "      <td>35.11</td>\n",
              "      <td>63.37</td>\n",
              "      <td>32.5</td>\n",
              "      <td>0.279</td>\n",
              "      <td>321.2</td>\n",
              "      <td>322</td>\n",
              "      <td>1.75</td>\n",
              "      <td>101.560</td>\n",
              "      <td>2.91</td>\n",
              "      <td>1641</td>\n",
              "      <td>32.1</td>\n",
              "      <td>203</td>\n",
              "      <td>0.884</td>\n",
              "      <td>1.920</td>\n",
              "      <td>71.3</td>\n",
              "      <td>8.40</td>\n",
              "      <td>186.65</td>\n",
              "    </tr>\n",
              "    <tr>\n",
              "      <th>4</th>\n",
              "      <td>39.6</td>\n",
              "      <td>2.58</td>\n",
              "      <td>49.3</td>\n",
              "      <td>32.93</td>\n",
              "      <td>63.40</td>\n",
              "      <td>47.0</td>\n",
              "      <td>0.149</td>\n",
              "      <td>205.6</td>\n",
              "      <td>203</td>\n",
              "      <td>1.55</td>\n",
              "      <td>98.148</td>\n",
              "      <td>1.93</td>\n",
              "      <td>7648</td>\n",
              "      <td>27.5</td>\n",
              "      <td>276</td>\n",
              "      <td>0.736</td>\n",
              "      <td>1.711</td>\n",
              "      <td>58.5</td>\n",
              "      <td>4.75</td>\n",
              "      <td>52.32</td>\n",
              "    </tr>\n",
              "  </tbody>\n",
              "</table>\n",
              "</div>\n",
              "    <div class=\"colab-df-buttons\">\n",
              "\n",
              "  <div class=\"colab-df-container\">\n",
              "    <button class=\"colab-df-convert\" onclick=\"convertToInteractive('df-ae57cd3e-4dcf-4b92-810f-3db71aa34fe8')\"\n",
              "            title=\"Convert this dataframe to an interactive table.\"\n",
              "            style=\"display:none;\">\n",
              "\n",
              "  <svg xmlns=\"http://www.w3.org/2000/svg\" height=\"24px\" viewBox=\"0 -960 960 960\">\n",
              "    <path d=\"M120-120v-720h720v720H120Zm60-500h600v-160H180v160Zm220 220h160v-160H400v160Zm0 220h160v-160H400v160ZM180-400h160v-160H180v160Zm440 0h160v-160H620v160ZM180-180h160v-160H180v160Zm440 0h160v-160H620v160Z\"/>\n",
              "  </svg>\n",
              "    </button>\n",
              "\n",
              "  <style>\n",
              "    .colab-df-container {\n",
              "      display:flex;\n",
              "      gap: 12px;\n",
              "    }\n",
              "\n",
              "    .colab-df-convert {\n",
              "      background-color: #E8F0FE;\n",
              "      border: none;\n",
              "      border-radius: 50%;\n",
              "      cursor: pointer;\n",
              "      display: none;\n",
              "      fill: #1967D2;\n",
              "      height: 32px;\n",
              "      padding: 0 0 0 0;\n",
              "      width: 32px;\n",
              "    }\n",
              "\n",
              "    .colab-df-convert:hover {\n",
              "      background-color: #E2EBFA;\n",
              "      box-shadow: 0px 1px 2px rgba(60, 64, 67, 0.3), 0px 1px 3px 1px rgba(60, 64, 67, 0.15);\n",
              "      fill: #174EA6;\n",
              "    }\n",
              "\n",
              "    .colab-df-buttons div {\n",
              "      margin-bottom: 4px;\n",
              "    }\n",
              "\n",
              "    [theme=dark] .colab-df-convert {\n",
              "      background-color: #3B4455;\n",
              "      fill: #D2E3FC;\n",
              "    }\n",
              "\n",
              "    [theme=dark] .colab-df-convert:hover {\n",
              "      background-color: #434B5C;\n",
              "      box-shadow: 0px 1px 3px 1px rgba(0, 0, 0, 0.15);\n",
              "      filter: drop-shadow(0px 1px 2px rgba(0, 0, 0, 0.3));\n",
              "      fill: #FFFFFF;\n",
              "    }\n",
              "  </style>\n",
              "\n",
              "    <script>\n",
              "      const buttonEl =\n",
              "        document.querySelector('#df-ae57cd3e-4dcf-4b92-810f-3db71aa34fe8 button.colab-df-convert');\n",
              "      buttonEl.style.display =\n",
              "        google.colab.kernel.accessAllowed ? 'block' : 'none';\n",
              "\n",
              "      async function convertToInteractive(key) {\n",
              "        const element = document.querySelector('#df-ae57cd3e-4dcf-4b92-810f-3db71aa34fe8');\n",
              "        const dataTable =\n",
              "          await google.colab.kernel.invokeFunction('convertToInteractive',\n",
              "                                                    [key], {});\n",
              "        if (!dataTable) return;\n",
              "\n",
              "        const docLinkHtml = 'Like what you see? Visit the ' +\n",
              "          '<a target=\"_blank\" href=https://colab.research.google.com/notebooks/data_table.ipynb>data table notebook</a>'\n",
              "          + ' to learn more about interactive tables.';\n",
              "        element.innerHTML = '';\n",
              "        dataTable['output_type'] = 'display_data';\n",
              "        await google.colab.output.renderOutput(dataTable, element);\n",
              "        const docLink = document.createElement('div');\n",
              "        docLink.innerHTML = docLinkHtml;\n",
              "        element.appendChild(docLink);\n",
              "      }\n",
              "    </script>\n",
              "  </div>\n",
              "\n",
              "\n",
              "<div id=\"df-1a5ece7f-0694-4b4c-89ee-99ca2570569b\">\n",
              "  <button class=\"colab-df-quickchart\" onclick=\"quickchart('df-1a5ece7f-0694-4b4c-89ee-99ca2570569b')\"\n",
              "            title=\"Suggest charts\"\n",
              "            style=\"display:none;\">\n",
              "\n",
              "<svg xmlns=\"http://www.w3.org/2000/svg\" height=\"24px\"viewBox=\"0 0 24 24\"\n",
              "     width=\"24px\">\n",
              "    <g>\n",
              "        <path d=\"M19 3H5c-1.1 0-2 .9-2 2v14c0 1.1.9 2 2 2h14c1.1 0 2-.9 2-2V5c0-1.1-.9-2-2-2zM9 17H7v-7h2v7zm4 0h-2V7h2v10zm4 0h-2v-4h2v4z\"/>\n",
              "    </g>\n",
              "</svg>\n",
              "  </button>\n",
              "\n",
              "<style>\n",
              "  .colab-df-quickchart {\n",
              "      --bg-color: #E8F0FE;\n",
              "      --fill-color: #1967D2;\n",
              "      --hover-bg-color: #E2EBFA;\n",
              "      --hover-fill-color: #174EA6;\n",
              "      --disabled-fill-color: #AAA;\n",
              "      --disabled-bg-color: #DDD;\n",
              "  }\n",
              "\n",
              "  [theme=dark] .colab-df-quickchart {\n",
              "      --bg-color: #3B4455;\n",
              "      --fill-color: #D2E3FC;\n",
              "      --hover-bg-color: #434B5C;\n",
              "      --hover-fill-color: #FFFFFF;\n",
              "      --disabled-bg-color: #3B4455;\n",
              "      --disabled-fill-color: #666;\n",
              "  }\n",
              "\n",
              "  .colab-df-quickchart {\n",
              "    background-color: var(--bg-color);\n",
              "    border: none;\n",
              "    border-radius: 50%;\n",
              "    cursor: pointer;\n",
              "    display: none;\n",
              "    fill: var(--fill-color);\n",
              "    height: 32px;\n",
              "    padding: 0;\n",
              "    width: 32px;\n",
              "  }\n",
              "\n",
              "  .colab-df-quickchart:hover {\n",
              "    background-color: var(--hover-bg-color);\n",
              "    box-shadow: 0 1px 2px rgba(60, 64, 67, 0.3), 0 1px 3px 1px rgba(60, 64, 67, 0.15);\n",
              "    fill: var(--button-hover-fill-color);\n",
              "  }\n",
              "\n",
              "  .colab-df-quickchart-complete:disabled,\n",
              "  .colab-df-quickchart-complete:disabled:hover {\n",
              "    background-color: var(--disabled-bg-color);\n",
              "    fill: var(--disabled-fill-color);\n",
              "    box-shadow: none;\n",
              "  }\n",
              "\n",
              "  .colab-df-spinner {\n",
              "    border: 2px solid var(--fill-color);\n",
              "    border-color: transparent;\n",
              "    border-bottom-color: var(--fill-color);\n",
              "    animation:\n",
              "      spin 1s steps(1) infinite;\n",
              "  }\n",
              "\n",
              "  @keyframes spin {\n",
              "    0% {\n",
              "      border-color: transparent;\n",
              "      border-bottom-color: var(--fill-color);\n",
              "      border-left-color: var(--fill-color);\n",
              "    }\n",
              "    20% {\n",
              "      border-color: transparent;\n",
              "      border-left-color: var(--fill-color);\n",
              "      border-top-color: var(--fill-color);\n",
              "    }\n",
              "    30% {\n",
              "      border-color: transparent;\n",
              "      border-left-color: var(--fill-color);\n",
              "      border-top-color: var(--fill-color);\n",
              "      border-right-color: var(--fill-color);\n",
              "    }\n",
              "    40% {\n",
              "      border-color: transparent;\n",
              "      border-right-color: var(--fill-color);\n",
              "      border-top-color: var(--fill-color);\n",
              "    }\n",
              "    60% {\n",
              "      border-color: transparent;\n",
              "      border-right-color: var(--fill-color);\n",
              "    }\n",
              "    80% {\n",
              "      border-color: transparent;\n",
              "      border-right-color: var(--fill-color);\n",
              "      border-bottom-color: var(--fill-color);\n",
              "    }\n",
              "    90% {\n",
              "      border-color: transparent;\n",
              "      border-bottom-color: var(--fill-color);\n",
              "    }\n",
              "  }\n",
              "</style>\n",
              "\n",
              "  <script>\n",
              "    async function quickchart(key) {\n",
              "      const quickchartButtonEl =\n",
              "        document.querySelector('#' + key + ' button');\n",
              "      quickchartButtonEl.disabled = true;  // To prevent multiple clicks.\n",
              "      quickchartButtonEl.classList.add('colab-df-spinner');\n",
              "      try {\n",
              "        const charts = await google.colab.kernel.invokeFunction(\n",
              "            'suggestCharts', [key], {});\n",
              "      } catch (error) {\n",
              "        console.error('Error during call to suggestCharts:', error);\n",
              "      }\n",
              "      quickchartButtonEl.classList.remove('colab-df-spinner');\n",
              "      quickchartButtonEl.classList.add('colab-df-quickchart-complete');\n",
              "    }\n",
              "    (() => {\n",
              "      let quickchartButtonEl =\n",
              "        document.querySelector('#df-1a5ece7f-0694-4b4c-89ee-99ca2570569b button');\n",
              "      quickchartButtonEl.style.display =\n",
              "        google.colab.kernel.accessAllowed ? 'block' : 'none';\n",
              "    })();\n",
              "  </script>\n",
              "</div>\n",
              "\n",
              "    </div>\n",
              "  </div>\n"
            ],
            "application/vnd.google.colaboratory.intrinsic+json": {
              "type": "dataframe",
              "variable_name": "df",
              "summary": "{\n  \"name\": \"df\",\n  \"rows\": 1000,\n  \"fields\": [\n    {\n      \"column\": \"F1\",\n      \"properties\": {\n        \"dtype\": \"number\",\n        \"std\": 17.652136355351093,\n        \"min\": 29.7,\n        \"max\": 94.2,\n        \"num_unique_values\": 508,\n        \"samples\": [\n          68.2,\n          51.3,\n          43.0\n        ],\n        \"semantic_type\": \"\",\n        \"description\": \"\"\n      }\n    },\n    {\n      \"column\": \"F2\",\n      \"properties\": {\n        \"dtype\": \"number\",\n        \"std\": 0.5840904429500157,\n        \"min\": 0.97,\n        \"max\": 3.14,\n        \"num_unique_values\": 213,\n        \"samples\": [\n          1.54,\n          1.44,\n          1.86\n        ],\n        \"semantic_type\": \"\",\n        \"description\": \"\"\n      }\n    },\n    {\n      \"column\": \"F3\",\n      \"properties\": {\n        \"dtype\": \"number\",\n        \"std\": 20.36069643699349,\n        \"min\": 29.7,\n        \"max\": 101.9,\n        \"num_unique_values\": 535,\n        \"samples\": [\n          90.7,\n          53.6,\n          46.5\n        ],\n        \"semantic_type\": \"\",\n        \"description\": \"\"\n      }\n    },\n    {\n      \"column\": \"F4\",\n      \"properties\": {\n        \"dtype\": \"number\",\n        \"std\": 11.490853221330172,\n        \"min\": 9.88,\n        \"max\": 52.58,\n        \"num_unique_values\": 879,\n        \"samples\": [\n          20.75,\n          37.51,\n          38.21\n        ],\n        \"semantic_type\": \"\",\n        \"description\": \"\"\n      }\n    },\n    {\n      \"column\": \"F5\",\n      \"properties\": {\n        \"dtype\": \"number\",\n        \"std\": 46.09249529967811,\n        \"min\": 38.43,\n        \"max\": 206.01,\n        \"num_unique_values\": 974,\n        \"samples\": [\n          71.82,\n          148.04,\n          180.28\n        ],\n        \"semantic_type\": \"\",\n        \"description\": \"\"\n      }\n    },\n    {\n      \"column\": \"F6\",\n      \"properties\": {\n        \"dtype\": \"number\",\n        \"std\": 7.270715129097581,\n        \"min\": 24.4,\n        \"max\": 52.2,\n        \"num_unique_values\": 260,\n        \"samples\": [\n          38.9,\n          27.1,\n          36.0\n        ],\n        \"semantic_type\": \"\",\n        \"description\": \"\"\n      }\n    },\n    {\n      \"column\": \"F7\",\n      \"properties\": {\n        \"dtype\": \"number\",\n        \"std\": 0.08700182455831874,\n        \"min\": 0.099,\n        \"max\": 0.409,\n        \"num_unique_values\": 300,\n        \"samples\": [\n          0.308,\n          0.21,\n          0.379\n        ],\n        \"semantic_type\": \"\",\n        \"description\": \"\"\n      }\n    },\n    {\n      \"column\": \"F8\",\n      \"properties\": {\n        \"dtype\": \"number\",\n        \"std\": 85.80602915086239,\n        \"min\": 99.1,\n        \"max\": 411.8,\n        \"num_unique_values\": 843,\n        \"samples\": [\n          360.7,\n          174.5,\n          119.7\n        ],\n        \"semantic_type\": \"\",\n        \"description\": \"\"\n      }\n    },\n    {\n      \"column\": \"F9\",\n      \"properties\": {\n        \"dtype\": \"number\",\n        \"std\": 101,\n        \"min\": 50,\n        \"max\": 398,\n        \"num_unique_values\": 327,\n        \"samples\": [\n          217,\n          370,\n          388\n        ],\n        \"semantic_type\": \"\",\n        \"description\": \"\"\n      }\n    },\n    {\n      \"column\": \"F10\",\n      \"properties\": {\n        \"dtype\": \"number\",\n        \"std\": 0.4257797857178356,\n        \"min\": 0.5,\n        \"max\": 2.09,\n        \"num_unique_values\": 153,\n        \"samples\": [\n          1.36,\n          0.8,\n          0.65\n        ],\n        \"semantic_type\": \"\",\n        \"description\": \"\"\n      }\n    },\n    {\n      \"column\": \"F11\",\n      \"properties\": {\n        \"dtype\": \"number\",\n        \"std\": 2.0840467286803626,\n        \"min\": 93.309,\n        \"max\": 106.601,\n        \"num_unique_values\": 925,\n        \"samples\": [\n          103.561,\n          103.903,\n          100.005\n        ],\n        \"semantic_type\": \"\",\n        \"description\": \"\"\n      }\n    },\n    {\n      \"column\": \"F12\",\n      \"properties\": {\n        \"dtype\": \"number\",\n        \"std\": 0.43548755873596895,\n        \"min\": 1.45,\n        \"max\": 3.18,\n        \"num_unique_values\": 162,\n        \"samples\": [\n          3.18,\n          2.06,\n          2.89\n        ],\n        \"semantic_type\": \"\",\n        \"description\": \"\"\n      }\n    },\n    {\n      \"column\": \"F13\",\n      \"properties\": {\n        \"dtype\": \"number\",\n        \"std\": 2884,\n        \"min\": 13,\n        \"max\": 10275,\n        \"num_unique_values\": 951,\n        \"samples\": [\n          1118,\n          7916,\n          4152\n        ],\n        \"semantic_type\": \"\",\n        \"description\": \"\"\n      }\n    },\n    {\n      \"column\": \"F14\",\n      \"properties\": {\n        \"dtype\": \"number\",\n        \"std\": 5.738261863073978,\n        \"min\": 14.7,\n        \"max\": 36.1,\n        \"num_unique_values\": 210,\n        \"samples\": [\n          17.2,\n          35.8,\n          33.9\n        ],\n        \"semantic_type\": \"\",\n        \"description\": \"\"\n      }\n    },\n    {\n      \"column\": \"F15\",\n      \"properties\": {\n        \"dtype\": \"number\",\n        \"std\": 578,\n        \"min\": 0,\n        \"max\": 2050,\n        \"num_unique_values\": 792,\n        \"samples\": [\n          706,\n          1334,\n          945\n        ],\n        \"semantic_type\": \"\",\n        \"description\": \"\"\n      }\n    },\n    {\n      \"column\": \"Target1\",\n      \"properties\": {\n        \"dtype\": \"number\",\n        \"std\": 0.06753844950219955,\n        \"min\": 0.656,\n        \"max\": 0.993,\n        \"num_unique_values\": 281,\n        \"samples\": [\n          0.826,\n          0.774,\n          0.945\n        ],\n        \"semantic_type\": \"\",\n        \"description\": \"\"\n      }\n    },\n    {\n      \"column\": \"Target2\",\n      \"properties\": {\n        \"dtype\": \"number\",\n        \"std\": 0.5427722632133236,\n        \"min\": 0.191,\n        \"max\": 2.088,\n        \"num_unique_values\": 732,\n        \"samples\": [\n          1.485,\n          0.39,\n          0.551\n        ],\n        \"semantic_type\": \"\",\n        \"description\": \"\"\n      }\n    },\n    {\n      \"column\": \"Target3\",\n      \"properties\": {\n        \"dtype\": \"number\",\n        \"std\": 5.434580448816141,\n        \"min\": 54.1,\n        \"max\": 80.7,\n        \"num_unique_values\": 235,\n        \"samples\": [\n          61.4,\n          72.8,\n          70.0\n        ],\n        \"semantic_type\": \"\",\n        \"description\": \"\"\n      }\n    },\n    {\n      \"column\": \"Target4\",\n      \"properties\": {\n        \"dtype\": \"number\",\n        \"std\": 2.2919060883722797,\n        \"min\": 2.0,\n        \"max\": 10.27,\n        \"num_unique_values\": 585,\n        \"samples\": [\n          3.58,\n          6.93,\n          6.43\n        ],\n        \"semantic_type\": \"\",\n        \"description\": \"\"\n      }\n    },\n    {\n      \"column\": \"Target5\",\n      \"properties\": {\n        \"dtype\": \"number\",\n        \"std\": 44.421317488171,\n        \"min\": 2.84,\n        \"max\": 271.45,\n        \"num_unique_values\": 955,\n        \"samples\": [\n          51.36,\n          27.78,\n          28.74\n        ],\n        \"semantic_type\": \"\",\n        \"description\": \"\"\n      }\n    }\n  ]\n}"
            }
          },
          "metadata": {},
          "execution_count": 5
        }
      ],
      "source": [
        "df.head()"
      ]
    },
    {
      "cell_type": "code",
      "source": [
        "roll_number = 102203900\n",
        "last_digit = roll_number % 10"
      ],
      "metadata": {
        "id": "qol9VG_S7i3t"
      },
      "execution_count": 6,
      "outputs": []
    },
    {
      "cell_type": "markdown",
      "source": [
        "**Pre-process the dataset**"
      ],
      "metadata": {
        "id": "PzV7P7wwSAVg"
      }
    },
    {
      "cell_type": "code",
      "execution_count": 7,
      "metadata": {
        "colab": {
          "base_uri": "https://localhost:8080/"
        },
        "id": "omHxTTbsa41w",
        "outputId": "753fd2af-36db-4a8a-f95c-5f9bc856415c"
      },
      "outputs": [
        {
          "output_type": "stream",
          "name": "stdout",
          "text": [
            "Total null values: 0\n"
          ]
        }
      ],
      "source": [
        "# check for null values\n",
        "for col in df.columns:\n",
        "  if df[col].isnull().sum() > 0:\n",
        "    df[col] = df[col].fillna(df[col].mean())\n",
        "print(\"Total null values:\", df.isnull().sum().sum())"
      ]
    },
    {
      "cell_type": "code",
      "execution_count": 8,
      "metadata": {
        "id": "MHLUgeE-eeoY"
      },
      "outputs": [],
      "source": [
        "df = df.select_dtypes(include=['number'])"
      ]
    },
    {
      "cell_type": "code",
      "execution_count": 8,
      "metadata": {
        "colab": {
          "base_uri": "https://localhost:8080/",
          "height": 854
        },
        "id": "p4JkWkGNenGr",
        "outputId": "b4c2a799-67ba-4630-9750-70ffe3793ef3"
      },
      "outputs": [
        {
          "output_type": "display_data",
          "data": {
            "text/plain": [
              "<Figure size 1000x1000 with 20 Axes>"
            ],
            "image/png": "[encoded data removed]"
          },
          "metadata": {}
        }
      ],
      "source": [
        "df.hist(bins=20, figsize=(10, 10))\n",
        "plt.show()"
      ]
    },
    {
      "cell_type": "code",
      "execution_count": 9,
      "metadata": {
        "id": "s-ePSZCoe3a6"
      },
      "outputs": [],
      "source": [
        "for col in df.columns:\n",
        "  if df[col].dtype == 'object':\n",
        "    df[col] = pd.to_numeric(df[col], errors='coerce')"
      ]
    },
    {
      "cell_type": "code",
      "execution_count": 10,
      "metadata": {
        "colab": {
          "base_uri": "https://localhost:8080/",
          "height": 1000
        },
        "id": "GsyYMziJe9p3",
        "outputId": "ee899221-2c17-4912-c7fe-c56195874fb2"
      },
      "outputs": [
        {
          "output_type": "display_data",
          "data": {
            "text/plain": [
              "<Figure size 1200x1200 with 1 Axes>"
            ],
            "image/png": "[encoded data removed]"
          },
          "metadata": {}
        }
      ],
      "source": [
        "corr = df.corr()\n",
        "plt.figure(figsize=(12, 12))\n",
        "sns.heatmap(corr > 0.7, annot=True, cbar=False)\n",
        "plt.show()"
      ]
    },
    {
      "cell_type": "code",
      "execution_count": 11,
      "metadata": {
        "colab": {
          "base_uri": "https://localhost:8080/"
        },
        "id": "XgJEdZtbiC3M",
        "outputId": "d51810ef-7982-4418-fac2-bbe738e85ac7"
      },
      "outputs": [
        {
          "output_type": "stream",
          "name": "stdout",
          "text": [
            "Index(['F1', 'F2', 'F3', 'F4', 'F5', 'F6', 'F7', 'F8', 'F9', 'F10', 'F11',\n",
            "       'F12', 'F13', 'F14', 'F15', 'Target1', 'Target2', 'Target3', 'Target4',\n",
            "       'Target5'],\n",
            "      dtype='object')\n"
          ]
        }
      ],
      "source": [
        "print(df.columns)"
      ]
    },
    {
      "cell_type": "code",
      "execution_count": 12,
      "metadata": {
        "id": "ANM3udNCha5Y"
      },
      "outputs": [],
      "source": [
        "df['Target'] = df['Target1']\n",
        "df = df.drop(columns=['Target2','Target3','Target4','Target5','Target1'])"
      ]
    },
    {
      "cell_type": "code",
      "execution_count": 1,
      "metadata": {
        "colab": {
          "base_uri": "https://localhost:8080/"
        },
        "id": "s0ofJecRfjcl",
        "outputId": "c4aac198-53ed-4f19-9d07-9013d1726778"
      },
      "outputs": [
        {
          "output_type": "stream",
          "name": "stdout",
          "text": [
            "Requirement already satisfied: pycaret in /usr/local/lib/python3.10/dist-packages (3.3.2)\n",
            "Requirement already satisfied: ipython>=5.5.0 in /usr/local/lib/python3.10/dist-packages (from pycaret) (7.34.0)\n",
            "Requirement already satisfied: ipywidgets>=7.6.5 in /usr/local/lib/python3.10/dist-packages (from pycaret) (7.7.1)\n",
            "Requirement already satisfied: tqdm>=4.62.0 in /usr/local/lib/python3.10/dist-packages (from pycaret) (4.67.1)\n",
            "Requirement already satisfied: numpy<1.27,>=1.21 in /usr/local/lib/python3.10/dist-packages (from pycaret) (1.26.4)\n",
            "Requirement already satisfied: pandas<2.2.0 in /usr/local/lib/python3.10/dist-packages (from pycaret) (2.1.4)\n",
            "Requirement already satisfied: jinja2>=3 in /usr/local/lib/python3.10/dist-packages (from pycaret) (3.1.4)\n",
            "Requirement already satisfied: scipy<=1.11.4,>=1.6.1 in /usr/local/lib/python3.10/dist-packages (from pycaret) (1.11.4)\n",
            "Requirement already satisfied: joblib<1.4,>=1.2.0 in /usr/local/lib/python3.10/dist-packages (from pycaret) (1.3.2)\n",
            "Requirement already satisfied: scikit-learn>1.4.0 in /usr/local/lib/python3.10/dist-packages (from pycaret) (1.4.2)\n",
            "Requirement already satisfied: pyod>=1.1.3 in /usr/local/lib/python3.10/dist-packages (from pycaret) (2.0.2)\n",
            "Requirement already satisfied: imbalanced-learn>=0.12.0 in /usr/local/lib/python3.10/dist-packages (from pycaret) (0.12.4)\n",
            "Requirement already satisfied: category-encoders>=2.4.0 in /usr/local/lib/python3.10/dist-packages (from pycaret) (2.6.4)\n",
            "Requirement already satisfied: lightgbm>=3.0.0 in /usr/local/lib/python3.10/dist-packages (from pycaret) (4.5.0)\n",
            "Requirement already satisfied: numba>=0.55.0 in /usr/local/lib/python3.10/dist-packages (from pycaret) (0.60.0)\n",
            "Requirement already satisfied: requests>=2.27.1 in /usr/local/lib/python3.10/dist-packages (from pycaret) (2.32.3)\n",
            "Requirement already satisfied: psutil>=5.9.0 in /usr/local/lib/python3.10/dist-packages (from pycaret) (5.9.5)\n",
            "Requirement already satisfied: markupsafe>=2.0.1 in /usr/local/lib/python3.10/dist-packages (from pycaret) (3.0.2)\n",
            "Requirement already satisfied: importlib-metadata>=4.12.0 in /usr/local/lib/python3.10/dist-packages (from pycaret) (8.5.0)\n",
            "Requirement already satisfied: nbformat>=4.2.0 in /usr/local/lib/python3.10/dist-packages (from pycaret) (5.10.4)\n",
            "Requirement already satisfied: cloudpickle in /usr/local/lib/python3.10/dist-packages (from pycaret) (3.1.0)\n",
            "Requirement already satisfied: deprecation>=2.1.0 in /usr/local/lib/python3.10/dist-packages (from pycaret) (2.1.0)\n",
            "Requirement already satisfied: xxhash in /usr/local/lib/python3.10/dist-packages (from pycaret) (3.5.0)\n",
            "Requirement already satisfied: matplotlib<3.8.0 in /usr/local/lib/python3.10/dist-packages (from pycaret) (3.7.5)\n",
            "Requirement already satisfied: scikit-plot>=0.3.7 in /usr/local/lib/python3.10/dist-packages (from pycaret) (0.3.7)\n",
            "Requirement already satisfied: yellowbrick>=1.4 in /usr/local/lib/python3.10/dist-packages (from pycaret) (1.5)\n",
            "Requirement already satisfied: plotly>=5.14.0 in /usr/local/lib/python3.10/dist-packages (from pycaret) (5.24.1)\n",
            "Requirement already satisfied: kaleido>=0.2.1 in /usr/local/lib/python3.10/dist-packages (from pycaret) (0.2.1)\n",
            "Requirement already satisfied: schemdraw==0.15 in /usr/local/lib/python3.10/dist-packages (from pycaret) (0.15)\n",
            "Requirement already satisfied: plotly-resampler>=0.8.3.1 in /usr/local/lib/python3.10/dist-packages (from pycaret) (0.10.0)\n",
            "Requirement already satisfied: statsmodels>=0.12.1 in /usr/local/lib/python3.10/dist-packages (from pycaret) (0.14.4)\n",
            "Requirement already satisfied: sktime==0.26.0 in /usr/local/lib/python3.10/dist-packages (from pycaret) (0.26.0)\n",
            "Requirement already satisfied: tbats>=1.1.3 in /usr/local/lib/python3.10/dist-packages (from pycaret) (1.1.3)\n",
            "Requirement already satisfied: pmdarima>=2.0.4 in /usr/local/lib/python3.10/dist-packages (from pycaret) (2.0.4)\n",
            "Requirement already satisfied: wurlitzer in /usr/local/lib/python3.10/dist-packages (from pycaret) (3.1.1)\n",
            "Requirement already satisfied: packaging in /usr/local/lib/python3.10/dist-packages (from sktime==0.26.0->pycaret) (24.2)\n",
            "Requirement already satisfied: scikit-base<0.8.0 in /usr/local/lib/python3.10/dist-packages (from sktime==0.26.0->pycaret) (0.7.8)\n",
            "Requirement already satisfied: patsy>=0.5.1 in /usr/local/lib/python3.10/dist-packages (from category-encoders>=2.4.0->pycaret) (1.0.1)\n",
            "Requirement already satisfied: threadpoolctl>=2.0.0 in /usr/local/lib/python3.10/dist-packages (from imbalanced-learn>=0.12.0->pycaret) (3.5.0)\n",
            "Requirement already satisfied: zipp>=3.20 in /usr/local/lib/python3.10/dist-packages (from importlib-metadata>=4.12.0->pycaret) (3.21.0)\n",
            "Requirement already satisfied: setuptools>=18.5 in /usr/local/lib/python3.10/dist-packages (from ipython>=5.5.0->pycaret) (75.1.0)\n",
            "Requirement already satisfied: jedi>=0.16 in /usr/local/lib/python3.10/dist-packages (from ipython>=5.5.0->pycaret) (0.19.2)\n",
            "Requirement already satisfied: decorator in /usr/local/lib/python3.10/dist-packages (from ipython>=5.5.0->pycaret) (4.4.2)\n",
            "Requirement already satisfied: pickleshare in /usr/local/lib/python3.10/dist-packages (from ipython>=5.5.0->pycaret) (0.7.5)\n",
            "Requirement already satisfied: traitlets>=4.2 in /usr/local/lib/python3.10/dist-packages (from ipython>=5.5.0->pycaret) (5.7.1)\n",
            "Requirement already satisfied: prompt-toolkit!=3.0.0,!=3.0.1,<3.1.0,>=2.0.0 in /usr/local/lib/python3.10/dist-packages (from ipython>=5.5.0->pycaret) (3.0.48)\n",
            "Requirement already satisfied: pygments in /usr/local/lib/python3.10/dist-packages (from ipython>=5.5.0->pycaret) (2.18.0)\n",
            "Requirement already satisfied: backcall in /usr/local/lib/python3.10/dist-packages (from ipython>=5.5.0->pycaret) (0.2.0)\n",
            "Requirement already satisfied: matplotlib-inline in /usr/local/lib/python3.10/dist-packages (from ipython>=5.5.0->pycaret) (0.1.7)\n",
            "Requirement already satisfied: pexpect>4.3 in /usr/local/lib/python3.10/dist-packages (from ipython>=5.5.0->pycaret) (4.9.0)\n",
            "Requirement already satisfied: ipykernel>=4.5.1 in /usr/local/lib/python3.10/dist-packages (from ipywidgets>=7.6.5->pycaret) (5.5.6)\n",
            "Requirement already satisfied: ipython-genutils~=0.2.0 in /usr/local/lib/python3.10/dist-packages (from ipywidgets>=7.6.5->pycaret) (0.2.0)\n",
            "Requirement already satisfied: widgetsnbextension~=3.6.0 in /usr/local/lib/python3.10/dist-packages (from ipywidgets>=7.6.5->pycaret) (3.6.10)\n",
            "Requirement already satisfied: jupyterlab-widgets>=1.0.0 in /usr/local/lib/python3.10/dist-packages (from ipywidgets>=7.6.5->pycaret) (3.0.13)\n",
            "Requirement already satisfied: contourpy>=1.0.1 in /usr/local/lib/python3.10/dist-packages (from matplotlib<3.8.0->pycaret) (1.3.1)\n",
            "Requirement already satisfied: cycler>=0.10 in /usr/local/lib/python3.10/dist-packages (from matplotlib<3.8.0->pycaret) (0.12.1)\n",
            "Requirement already satisfied: fonttools>=4.22.0 in /usr/local/lib/python3.10/dist-packages (from matplotlib<3.8.0->pycaret) (4.55.3)\n",
            "Requirement already satisfied: kiwisolver>=1.0.1 in /usr/local/lib/python3.10/dist-packages (from matplotlib<3.8.0->pycaret) (1.4.7)\n",
            "Requirement already satisfied: pillow>=6.2.0 in /usr/local/lib/python3.10/dist-packages (from matplotlib<3.8.0->pycaret) (11.0.0)\n",
            "Requirement already satisfied: pyparsing>=2.3.1 in /usr/local/lib/python3.10/dist-packages (from matplotlib<3.8.0->pycaret) (3.2.0)\n",
            "Requirement already satisfied: python-dateutil>=2.7 in /usr/local/lib/python3.10/dist-packages (from matplotlib<3.8.0->pycaret) (2.8.2)\n",
            "Requirement already satisfied: fastjsonschema>=2.15 in /usr/local/lib/python3.10/dist-packages (from nbformat>=4.2.0->pycaret) (2.21.1)\n",
            "Requirement already satisfied: jsonschema>=2.6 in /usr/local/lib/python3.10/dist-packages (from nbformat>=4.2.0->pycaret) (4.23.0)\n",
            "Requirement already satisfied: jupyter-core!=5.0.*,>=4.12 in /usr/local/lib/python3.10/dist-packages (from nbformat>=4.2.0->pycaret) (5.7.2)\n",
            "Requirement already satisfied: llvmlite<0.44,>=0.43.0dev0 in /usr/local/lib/python3.10/dist-packages (from numba>=0.55.0->pycaret) (0.43.0)\n",
            "Requirement already satisfied: pytz>=2020.1 in /usr/local/lib/python3.10/dist-packages (from pandas<2.2.0->pycaret) (2024.2)\n",
            "Requirement already satisfied: tzdata>=2022.1 in /usr/local/lib/python3.10/dist-packages (from pandas<2.2.0->pycaret) (2024.2)\n",
            "Requirement already satisfied: tenacity>=6.2.0 in /usr/local/lib/python3.10/dist-packages (from plotly>=5.14.0->pycaret) (9.0.0)\n",
            "Requirement already satisfied: dash>=2.9.0 in /usr/local/lib/python3.10/dist-packages (from plotly-resampler>=0.8.3.1->pycaret) (2.18.2)\n",
            "Requirement already satisfied: orjson<4.0.0,>=3.8.0 in /usr/local/lib/python3.10/dist-packages (from plotly-resampler>=0.8.3.1->pycaret) (3.10.12)\n",
            "Requirement already satisfied: tsdownsample>=0.1.3 in /usr/local/lib/python3.10/dist-packages (from plotly-resampler>=0.8.3.1->pycaret) (0.1.3)\n",
            "Requirement already satisfied: Cython!=0.29.18,!=0.29.31,>=0.29 in /usr/local/lib/python3.10/dist-packages (from pmdarima>=2.0.4->pycaret) (3.0.11)\n",
            "Requirement already satisfied: urllib3 in /usr/local/lib/python3.10/dist-packages (from pmdarima>=2.0.4->pycaret) (2.2.3)\n",
            "Requirement already satisfied: charset-normalizer<4,>=2 in /usr/local/lib/python3.10/dist-packages (from requests>=2.27.1->pycaret) (3.4.0)\n",
            "Requirement already satisfied: idna<4,>=2.5 in /usr/local/lib/python3.10/dist-packages (from requests>=2.27.1->pycaret) (3.10)\n",
            "Requirement already satisfied: certifi>=2017.4.17 in /usr/local/lib/python3.10/dist-packages (from requests>=2.27.1->pycaret) (2024.12.14)\n",
            "Requirement already satisfied: Flask<3.1,>=1.0.4 in /usr/local/lib/python3.10/dist-packages (from dash>=2.9.0->plotly-resampler>=0.8.3.1->pycaret) (3.0.3)\n",
            "Requirement already satisfied: Werkzeug<3.1 in /usr/local/lib/python3.10/dist-packages (from dash>=2.9.0->plotly-resampler>=0.8.3.1->pycaret) (3.0.6)\n",
            "Requirement already satisfied: dash-html-components==2.0.0 in /usr/local/lib/python3.10/dist-packages (from dash>=2.9.0->plotly-resampler>=0.8.3.1->pycaret) (2.0.0)\n",
            "Requirement already satisfied: dash-core-components==2.0.0 in /usr/local/lib/python3.10/dist-packages (from dash>=2.9.0->plotly-resampler>=0.8.3.1->pycaret) (2.0.0)\n",
            "Requirement already satisfied: dash-table==5.0.0 in /usr/local/lib/python3.10/dist-packages (from dash>=2.9.0->plotly-resampler>=0.8.3.1->pycaret) (5.0.0)\n",
            "Requirement already satisfied: typing-extensions>=4.1.1 in /usr/local/lib/python3.10/dist-packages (from dash>=2.9.0->plotly-resampler>=0.8.3.1->pycaret) (4.12.2)\n",
            "Requirement already satisfied: retrying in /usr/local/lib/python3.10/dist-packages (from dash>=2.9.0->plotly-resampler>=0.8.3.1->pycaret) (1.3.4)\n",
            "Requirement already satisfied: nest-asyncio in /usr/local/lib/python3.10/dist-packages (from dash>=2.9.0->plotly-resampler>=0.8.3.1->pycaret) (1.6.0)\n",
            "Requirement already satisfied: jupyter-client in /usr/local/lib/python3.10/dist-packages (from ipykernel>=4.5.1->ipywidgets>=7.6.5->pycaret) (6.1.12)\n",
            "Requirement already satisfied: tornado>=4.2 in /usr/local/lib/python3.10/dist-packages (from ipykernel>=4.5.1->ipywidgets>=7.6.5->pycaret) (6.3.3)\n",
            "Requirement already satisfied: parso<0.9.0,>=0.8.4 in /usr/local/lib/python3.10/dist-packages (from jedi>=0.16->ipython>=5.5.0->pycaret) (0.8.4)\n",
            "Requirement already satisfied: attrs>=22.2.0 in /usr/local/lib/python3.10/dist-packages (from jsonschema>=2.6->nbformat>=4.2.0->pycaret) (24.3.0)\n",
            "Requirement already satisfied: jsonschema-specifications>=2023.03.6 in /usr/local/lib/python3.10/dist-packages (from jsonschema>=2.6->nbformat>=4.2.0->pycaret) (2024.10.1)\n",
            "Requirement already satisfied: referencing>=0.28.4 in /usr/local/lib/python3.10/dist-packages (from jsonschema>=2.6->nbformat>=4.2.0->pycaret) (0.35.1)\n",
            "Requirement already satisfied: rpds-py>=0.7.1 in /usr/local/lib/python3.10/dist-packages (from jsonschema>=2.6->nbformat>=4.2.0->pycaret) (0.22.3)\n",
            "Requirement already satisfied: platformdirs>=2.5 in /usr/local/lib/python3.10/dist-packages (from jupyter-core!=5.0.*,>=4.12->nbformat>=4.2.0->pycaret) (4.3.6)\n",
            "Requirement already satisfied: ptyprocess>=0.5 in /usr/local/lib/python3.10/dist-packages (from pexpect>4.3->ipython>=5.5.0->pycaret) (0.7.0)\n",
            "Requirement already satisfied: wcwidth in /usr/local/lib/python3.10/dist-packages (from prompt-toolkit!=3.0.0,!=3.0.1,<3.1.0,>=2.0.0->ipython>=5.5.0->pycaret) (0.2.13)\n",
            "Requirement already satisfied: six>=1.5 in /usr/local/lib/python3.10/dist-packages (from python-dateutil>=2.7->matplotlib<3.8.0->pycaret) (1.17.0)\n",
            "Requirement already satisfied: notebook>=4.4.1 in /usr/local/lib/python3.10/dist-packages (from widgetsnbextension~=3.6.0->ipywidgets>=7.6.5->pycaret) (6.5.5)\n",
            "Requirement already satisfied: itsdangerous>=2.1.2 in /usr/local/lib/python3.10/dist-packages (from Flask<3.1,>=1.0.4->dash>=2.9.0->plotly-resampler>=0.8.3.1->pycaret) (2.2.0)\n",
            "Requirement already satisfied: click>=8.1.3 in /usr/local/lib/python3.10/dist-packages (from Flask<3.1,>=1.0.4->dash>=2.9.0->plotly-resampler>=0.8.3.1->pycaret) (8.1.7)\n",
            "Requirement already satisfied: blinker>=1.6.2 in /usr/local/lib/python3.10/dist-packages (from Flask<3.1,>=1.0.4->dash>=2.9.0->plotly-resampler>=0.8.3.1->pycaret) (1.9.0)\n",
            "Requirement already satisfied: pyzmq<25,>=17 in /usr/local/lib/python3.10/dist-packages (from notebook>=4.4.1->widgetsnbextension~=3.6.0->ipywidgets>=7.6.5->pycaret) (24.0.1)\n",
            "Requirement already satisfied: argon2-cffi in /usr/local/lib/python3.10/dist-packages (from notebook>=4.4.1->widgetsnbextension~=3.6.0->ipywidgets>=7.6.5->pycaret) (23.1.0)\n",
            "Requirement already satisfied: nbconvert>=5 in /usr/local/lib/python3.10/dist-packages (from notebook>=4.4.1->widgetsnbextension~=3.6.0->ipywidgets>=7.6.5->pycaret) (7.16.4)\n",
            "Requirement already satisfied: Send2Trash>=1.8.0 in /usr/local/lib/python3.10/dist-packages (from notebook>=4.4.1->widgetsnbextension~=3.6.0->ipywidgets>=7.6.5->pycaret) (1.8.3)\n",
            "Requirement already satisfied: terminado>=0.8.3 in /usr/local/lib/python3.10/dist-packages (from notebook>=4.4.1->widgetsnbextension~=3.6.0->ipywidgets>=7.6.5->pycaret) (0.18.1)\n",
            "Requirement already satisfied: prometheus-client in /usr/local/lib/python3.10/dist-packages (from notebook>=4.4.1->widgetsnbextension~=3.6.0->ipywidgets>=7.6.5->pycaret) (0.21.1)\n",
            "Requirement already satisfied: nbclassic>=0.4.7 in /usr/local/lib/python3.10/dist-packages (from notebook>=4.4.1->widgetsnbextension~=3.6.0->ipywidgets>=7.6.5->pycaret) (1.1.0)\n",
            "Requirement already satisfied: notebook-shim>=0.2.3 in /usr/local/lib/python3.10/dist-packages (from nbclassic>=0.4.7->notebook>=4.4.1->widgetsnbextension~=3.6.0->ipywidgets>=7.6.5->pycaret) (0.2.4)\n",
            "Requirement already satisfied: beautifulsoup4 in /usr/local/lib/python3.10/dist-packages (from nbconvert>=5->notebook>=4.4.1->widgetsnbextension~=3.6.0->ipywidgets>=7.6.5->pycaret) (4.12.3)\n",
            "Requirement already satisfied: bleach!=5.0.0 in /usr/local/lib/python3.10/dist-packages (from nbconvert>=5->notebook>=4.4.1->widgetsnbextension~=3.6.0->ipywidgets>=7.6.5->pycaret) (6.2.0)\n",
            "Requirement already satisfied: defusedxml in /usr/local/lib/python3.10/dist-packages (from nbconvert>=5->notebook>=4.4.1->widgetsnbextension~=3.6.0->ipywidgets>=7.6.5->pycaret) (0.7.1)\n",
            "Requirement already satisfied: jupyterlab-pygments in /usr/local/lib/python3.10/dist-packages (from nbconvert>=5->notebook>=4.4.1->widgetsnbextension~=3.6.0->ipywidgets>=7.6.5->pycaret) (0.3.0)\n",
            "Requirement already satisfied: mistune<4,>=2.0.3 in /usr/local/lib/python3.10/dist-packages (from nbconvert>=5->notebook>=4.4.1->widgetsnbextension~=3.6.0->ipywidgets>=7.6.5->pycaret) (3.0.2)\n",
            "Requirement already satisfied: nbclient>=0.5.0 in /usr/local/lib/python3.10/dist-packages (from nbconvert>=5->notebook>=4.4.1->widgetsnbextension~=3.6.0->ipywidgets>=7.6.5->pycaret) (0.10.1)\n",
            "Requirement already satisfied: pandocfilters>=1.4.1 in /usr/local/lib/python3.10/dist-packages (from nbconvert>=5->notebook>=4.4.1->widgetsnbextension~=3.6.0->ipywidgets>=7.6.5->pycaret) (1.5.1)\n",
            "Requirement already satisfied: tinycss2 in /usr/local/lib/python3.10/dist-packages (from nbconvert>=5->notebook>=4.4.1->widgetsnbextension~=3.6.0->ipywidgets>=7.6.5->pycaret) (1.4.0)\n",
            "Requirement already satisfied: argon2-cffi-bindings in /usr/local/lib/python3.10/dist-packages (from argon2-cffi->notebook>=4.4.1->widgetsnbextension~=3.6.0->ipywidgets>=7.6.5->pycaret) (21.2.0)\n",
            "Requirement already satisfied: webencodings in /usr/local/lib/python3.10/dist-packages (from bleach!=5.0.0->nbconvert>=5->notebook>=4.4.1->widgetsnbextension~=3.6.0->ipywidgets>=7.6.5->pycaret) (0.5.1)\n",
            "Requirement already satisfied: jupyter-server<3,>=1.8 in /usr/local/lib/python3.10/dist-packages (from notebook-shim>=0.2.3->nbclassic>=0.4.7->notebook>=4.4.1->widgetsnbextension~=3.6.0->ipywidgets>=7.6.5->pycaret) (1.24.0)\n",
            "Requirement already satisfied: cffi>=1.0.1 in /usr/local/lib/python3.10/dist-packages (from argon2-cffi-bindings->argon2-cffi->notebook>=4.4.1->widgetsnbextension~=3.6.0->ipywidgets>=7.6.5->pycaret) (1.17.1)\n",
            "Requirement already satisfied: soupsieve>1.2 in /usr/local/lib/python3.10/dist-packages (from beautifulsoup4->nbconvert>=5->notebook>=4.4.1->widgetsnbextension~=3.6.0->ipywidgets>=7.6.5->pycaret) (2.6)\n",
            "Requirement already satisfied: pycparser in /usr/local/lib/python3.10/dist-packages (from cffi>=1.0.1->argon2-cffi-bindings->argon2-cffi->notebook>=4.4.1->widgetsnbextension~=3.6.0->ipywidgets>=7.6.5->pycaret) (2.22)\n",
            "Requirement already satisfied: anyio<4,>=3.1.0 in /usr/local/lib/python3.10/dist-packages (from jupyter-server<3,>=1.8->notebook-shim>=0.2.3->nbclassic>=0.4.7->notebook>=4.4.1->widgetsnbextension~=3.6.0->ipywidgets>=7.6.5->pycaret) (3.7.1)\n",
            "Requirement already satisfied: websocket-client in /usr/local/lib/python3.10/dist-packages (from jupyter-server<3,>=1.8->notebook-shim>=0.2.3->nbclassic>=0.4.7->notebook>=4.4.1->widgetsnbextension~=3.6.0->ipywidgets>=7.6.5->pycaret) (1.8.0)\n",
            "Requirement already satisfied: sniffio>=1.1 in /usr/local/lib/python3.10/dist-packages (from anyio<4,>=3.1.0->jupyter-server<3,>=1.8->notebook-shim>=0.2.3->nbclassic>=0.4.7->notebook>=4.4.1->widgetsnbextension~=3.6.0->ipywidgets>=7.6.5->pycaret) (1.3.1)\n",
            "Requirement already satisfied: exceptiongroup in /usr/local/lib/python3.10/dist-packages (from anyio<4,>=3.1.0->jupyter-server<3,>=1.8->notebook-shim>=0.2.3->nbclassic>=0.4.7->notebook>=4.4.1->widgetsnbextension~=3.6.0->ipywidgets>=7.6.5->pycaret) (1.2.2)\n"
          ]
        }
      ],
      "source": [
        "# install pycaret to compare models\n",
        "!pip install pycaret"
      ]
    },
    {
      "cell_type": "code",
      "execution_count": 13,
      "metadata": {
        "colab": {
          "base_uri": "https://localhost:8080/"
        },
        "id": "K0_Gl4wCjMK5",
        "outputId": "f017e327-1686-4c38-f8d7-385547a5e634"
      },
      "outputs": [
        {
          "output_type": "stream",
          "name": "stdout",
          "text": [
            "Target\n",
            "0.857    11\n",
            "0.872    11\n",
            "0.868    10\n",
            "0.896    10\n",
            "0.838    10\n",
            "         ..\n",
            "0.696     1\n",
            "0.716     1\n",
            "0.963     1\n",
            "0.983     1\n",
            "0.752     1\n",
            "Name: count, Length: 281, dtype: int64\n"
          ]
        }
      ],
      "source": [
        "print(df['Target'].value_counts())"
      ]
    },
    {
      "cell_type": "code",
      "execution_count": 14,
      "metadata": {
        "id": "_LD5Fe-Zgdgx"
      },
      "outputs": [],
      "source": [
        "from pycaret.regression import setup, compare_models, pull, finalize_model, predict_model"
      ]
    },
    {
      "cell_type": "code",
      "source": [
        "# Initialize for regression\n",
        "reg_setup = setup(data=df, target='Target', session_id=42, preprocess=True, verbose=False)"
      ],
      "metadata": {
        "id": "8pY_M4Rb0KVf"
      },
      "execution_count": 15,
      "outputs": []
    },
    {
      "cell_type": "code",
      "execution_count": 16,
      "metadata": {
        "colab": {
          "base_uri": "https://localhost:8080/"
        },
        "id": "jyB-4LWwko4V",
        "outputId": "269a1d44-3207-47dd-b7d1-a99dfcd47be0"
      },
      "outputs": [
        {
          "output_type": "stream",
          "name": "stdout",
          "text": [
            "Index(['F1', 'F2', 'F3', 'F4', 'F5', 'F6', 'F7', 'F8', 'F9', 'F10', 'F11',\n",
            "       'F12', 'F13', 'F14', 'F15', 'Target'],\n",
            "      dtype='object')\n"
          ]
        }
      ],
      "source": [
        "print(df.columns)"
      ]
    },
    {
      "cell_type": "code",
      "source": [
        "best_models = compare_models(sort='R2', n_select=10, fold=5)"
      ],
      "metadata": {
        "colab": {
          "base_uri": "https://localhost:8080/",
          "height": 820,
          "referenced_widgets": [
            "e5791eb9403640e08c910fd58c9c7706",
            "09fabc11cc594759bbcd8373fcf32bd5",
            "7cf7b64315d34d75b8b8bd3a8aad3754",
            "551ce5cedbee43cbb262d7ddfc4d745e",
            "6d3652f7f0a84becade2b547a51b4e4f",
            "d0688bb33467432fb4cf066385b1475a",
            "73f4d34009d34226853073415ce6362e",
            "32c585e5ae1944fcb634c347bdafbd81",
            "2c160475c96146c7aa653246e299a23f",
            "eaa3ef15544d4257bb0af5692b3aa828",
            "e0cad63d5b5f4e769712962ecc08f1e7"
          ]
        },
        "id": "6UQPlQAe0RKN",
        "outputId": "883b5181-e7bb-41de-e08f-5fc428f16f53"
      },
      "execution_count": 17,
      "outputs": [
        {
          "output_type": "display_data",
          "data": {
            "text/plain": [
              "<IPython.core.display.HTML object>"
            ],
            "text/html": []
          },
          "metadata": {}
        },
        {
          "output_type": "display_data",
          "data": {
            "text/plain": [
              "<pandas.io.formats.style.Styler at 0x78c8a40f4eb0>"
            ],
            "text/html": [
              "<style type=\"text/css\">\n",
              "#T_42821 th {\n",
              "  text-align: left;\n",
              "}\n",
              "#T_42821_row0_col0, #T_42821_row1_col0, #T_42821_row1_col1, #T_42821_row1_col2, #T_42821_row1_col3, #T_42821_row1_col4, #T_42821_row1_col5, #T_42821_row1_col6, #T_42821_row2_col0, #T_42821_row2_col1, #T_42821_row2_col2, #T_42821_row2_col3, #T_42821_row2_col4, #T_42821_row2_col5, #T_42821_row2_col6, #T_42821_row3_col0, #T_42821_row3_col1, #T_42821_row3_col2, #T_42821_row3_col3, #T_42821_row3_col4, #T_42821_row3_col5, #T_42821_row3_col6, #T_42821_row4_col0, #T_42821_row4_col1, #T_42821_row4_col2, #T_42821_row4_col3, #T_42821_row4_col4, #T_42821_row4_col5, #T_42821_row4_col6, #T_42821_row5_col0, #T_42821_row5_col1, #T_42821_row5_col2, #T_42821_row5_col3, #T_42821_row5_col4, #T_42821_row5_col5, #T_42821_row5_col6, #T_42821_row6_col0, #T_42821_row6_col1, #T_42821_row6_col2, #T_42821_row6_col3, #T_42821_row6_col4, #T_42821_row6_col5, #T_42821_row6_col6, #T_42821_row7_col0, #T_42821_row7_col1, #T_42821_row7_col2, #T_42821_row7_col3, #T_42821_row7_col4, #T_42821_row7_col5, #T_42821_row7_col6, #T_42821_row8_col0, #T_42821_row8_col1, #T_42821_row8_col2, #T_42821_row8_col3, #T_42821_row8_col4, #T_42821_row8_col5, #T_42821_row8_col6, #T_42821_row9_col0, #T_42821_row9_col1, #T_42821_row9_col2, #T_42821_row9_col3, #T_42821_row9_col4, #T_42821_row9_col5, #T_42821_row9_col6, #T_42821_row10_col0, #T_42821_row10_col1, #T_42821_row10_col2, #T_42821_row10_col3, #T_42821_row10_col4, #T_42821_row10_col5, #T_42821_row10_col6, #T_42821_row11_col0, #T_42821_row11_col1, #T_42821_row11_col2, #T_42821_row11_col3, #T_42821_row11_col4, #T_42821_row11_col5, #T_42821_row11_col6, #T_42821_row12_col0, #T_42821_row12_col1, #T_42821_row12_col2, #T_42821_row12_col3, #T_42821_row12_col4, #T_42821_row12_col5, #T_42821_row12_col6, #T_42821_row13_col0, #T_42821_row13_col1, #T_42821_row13_col2, #T_42821_row13_col3, #T_42821_row13_col4, #T_42821_row13_col5, #T_42821_row13_col6, #T_42821_row14_col0, #T_42821_row14_col1, #T_42821_row14_col2, #T_42821_row14_col3, #T_42821_row14_col4, #T_42821_row14_col5, #T_42821_row14_col6, #T_42821_row15_col0, #T_42821_row15_col1, #T_42821_row15_col2, #T_42821_row15_col3, #T_42821_row15_col4, #T_42821_row15_col5, #T_42821_row15_col6, #T_42821_row16_col0, #T_42821_row16_col1, #T_42821_row16_col2, #T_42821_row16_col3, #T_42821_row16_col4, #T_42821_row16_col5, #T_42821_row16_col6, #T_42821_row17_col0, #T_42821_row17_col1, #T_42821_row17_col2, #T_42821_row17_col3, #T_42821_row17_col4, #T_42821_row17_col5, #T_42821_row17_col6, #T_42821_row18_col0, #T_42821_row18_col1, #T_42821_row18_col2, #T_42821_row18_col3, #T_42821_row18_col4, #T_42821_row18_col5, #T_42821_row18_col6 {\n",
              "  text-align: left;\n",
              "}\n",
              "#T_42821_row0_col1, #T_42821_row0_col2, #T_42821_row0_col3, #T_42821_row0_col4, #T_42821_row0_col5, #T_42821_row0_col6 {\n",
              "  text-align: left;\n",
              "  background-color: yellow;\n",
              "}\n",
              "#T_42821_row0_col7, #T_42821_row1_col7, #T_42821_row2_col7, #T_42821_row4_col7, #T_42821_row5_col7, #T_42821_row6_col7, #T_42821_row7_col7, #T_42821_row8_col7, #T_42821_row9_col7, #T_42821_row11_col7, #T_42821_row12_col7, #T_42821_row13_col7, #T_42821_row14_col7, #T_42821_row15_col7, #T_42821_row16_col7, #T_42821_row17_col7, #T_42821_row18_col7 {\n",
              "  text-align: left;\n",
              "  background-color: lightgrey;\n",
              "}\n",
              "#T_42821_row3_col7, #T_42821_row10_col7 {\n",
              "  text-align: left;\n",
              "  background-color: yellow;\n",
              "  background-color: lightgrey;\n",
              "}\n",
              "</style>\n",
              "<table id=\"T_42821\" class=\"dataframe\">\n",
              "  <thead>\n",
              "    <tr>\n",
              "      <th class=\"blank level0\" >&nbsp;</th>\n",
              "      <th id=\"T_42821_level0_col0\" class=\"col_heading level0 col0\" >Model</th>\n",
              "      <th id=\"T_42821_level0_col1\" class=\"col_heading level0 col1\" >MAE</th>\n",
              "      <th id=\"T_42821_level0_col2\" class=\"col_heading level0 col2\" >MSE</th>\n",
              "      <th id=\"T_42821_level0_col3\" class=\"col_heading level0 col3\" >RMSE</th>\n",
              "      <th id=\"T_42821_level0_col4\" class=\"col_heading level0 col4\" >R2</th>\n",
              "      <th id=\"T_42821_level0_col5\" class=\"col_heading level0 col5\" >RMSLE</th>\n",
              "      <th id=\"T_42821_level0_col6\" class=\"col_heading level0 col6\" >MAPE</th>\n",
              "      <th id=\"T_42821_level0_col7\" class=\"col_heading level0 col7\" >TT (Sec)</th>\n",
              "    </tr>\n",
              "  </thead>\n",
              "  <tbody>\n",
              "    <tr>\n",
              "      <th id=\"T_42821_level0_row0\" class=\"row_heading level0 row0\" >br</th>\n",
              "      <td id=\"T_42821_row0_col0\" class=\"data row0 col0\" >Bayesian Ridge</td>\n",
              "      <td id=\"T_42821_row0_col1\" class=\"data row0 col1\" >0.0507</td>\n",
              "      <td id=\"T_42821_row0_col2\" class=\"data row0 col2\" >0.0036</td>\n",
              "      <td id=\"T_42821_row0_col3\" class=\"data row0 col3\" >0.0603</td>\n",
              "      <td id=\"T_42821_row0_col4\" class=\"data row0 col4\" >0.1909</td>\n",
              "      <td id=\"T_42821_row0_col5\" class=\"data row0 col5\" >0.0329</td>\n",
              "      <td id=\"T_42821_row0_col6\" class=\"data row0 col6\" >0.0613</td>\n",
              "      <td id=\"T_42821_row0_col7\" class=\"data row0 col7\" >0.0240</td>\n",
              "    </tr>\n",
              "    <tr>\n",
              "      <th id=\"T_42821_level0_row1\" class=\"row_heading level0 row1\" >ridge</th>\n",
              "      <td id=\"T_42821_row1_col0\" class=\"data row1 col0\" >Ridge Regression</td>\n",
              "      <td id=\"T_42821_row1_col1\" class=\"data row1 col1\" >0.0509</td>\n",
              "      <td id=\"T_42821_row1_col2\" class=\"data row1 col2\" >0.0037</td>\n",
              "      <td id=\"T_42821_row1_col3\" class=\"data row1 col3\" >0.0606</td>\n",
              "      <td id=\"T_42821_row1_col4\" class=\"data row1 col4\" >0.1837</td>\n",
              "      <td id=\"T_42821_row1_col5\" class=\"data row1 col5\" >0.0331</td>\n",
              "      <td id=\"T_42821_row1_col6\" class=\"data row1 col6\" >0.0615</td>\n",
              "      <td id=\"T_42821_row1_col7\" class=\"data row1 col7\" >0.0380</td>\n",
              "    </tr>\n",
              "    <tr>\n",
              "      <th id=\"T_42821_level0_row2\" class=\"row_heading level0 row2\" >lr</th>\n",
              "      <td id=\"T_42821_row2_col0\" class=\"data row2 col0\" >Linear Regression</td>\n",
              "      <td id=\"T_42821_row2_col1\" class=\"data row2 col1\" >0.0509</td>\n",
              "      <td id=\"T_42821_row2_col2\" class=\"data row2 col2\" >0.0037</td>\n",
              "      <td id=\"T_42821_row2_col3\" class=\"data row2 col3\" >0.0606</td>\n",
              "      <td id=\"T_42821_row2_col4\" class=\"data row2 col4\" >0.1821</td>\n",
              "      <td id=\"T_42821_row2_col5\" class=\"data row2 col5\" >0.0331</td>\n",
              "      <td id=\"T_42821_row2_col6\" class=\"data row2 col6\" >0.0616</td>\n",
              "      <td id=\"T_42821_row2_col7\" class=\"data row2 col7\" >1.3140</td>\n",
              "    </tr>\n",
              "    <tr>\n",
              "      <th id=\"T_42821_level0_row3\" class=\"row_heading level0 row3\" >lar</th>\n",
              "      <td id=\"T_42821_row3_col0\" class=\"data row3 col0\" >Least Angle Regression</td>\n",
              "      <td id=\"T_42821_row3_col1\" class=\"data row3 col1\" >0.0510</td>\n",
              "      <td id=\"T_42821_row3_col2\" class=\"data row3 col2\" >0.0037</td>\n",
              "      <td id=\"T_42821_row3_col3\" class=\"data row3 col3\" >0.0607</td>\n",
              "      <td id=\"T_42821_row3_col4\" class=\"data row3 col4\" >0.1805</td>\n",
              "      <td id=\"T_42821_row3_col5\" class=\"data row3 col5\" >0.0331</td>\n",
              "      <td id=\"T_42821_row3_col6\" class=\"data row3 col6\" >0.0616</td>\n",
              "      <td id=\"T_42821_row3_col7\" class=\"data row3 col7\" >0.0220</td>\n",
              "    </tr>\n",
              "    <tr>\n",
              "      <th id=\"T_42821_level0_row4\" class=\"row_heading level0 row4\" >rf</th>\n",
              "      <td id=\"T_42821_row4_col0\" class=\"data row4 col0\" >Random Forest Regressor</td>\n",
              "      <td id=\"T_42821_row4_col1\" class=\"data row4 col1\" >0.0517</td>\n",
              "      <td id=\"T_42821_row4_col2\" class=\"data row4 col2\" >0.0038</td>\n",
              "      <td id=\"T_42821_row4_col3\" class=\"data row4 col3\" >0.0619</td>\n",
              "      <td id=\"T_42821_row4_col4\" class=\"data row4 col4\" >0.1461</td>\n",
              "      <td id=\"T_42821_row4_col5\" class=\"data row4 col5\" >0.0338</td>\n",
              "      <td id=\"T_42821_row4_col6\" class=\"data row4 col6\" >0.0625</td>\n",
              "      <td id=\"T_42821_row4_col7\" class=\"data row4 col7\" >0.6080</td>\n",
              "    </tr>\n",
              "    <tr>\n",
              "      <th id=\"T_42821_level0_row5\" class=\"row_heading level0 row5\" >et</th>\n",
              "      <td id=\"T_42821_row5_col0\" class=\"data row5 col0\" >Extra Trees Regressor</td>\n",
              "      <td id=\"T_42821_row5_col1\" class=\"data row5 col1\" >0.0518</td>\n",
              "      <td id=\"T_42821_row5_col2\" class=\"data row5 col2\" >0.0039</td>\n",
              "      <td id=\"T_42821_row5_col3\" class=\"data row5 col3\" >0.0621</td>\n",
              "      <td id=\"T_42821_row5_col4\" class=\"data row5 col4\" >0.1417</td>\n",
              "      <td id=\"T_42821_row5_col5\" class=\"data row5 col5\" >0.0339</td>\n",
              "      <td id=\"T_42821_row5_col6\" class=\"data row5 col6\" >0.0626</td>\n",
              "      <td id=\"T_42821_row5_col7\" class=\"data row5 col7\" >0.3120</td>\n",
              "    </tr>\n",
              "    <tr>\n",
              "      <th id=\"T_42821_level0_row6\" class=\"row_heading level0 row6\" >ada</th>\n",
              "      <td id=\"T_42821_row6_col0\" class=\"data row6 col0\" >AdaBoost Regressor</td>\n",
              "      <td id=\"T_42821_row6_col1\" class=\"data row6 col1\" >0.0522</td>\n",
              "      <td id=\"T_42821_row6_col2\" class=\"data row6 col2\" >0.0039</td>\n",
              "      <td id=\"T_42821_row6_col3\" class=\"data row6 col3\" >0.0622</td>\n",
              "      <td id=\"T_42821_row6_col4\" class=\"data row6 col4\" >0.1389</td>\n",
              "      <td id=\"T_42821_row6_col5\" class=\"data row6 col5\" >0.0339</td>\n",
              "      <td id=\"T_42821_row6_col6\" class=\"data row6 col6\" >0.0629</td>\n",
              "      <td id=\"T_42821_row6_col7\" class=\"data row6 col7\" >0.1620</td>\n",
              "    </tr>\n",
              "    <tr>\n",
              "      <th id=\"T_42821_level0_row7\" class=\"row_heading level0 row7\" >omp</th>\n",
              "      <td id=\"T_42821_row7_col0\" class=\"data row7 col0\" >Orthogonal Matching Pursuit</td>\n",
              "      <td id=\"T_42821_row7_col1\" class=\"data row7 col1\" >0.0534</td>\n",
              "      <td id=\"T_42821_row7_col2\" class=\"data row7 col2\" >0.0041</td>\n",
              "      <td id=\"T_42821_row7_col3\" class=\"data row7 col3\" >0.0639</td>\n",
              "      <td id=\"T_42821_row7_col4\" class=\"data row7 col4\" >0.0949</td>\n",
              "      <td id=\"T_42821_row7_col5\" class=\"data row7 col5\" >0.0349</td>\n",
              "      <td id=\"T_42821_row7_col6\" class=\"data row7 col6\" >0.0646</td>\n",
              "      <td id=\"T_42821_row7_col7\" class=\"data row7 col7\" >0.0260</td>\n",
              "    </tr>\n",
              "    <tr>\n",
              "      <th id=\"T_42821_level0_row8\" class=\"row_heading level0 row8\" >llar</th>\n",
              "      <td id=\"T_42821_row8_col0\" class=\"data row8 col0\" >Lasso Least Angle Regression</td>\n",
              "      <td id=\"T_42821_row8_col1\" class=\"data row8 col1\" >0.0534</td>\n",
              "      <td id=\"T_42821_row8_col2\" class=\"data row8 col2\" >0.0041</td>\n",
              "      <td id=\"T_42821_row8_col3\" class=\"data row8 col3\" >0.0639</td>\n",
              "      <td id=\"T_42821_row8_col4\" class=\"data row8 col4\" >0.0941</td>\n",
              "      <td id=\"T_42821_row8_col5\" class=\"data row8 col5\" >0.0349</td>\n",
              "      <td id=\"T_42821_row8_col6\" class=\"data row8 col6\" >0.0647</td>\n",
              "      <td id=\"T_42821_row8_col7\" class=\"data row8 col7\" >0.0260</td>\n",
              "    </tr>\n",
              "    <tr>\n",
              "      <th id=\"T_42821_level0_row9\" class=\"row_heading level0 row9\" >lasso</th>\n",
              "      <td id=\"T_42821_row9_col0\" class=\"data row9 col0\" >Lasso Regression</td>\n",
              "      <td id=\"T_42821_row9_col1\" class=\"data row9 col1\" >0.0534</td>\n",
              "      <td id=\"T_42821_row9_col2\" class=\"data row9 col2\" >0.0041</td>\n",
              "      <td id=\"T_42821_row9_col3\" class=\"data row9 col3\" >0.0639</td>\n",
              "      <td id=\"T_42821_row9_col4\" class=\"data row9 col4\" >0.0941</td>\n",
              "      <td id=\"T_42821_row9_col5\" class=\"data row9 col5\" >0.0349</td>\n",
              "      <td id=\"T_42821_row9_col6\" class=\"data row9 col6\" >0.0647</td>\n",
              "      <td id=\"T_42821_row9_col7\" class=\"data row9 col7\" >0.0420</td>\n",
              "    </tr>\n",
              "    <tr>\n",
              "      <th id=\"T_42821_level0_row10\" class=\"row_heading level0 row10\" >en</th>\n",
              "      <td id=\"T_42821_row10_col0\" class=\"data row10 col0\" >Elastic Net</td>\n",
              "      <td id=\"T_42821_row10_col1\" class=\"data row10 col1\" >0.0534</td>\n",
              "      <td id=\"T_42821_row10_col2\" class=\"data row10 col2\" >0.0041</td>\n",
              "      <td id=\"T_42821_row10_col3\" class=\"data row10 col3\" >0.0639</td>\n",
              "      <td id=\"T_42821_row10_col4\" class=\"data row10 col4\" >0.0941</td>\n",
              "      <td id=\"T_42821_row10_col5\" class=\"data row10 col5\" >0.0349</td>\n",
              "      <td id=\"T_42821_row10_col6\" class=\"data row10 col6\" >0.0647</td>\n",
              "      <td id=\"T_42821_row10_col7\" class=\"data row10 col7\" >0.0220</td>\n",
              "    </tr>\n",
              "    <tr>\n",
              "      <th id=\"T_42821_level0_row11\" class=\"row_heading level0 row11\" >gbr</th>\n",
              "      <td id=\"T_42821_row11_col0\" class=\"data row11 col0\" >Gradient Boosting Regressor</td>\n",
              "      <td id=\"T_42821_row11_col1\" class=\"data row11 col1\" >0.0538</td>\n",
              "      <td id=\"T_42821_row11_col2\" class=\"data row11 col2\" >0.0042</td>\n",
              "      <td id=\"T_42821_row11_col3\" class=\"data row11 col3\" >0.0645</td>\n",
              "      <td id=\"T_42821_row11_col4\" class=\"data row11 col4\" >0.0781</td>\n",
              "      <td id=\"T_42821_row11_col5\" class=\"data row11 col5\" >0.0352</td>\n",
              "      <td id=\"T_42821_row11_col6\" class=\"data row11 col6\" >0.0649</td>\n",
              "      <td id=\"T_42821_row11_col7\" class=\"data row11 col7\" >0.4140</td>\n",
              "    </tr>\n",
              "    <tr>\n",
              "      <th id=\"T_42821_level0_row12\" class=\"row_heading level0 row12\" >lightgbm</th>\n",
              "      <td id=\"T_42821_row12_col0\" class=\"data row12 col0\" >Light Gradient Boosting Machine</td>\n",
              "      <td id=\"T_42821_row12_col1\" class=\"data row12 col1\" >0.0548</td>\n",
              "      <td id=\"T_42821_row12_col2\" class=\"data row12 col2\" >0.0044</td>\n",
              "      <td id=\"T_42821_row12_col3\" class=\"data row12 col3\" >0.0662</td>\n",
              "      <td id=\"T_42821_row12_col4\" class=\"data row12 col4\" >0.0237</td>\n",
              "      <td id=\"T_42821_row12_col5\" class=\"data row12 col5\" >0.0361</td>\n",
              "      <td id=\"T_42821_row12_col6\" class=\"data row12 col6\" >0.0662</td>\n",
              "      <td id=\"T_42821_row12_col7\" class=\"data row12 col7\" >1.3220</td>\n",
              "    </tr>\n",
              "    <tr>\n",
              "      <th id=\"T_42821_level0_row13\" class=\"row_heading level0 row13\" >dummy</th>\n",
              "      <td id=\"T_42821_row13_col0\" class=\"data row13 col0\" >Dummy Regressor</td>\n",
              "      <td id=\"T_42821_row13_col1\" class=\"data row13 col1\" >0.0558</td>\n",
              "      <td id=\"T_42821_row13_col2\" class=\"data row13 col2\" >0.0046</td>\n",
              "      <td id=\"T_42821_row13_col3\" class=\"data row13 col3\" >0.0675</td>\n",
              "      <td id=\"T_42821_row13_col4\" class=\"data row13 col4\" >-0.0055</td>\n",
              "      <td id=\"T_42821_row13_col5\" class=\"data row13 col5\" >0.0369</td>\n",
              "      <td id=\"T_42821_row13_col6\" class=\"data row13 col6\" >0.0676</td>\n",
              "      <td id=\"T_42821_row13_col7\" class=\"data row13 col7\" >0.0420</td>\n",
              "    </tr>\n",
              "    <tr>\n",
              "      <th id=\"T_42821_level0_row14\" class=\"row_heading level0 row14\" >xgboost</th>\n",
              "      <td id=\"T_42821_row14_col0\" class=\"data row14 col0\" >Extreme Gradient Boosting</td>\n",
              "      <td id=\"T_42821_row14_col1\" class=\"data row14 col1\" >0.0559</td>\n",
              "      <td id=\"T_42821_row14_col2\" class=\"data row14 col2\" >0.0046</td>\n",
              "      <td id=\"T_42821_row14_col3\" class=\"data row14 col3\" >0.0675</td>\n",
              "      <td id=\"T_42821_row14_col4\" class=\"data row14 col4\" >-0.0153</td>\n",
              "      <td id=\"T_42821_row14_col5\" class=\"data row14 col5\" >0.0368</td>\n",
              "      <td id=\"T_42821_row14_col6\" class=\"data row14 col6\" >0.0676</td>\n",
              "      <td id=\"T_42821_row14_col7\" class=\"data row14 col7\" >0.4960</td>\n",
              "    </tr>\n",
              "    <tr>\n",
              "      <th id=\"T_42821_level0_row15\" class=\"row_heading level0 row15\" >knn</th>\n",
              "      <td id=\"T_42821_row15_col0\" class=\"data row15 col0\" >K Neighbors Regressor</td>\n",
              "      <td id=\"T_42821_row15_col1\" class=\"data row15 col1\" >0.0565</td>\n",
              "      <td id=\"T_42821_row15_col2\" class=\"data row15 col2\" >0.0048</td>\n",
              "      <td id=\"T_42821_row15_col3\" class=\"data row15 col3\" >0.0689</td>\n",
              "      <td id=\"T_42821_row15_col4\" class=\"data row15 col4\" >-0.0534</td>\n",
              "      <td id=\"T_42821_row15_col5\" class=\"data row15 col5\" >0.0376</td>\n",
              "      <td id=\"T_42821_row15_col6\" class=\"data row15 col6\" >0.0683</td>\n",
              "      <td id=\"T_42821_row15_col7\" class=\"data row15 col7\" >0.0340</td>\n",
              "    </tr>\n",
              "    <tr>\n",
              "      <th id=\"T_42821_level0_row16\" class=\"row_heading level0 row16\" >dt</th>\n",
              "      <td id=\"T_42821_row16_col0\" class=\"data row16 col0\" >Decision Tree Regressor</td>\n",
              "      <td id=\"T_42821_row16_col1\" class=\"data row16 col1\" >0.0718</td>\n",
              "      <td id=\"T_42821_row16_col2\" class=\"data row16 col2\" >0.0080</td>\n",
              "      <td id=\"T_42821_row16_col3\" class=\"data row16 col3\" >0.0891</td>\n",
              "      <td id=\"T_42821_row16_col4\" class=\"data row16 col4\" >-0.7621</td>\n",
              "      <td id=\"T_42821_row16_col5\" class=\"data row16 col5\" >0.0487</td>\n",
              "      <td id=\"T_42821_row16_col6\" class=\"data row16 col6\" >0.0866</td>\n",
              "      <td id=\"T_42821_row16_col7\" class=\"data row16 col7\" >0.0300</td>\n",
              "    </tr>\n",
              "    <tr>\n",
              "      <th id=\"T_42821_level0_row17\" class=\"row_heading level0 row17\" >par</th>\n",
              "      <td id=\"T_42821_row17_col0\" class=\"data row17 col0\" >Passive Aggressive Regressor</td>\n",
              "      <td id=\"T_42821_row17_col1\" class=\"data row17 col1\" >0.0836</td>\n",
              "      <td id=\"T_42821_row17_col2\" class=\"data row17 col2\" >0.0105</td>\n",
              "      <td id=\"T_42821_row17_col3\" class=\"data row17 col3\" >0.1021</td>\n",
              "      <td id=\"T_42821_row17_col4\" class=\"data row17 col4\" >-1.3609</td>\n",
              "      <td id=\"T_42821_row17_col5\" class=\"data row17 col5\" >0.0554</td>\n",
              "      <td id=\"T_42821_row17_col6\" class=\"data row17 col6\" >0.1002</td>\n",
              "      <td id=\"T_42821_row17_col7\" class=\"data row17 col7\" >0.0240</td>\n",
              "    </tr>\n",
              "    <tr>\n",
              "      <th id=\"T_42821_level0_row18\" class=\"row_heading level0 row18\" >huber</th>\n",
              "      <td id=\"T_42821_row18_col0\" class=\"data row18 col0\" >Huber Regressor</td>\n",
              "      <td id=\"T_42821_row18_col1\" class=\"data row18 col1\" >0.1468</td>\n",
              "      <td id=\"T_42821_row18_col2\" class=\"data row18 col2\" >0.0343</td>\n",
              "      <td id=\"T_42821_row18_col3\" class=\"data row18 col3\" >0.1790</td>\n",
              "      <td id=\"T_42821_row18_col4\" class=\"data row18 col4\" >-6.4227</td>\n",
              "      <td id=\"T_42821_row18_col5\" class=\"data row18 col5\" >0.0988</td>\n",
              "      <td id=\"T_42821_row18_col6\" class=\"data row18 col6\" >0.1757</td>\n",
              "      <td id=\"T_42821_row18_col7\" class=\"data row18 col7\" >0.0480</td>\n",
              "    </tr>\n",
              "  </tbody>\n",
              "</table>\n"
            ]
          },
          "metadata": {}
        },
        {
          "output_type": "display_data",
          "data": {
            "text/plain": [
              "Processing:   0%|          | 0/90 [00:00<?, ?it/s]"
            ],
            "application/vnd.jupyter.widget-view+json": {
              "version_major": 2,
              "version_minor": 0,
              "model_id": "e5791eb9403640e08c910fd58c9c7706"
            }
          },
          "metadata": {
            "application/vnd.jupyter.widget-view+json": {
              "colab": {
                "custom_widget_manager": {
                  "url": "https://ssl.gstatic.com/colaboratory-static/widgets/colab-cdn-widget-manager/2b70e893a8ba7c0f/manager.min.js"
                }
              }
            }
          }
        },
        {
          "output_type": "display_data",
          "data": {
            "text/plain": [
              "<IPython.core.display.HTML object>"
            ],
            "text/html": []
          },
          "metadata": {}
        }
      ]
    },
    {
      "cell_type": "code",
      "execution_count": 18,
      "metadata": {
        "id": "CGg4ANmKlbQ5",
        "colab": {
          "base_uri": "https://localhost:8080/"
        },
        "outputId": "10bb4280-3f42-410d-abac-162ab7091a99"
      },
      "outputs": [
        {
          "output_type": "stream",
          "name": "stdout",
          "text": [
            "                                    Model      R2    RMSE     MAE\n",
            "br                         Bayesian Ridge  0.1909  0.0603  0.0507\n",
            "ridge                    Ridge Regression  0.1837  0.0606  0.0509\n",
            "lr                      Linear Regression  0.1821  0.0606  0.0509\n",
            "lar                Least Angle Regression  0.1805  0.0607  0.0510\n",
            "rf                Random Forest Regressor  0.1461  0.0619  0.0517\n",
            "et                  Extra Trees Regressor  0.1417  0.0621  0.0518\n",
            "ada                    AdaBoost Regressor  0.1389  0.0622  0.0522\n",
            "omp           Orthogonal Matching Pursuit  0.0949  0.0639  0.0534\n",
            "llar         Lasso Least Angle Regression  0.0941  0.0639  0.0534\n",
            "lasso                    Lasso Regression  0.0941  0.0639  0.0534\n",
            "en                            Elastic Net  0.0941  0.0639  0.0534\n",
            "gbr           Gradient Boosting Regressor  0.0781  0.0645  0.0538\n",
            "lightgbm  Light Gradient Boosting Machine  0.0237  0.0662  0.0548\n",
            "dummy                     Dummy Regressor -0.0055  0.0675  0.0558\n",
            "xgboost         Extreme Gradient Boosting -0.0153  0.0675  0.0559\n",
            "knn                 K Neighbors Regressor -0.0534  0.0689  0.0565\n",
            "dt                Decision Tree Regressor -0.7621  0.0891  0.0718\n",
            "par          Passive Aggressive Regressor -1.3609  0.1021  0.0836\n",
            "huber                     Huber Regressor -6.4227  0.1790  0.1468\n"
          ]
        }
      ],
      "source": [
        "results = pull()\n",
        "results = results[['Model', 'R2', 'RMSE', 'MAE']]\n",
        "print(results)"
      ]
    },
    {
      "cell_type": "code",
      "source": [
        "# Plot Model vs R2\n",
        "plt.figure(figsize=(12, 6))\n",
        "sns.barplot(x='R2', y='Model', data=results, palette='viridis')\n",
        "plt.xlabel(\"R² Score\")\n",
        "plt.ylabel(\"Model\")\n",
        "plt.title(\"Model vs R²\")\n",
        "plt.show()"
      ],
      "metadata": {
        "colab": {
          "base_uri": "https://localhost:8080/",
          "height": 562
        },
        "id": "KAlJyJLN0cJT",
        "outputId": "96e329fb-738b-4b87-ea83-a4ee66a98a18"
      },
      "execution_count": 19,
      "outputs": [
        {
          "output_type": "display_data",
          "data": {
            "text/plain": [
              "<Figure size 1200x600 with 1 Axes>"
            ],
            "image/png": "[encoded data removed]"
          },
          "metadata": {}
        }
      ]
    },
    {
      "cell_type": "code",
      "source": [
        "X = df.drop(columns=['Target'])\n",
        "y = df['Target']\n",
        "X_train, X_test, y_train, y_test = train_test_split(X, y, train_size=0.7, random_state=42)\n",
        "\n",
        "train_data = pd.concat([X_train, y_train], axis=1)\n",
        "test_data = pd.concat([X_test, y_test], axis=1)\n",
        "final_model = finalize_model(best_models[0])"
      ],
      "metadata": {
        "id": "aC7T7r2O00dB"
      },
      "execution_count": 20,
      "outputs": []
    },
    {
      "cell_type": "code",
      "source": [
        "predictions = predict_model(final_model, data=test_data)\n",
        "print(\"Predictions and Evaluation on Test Data:\")\n",
        "print(predictions.head())"
      ],
      "metadata": {
        "colab": {
          "base_uri": "https://localhost:8080/",
          "height": 562
        },
        "id": "Ktr2p5QA0-Pp",
        "outputId": "581222df-88fa-4c95-b2a7-ef5c461d4ebb"
      },
      "execution_count": 21,
      "outputs": [
        {
          "output_type": "display_data",
          "data": {
            "text/plain": [
              "<pandas.io.formats.style.Styler at 0x78c8aac44880>"
            ],
            "text/html": [
              "<style type=\"text/css\">\n",
              "</style>\n",
              "<table id=\"T_88507\" class=\"dataframe\">\n",
              "  <thead>\n",
              "    <tr>\n",
              "      <th class=\"blank level0\" >&nbsp;</th>\n",
              "      <th id=\"T_88507_level0_col0\" class=\"col_heading level0 col0\" >Model</th>\n",
              "      <th id=\"T_88507_level0_col1\" class=\"col_heading level0 col1\" >MAE</th>\n",
              "      <th id=\"T_88507_level0_col2\" class=\"col_heading level0 col2\" >MSE</th>\n",
              "      <th id=\"T_88507_level0_col3\" class=\"col_heading level0 col3\" >RMSE</th>\n",
              "      <th id=\"T_88507_level0_col4\" class=\"col_heading level0 col4\" >R2</th>\n",
              "      <th id=\"T_88507_level0_col5\" class=\"col_heading level0 col5\" >RMSLE</th>\n",
              "      <th id=\"T_88507_level0_col6\" class=\"col_heading level0 col6\" >MAPE</th>\n",
              "    </tr>\n",
              "  </thead>\n",
              "  <tbody>\n",
              "    <tr>\n",
              "      <th id=\"T_88507_level0_row0\" class=\"row_heading level0 row0\" >0</th>\n",
              "      <td id=\"T_88507_row0_col0\" class=\"data row0 col0\" >Bayesian Ridge</td>\n",
              "      <td id=\"T_88507_row0_col1\" class=\"data row0 col1\" >0.0487</td>\n",
              "      <td id=\"T_88507_row0_col2\" class=\"data row0 col2\" >0.0034</td>\n",
              "      <td id=\"T_88507_row0_col3\" class=\"data row0 col3\" >0.0582</td>\n",
              "      <td id=\"T_88507_row0_col4\" class=\"data row0 col4\" >0.2514</td>\n",
              "      <td id=\"T_88507_row0_col5\" class=\"data row0 col5\" >0.0318</td>\n",
              "      <td id=\"T_88507_row0_col6\" class=\"data row0 col6\" >0.0591</td>\n",
              "    </tr>\n",
              "  </tbody>\n",
              "</table>\n"
            ]
          },
          "metadata": {}
        },
        {
          "output_type": "stream",
          "name": "stdout",
          "text": [
            "Predictions and Evaluation on Test Data:\n",
            "            F1    F2         F3         F4          F5         F6     F7  \\\n",
            "521  53.299999  2.96  39.799999  29.850000  132.610001  39.200001  0.168   \n",
            "737  79.400002  1.34  67.699997  38.540001   95.220001  31.799999  0.100   \n",
            "740  57.400002  2.64  57.200001  47.099998  153.100006  46.599998  0.156   \n",
            "660  52.299999  2.27  64.099998  29.330000  123.169998  30.000000  0.266   \n",
            "411  87.199997  1.24  40.599998  15.390000   40.860001  32.099998  0.202   \n",
            "\n",
            "             F8   F9   F10         F11   F12   F13        F14   F15  Target  \\\n",
            "521  250.199997  148  0.99   98.070000  2.33  5382  23.500000  1706   0.756   \n",
            "737  163.300003  198  0.99  102.834999  2.15  7648  26.299999  1675   0.900   \n",
            "740  268.100006  294  1.73  101.441002  1.90   852  25.799999  1203   0.942   \n",
            "660  108.099998  385  1.54  100.304001  2.82  8513  18.400000  1641   0.853   \n",
            "411  232.600006  302  1.54   99.363998  2.82  5708  23.100000   428   0.855   \n",
            "\n",
            "     prediction_label  \n",
            "521          0.827187  \n",
            "737          0.793115  \n",
            "740          0.878301  \n",
            "660          0.822191  \n",
            "411          0.789301  \n"
          ]
        }
      ]
    },
    {
      "cell_type": "code",
      "source": [
        "predictions = predict_model(final_model, data=test_data)\n",
        "print(\"Columns returned by predict_model:\", predictions.columns)"
      ],
      "metadata": {
        "colab": {
          "base_uri": "https://localhost:8080/",
          "height": 166
        },
        "id": "LwNm8z151bHr",
        "outputId": "b49317d6-332b-4978-db71-77d880d1e627"
      },
      "execution_count": 22,
      "outputs": [
        {
          "output_type": "display_data",
          "data": {
            "text/plain": [
              "<pandas.io.formats.style.Styler at 0x78c8a511ae30>"
            ],
            "text/html": [
              "<style type=\"text/css\">\n",
              "</style>\n",
              "<table id=\"T_d80ea\" class=\"dataframe\">\n",
              "  <thead>\n",
              "    <tr>\n",
              "      <th class=\"blank level0\" >&nbsp;</th>\n",
              "      <th id=\"T_d80ea_level0_col0\" class=\"col_heading level0 col0\" >Model</th>\n",
              "      <th id=\"T_d80ea_level0_col1\" class=\"col_heading level0 col1\" >MAE</th>\n",
              "      <th id=\"T_d80ea_level0_col2\" class=\"col_heading level0 col2\" >MSE</th>\n",
              "      <th id=\"T_d80ea_level0_col3\" class=\"col_heading level0 col3\" >RMSE</th>\n",
              "      <th id=\"T_d80ea_level0_col4\" class=\"col_heading level0 col4\" >R2</th>\n",
              "      <th id=\"T_d80ea_level0_col5\" class=\"col_heading level0 col5\" >RMSLE</th>\n",
              "      <th id=\"T_d80ea_level0_col6\" class=\"col_heading level0 col6\" >MAPE</th>\n",
              "    </tr>\n",
              "  </thead>\n",
              "  <tbody>\n",
              "    <tr>\n",
              "      <th id=\"T_d80ea_level0_row0\" class=\"row_heading level0 row0\" >0</th>\n",
              "      <td id=\"T_d80ea_row0_col0\" class=\"data row0 col0\" >Bayesian Ridge</td>\n",
              "      <td id=\"T_d80ea_row0_col1\" class=\"data row0 col1\" >0.0487</td>\n",
              "      <td id=\"T_d80ea_row0_col2\" class=\"data row0 col2\" >0.0034</td>\n",
              "      <td id=\"T_d80ea_row0_col3\" class=\"data row0 col3\" >0.0582</td>\n",
              "      <td id=\"T_d80ea_row0_col4\" class=\"data row0 col4\" >0.2514</td>\n",
              "      <td id=\"T_d80ea_row0_col5\" class=\"data row0 col5\" >0.0318</td>\n",
              "      <td id=\"T_d80ea_row0_col6\" class=\"data row0 col6\" >0.0591</td>\n",
              "    </tr>\n",
              "  </tbody>\n",
              "</table>\n"
            ]
          },
          "metadata": {}
        },
        {
          "output_type": "stream",
          "name": "stdout",
          "text": [
            "Columns returned by predict_model: Index(['F1', 'F2', 'F3', 'F4', 'F5', 'F6', 'F7', 'F8', 'F9', 'F10', 'F11',\n",
            "       'F12', 'F13', 'F14', 'F15', 'Target', 'prediction_label'],\n",
            "      dtype='object')\n"
          ]
        }
      ]
    },
    {
      "cell_type": "code",
      "source": [
        "from sklearn.metrics import r2_score, mean_squared_error, mean_absolute_error\n",
        "r2 = r2_score(predictions['Target'], predictions['prediction_label'])\n",
        "mse = mean_squared_error(predictions['Target'], predictions['prediction_label'])\n",
        "rmse = np.sqrt(mse)\n",
        "mae = mean_absolute_error(predictions['Target'], predictions['prediction_label'])\n",
        "print(\"R²:\", r2)\n",
        "print(\"RMSE:\", rmse)\n",
        "print(\"MAE:\", mae)"
      ],
      "metadata": {
        "colab": {
          "base_uri": "https://localhost:8080/"
        },
        "id": "ogyFZIhI1AWh",
        "outputId": "0b5b83da-644f-441b-d116-945da56871b3"
      },
      "execution_count": 23,
      "outputs": [
        {
          "output_type": "stream",
          "name": "stdout",
          "text": [
            "R²: 0.25144831280889857\n",
            "RMSE: 0.05822574712711292\n",
            "MAE: 0.048706553893365076\n"
          ]
        }
      ]
    }
  ],
  "metadata": {
    "colab": {
      "provenance": []
    },
    "kernelspec": {
      "display_name": "Python 3",
      "name": "python3"
    },
    "language_info": {
      "name": "python"
    },
    "widgets": {
      "application/vnd.jupyter.widget-state+json": {
        "e5791eb9403640e08c910fd58c9c7706": {
          "model_module": "@jupyter-widgets/controls",
          "model_name": "HBoxModel",
          "model_module_version": "1.5.0",
          "state": {
            "_dom_classes": [],
            "_model_module": "@jupyter-widgets/controls",
            "_model_module_version": "1.5.0",
            "_model_name": "HBoxModel",
            "_view_count": null,
            "_view_module": "@jupyter-widgets/controls",
            "_view_module_version": "1.5.0",
            "_view_name": "HBoxView",
            "box_style": "",
            "children": [
              "IPY_MODEL_09fabc11cc594759bbcd8373fcf32bd5",
              "IPY_MODEL_7cf7b64315d34d75b8b8bd3a8aad3754",
              "IPY_MODEL_551ce5cedbee43cbb262d7ddfc4d745e"
            ],
            "layout": "IPY_MODEL_6d3652f7f0a84becade2b547a51b4e4f"
          }
        },
        "09fabc11cc594759bbcd8373fcf32bd5": {
          "model_module": "@jupyter-widgets/controls",
          "model_name": "HTMLModel",
          "model_module_version": "1.5.0",
          "state": {
            "_dom_classes": [],
            "_model_module": "@jupyter-widgets/controls",
            "_model_module_version": "1.5.0",
            "_model_name": "HTMLModel",
            "_view_count": null,
            "_view_module": "@jupyter-widgets/controls",
            "_view_module_version": "1.5.0",
            "_view_name": "HTMLView",
            "description": "",
            "description_tooltip": null,
            "layout": "IPY_MODEL_d0688bb33467432fb4cf066385b1475a",
            "placeholder": "​",
            "style": "IPY_MODEL_73f4d34009d34226853073415ce6362e",
            "value": "Processing: 100%"
          }
        },
        "7cf7b64315d34d75b8b8bd3a8aad3754": {
          "model_module": "@jupyter-widgets/controls",
          "model_name": "FloatProgressModel",
          "model_module_version": "1.5.0",
          "state": {
            "_dom_classes": [],
            "_model_module": "@jupyter-widgets/controls",
            "_model_module_version": "1.5.0",
            "_model_name": "FloatProgressModel",
            "_view_count": null,
            "_view_module": "@jupyter-widgets/controls",
            "_view_module_version": "1.5.0",
            "_view_name": "ProgressView",
            "bar_style": "",
            "description": "",
            "description_tooltip": null,
            "layout": "IPY_MODEL_32c585e5ae1944fcb634c347bdafbd81",
            "max": 90,
            "min": 0,
            "orientation": "horizontal",
            "style": "IPY_MODEL_2c160475c96146c7aa653246e299a23f",
            "value": 90
          }
        },
        "551ce5cedbee43cbb262d7ddfc4d745e": {
          "model_module": "@jupyter-widgets/controls",
          "model_name": "HTMLModel",
          "model_module_version": "1.5.0",
          "state": {
            "_dom_classes": [],
            "_model_module": "@jupyter-widgets/controls",
            "_model_module_version": "1.5.0",
            "_model_name": "HTMLModel",
            "_view_count": null,
            "_view_module": "@jupyter-widgets/controls",
            "_view_module_version": "1.5.0",
            "_view_name": "HTMLView",
            "description": "",
            "description_tooltip": null,
            "layout": "IPY_MODEL_eaa3ef15544d4257bb0af5692b3aa828",
            "placeholder": "​",
            "style": "IPY_MODEL_e0cad63d5b5f4e769712962ecc08f1e7",
            "value": " 90/90 [00:34&lt;00:00,  3.25it/s]"
          }
        },
        "6d3652f7f0a84becade2b547a51b4e4f": {
          "model_module": "@jupyter-widgets/base",
          "model_name": "LayoutModel",
          "model_module_version": "1.2.0",
          "state": {
            "_model_module": "@jupyter-widgets/base",
            "_model_module_version": "1.2.0",
            "_model_name": "LayoutModel",
            "_view_count": null,
            "_view_module": "@jupyter-widgets/base",
            "_view_module_version": "1.2.0",
            "_view_name": "LayoutView",
            "align_content": null,
            "align_items": null,
            "align_self": null,
            "border": null,
            "bottom": null,
            "display": null,
            "flex": null,
            "flex_flow": null,
            "grid_area": null,
            "grid_auto_columns": null,
            "grid_auto_flow": null,
            "grid_auto_rows": null,
            "grid_column": null,
            "grid_gap": null,
            "grid_row": null,
            "grid_template_areas": null,
            "grid_template_columns": null,
            "grid_template_rows": null,
            "height": null,
            "justify_content": null,
            "justify_items": null,
            "left": null,
            "margin": null,
            "max_height": null,
            "max_width": null,
            "min_height": null,
            "min_width": null,
            "object_fit": null,
            "object_position": null,
            "order": null,
            "overflow": null,
            "overflow_x": null,
            "overflow_y": null,
            "padding": null,
            "right": null,
            "top": null,
            "visibility": "hidden",
            "width": null
          }
        },
        "d0688bb33467432fb4cf066385b1475a": {
          "model_module": "@jupyter-widgets/base",
          "model_name": "LayoutModel",
          "model_module_version": "1.2.0",
          "state": {
            "_model_module": "@jupyter-widgets/base",
            "_model_module_version": "1.2.0",
            "_model_name": "LayoutModel",
            "_view_count": null,
            "_view_module": "@jupyter-widgets/base",
            "_view_module_version": "1.2.0",
            "_view_name": "LayoutView",
            "align_content": null,
            "align_items": null,
            "align_self": null,
            "border": null,
            "bottom": null,
            "display": null,
            "flex": null,
            "flex_flow": null,
            "grid_area": null,
            "grid_auto_columns": null,
            "grid_auto_flow": null,
            "grid_auto_rows": null,
            "grid_column": null,
            "grid_gap": null,
            "grid_row": null,
            "grid_template_areas": null,
            "grid_template_columns": null,
            "grid_template_rows": null,
            "height": null,
            "justify_content": null,
            "justify_items": null,
            "left": null,
            "margin": null,
            "max_height": null,
            "max_width": null,
            "min_height": null,
            "min_width": null,
            "object_fit": null,
            "object_position": null,
            "order": null,
            "overflow": null,
            "overflow_x": null,
            "overflow_y": null,
            "padding": null,
            "right": null,
            "top": null,
            "visibility": null,
            "width": null
          }
        },
        "73f4d34009d34226853073415ce6362e": {
          "model_module": "@jupyter-widgets/controls",
          "model_name": "DescriptionStyleModel",
          "model_module_version": "1.5.0",
          "state": {
            "_model_module": "@jupyter-widgets/controls",
            "_model_module_version": "1.5.0",
            "_model_name": "DescriptionStyleModel",
            "_view_count": null,
            "_view_module": "@jupyter-widgets/base",
            "_view_module_version": "1.2.0",
            "_view_name": "StyleView",
            "description_width": ""
          }
        },
        "32c585e5ae1944fcb634c347bdafbd81": {
          "model_module": "@jupyter-widgets/base",
          "model_name": "LayoutModel",
          "model_module_version": "1.2.0",
          "state": {
            "_model_module": "@jupyter-widgets/base",
            "_model_module_version": "1.2.0",
            "_model_name": "LayoutModel",
            "_view_count": null,
            "_view_module": "@jupyter-widgets/base",
            "_view_module_version": "1.2.0",
            "_view_name": "LayoutView",
            "align_content": null,
            "align_items": null,
            "align_self": null,
            "border": null,
            "bottom": null,
            "display": null,
            "flex": null,
            "flex_flow": null,
            "grid_area": null,
            "grid_auto_columns": null,
            "grid_auto_flow": null,
            "grid_auto_rows": null,
            "grid_column": null,
            "grid_gap": null,
            "grid_row": null,
            "grid_template_areas": null,
            "grid_template_columns": null,
            "grid_template_rows": null,
            "height": null,
            "justify_content": null,
            "justify_items": null,
            "left": null,
            "margin": null,
            "max_height": null,
            "max_width": null,
            "min_height": null,
            "min_width": null,
            "object_fit": null,
            "object_position": null,
            "order": null,
            "overflow": null,
            "overflow_x": null,
            "overflow_y": null,
            "padding": null,
            "right": null,
            "top": null,
            "visibility": null,
            "width": null
          }
        },
        "2c160475c96146c7aa653246e299a23f": {
          "model_module": "@jupyter-widgets/controls",
          "model_name": "ProgressStyleModel",
          "model_module_version": "1.5.0",
          "state": {
            "_model_module": "@jupyter-widgets/controls",
            "_model_module_version": "1.5.0",
            "_model_name": "ProgressStyleModel",
            "_view_count": null,
            "_view_module": "@jupyter-widgets/base",
            "_view_module_version": "1.2.0",
            "_view_name": "StyleView",
            "bar_color": null,
            "description_width": ""
          }
        },
        "eaa3ef15544d4257bb0af5692b3aa828": {
          "model_module": "@jupyter-widgets/base",
          "model_name": "LayoutModel",
          "model_module_version": "1.2.0",
          "state": {
            "_model_module": "@jupyter-widgets/base",
            "_model_module_version": "1.2.0",
            "_model_name": "LayoutModel",
            "_view_count": null,
            "_view_module": "@jupyter-widgets/base",
            "_view_module_version": "1.2.0",
            "_view_name": "LayoutView",
            "align_content": null,
            "align_items": null,
            "align_self": null,
            "border": null,
            "bottom": null,
            "display": null,
            "flex": null,
            "flex_flow": null,
            "grid_area": null,
            "grid_auto_columns": null,
            "grid_auto_flow": null,
            "grid_auto_rows": null,
            "grid_column": null,
            "grid_gap": null,
            "grid_row": null,
            "grid_template_areas": null,
            "grid_template_columns": null,
            "grid_template_rows": null,
            "height": null,
            "justify_content": null,
            "justify_items": null,
            "left": null,
            "margin": null,
            "max_height": null,
            "max_width": null,
            "min_height": null,
            "min_width": null,
            "object_fit": null,
            "object_position": null,
            "order": null,
            "overflow": null,
            "overflow_x": null,
            "overflow_y": null,
            "padding": null,
            "right": null,
            "top": null,
            "visibility": null,
            "width": null
          }
        },
        "e0cad63d5b5f4e769712962ecc08f1e7": {
          "model_module": "@jupyter-widgets/controls",
          "model_name": "DescriptionStyleModel",
          "model_module_version": "1.5.0",
          "state": {
            "_model_module": "@jupyter-widgets/controls",
            "_model_module_version": "1.5.0",
            "_model_name": "DescriptionStyleModel",
            "_view_count": null,
            "_view_module": "@jupyter-widgets/base",
            "_view_module_version": "1.2.0",
            "_view_name": "StyleView",
            "description_width": ""
          }
        }
      }
    }
  },
  "nbformat": 4,
  "nbformat_minor": 0
}