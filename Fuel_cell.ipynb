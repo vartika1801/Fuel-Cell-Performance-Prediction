{
  "cells": [
    {
      "cell_type": "code",
      "execution_count": 2,
      "metadata": {
        "id": "FjMDE45kYPNE"
      },
      "outputs": [],
      "source": [
        "import numpy as np\n",
        "import pandas as pd\n",
        "import seaborn as sns\n",
        "import matplotlib.pyplot as plt\n",
        "\n",
        "from sklearn.model_selection import train_test_split\n",
        "import warnings\n",
        "warnings.filterwarnings('ignore')"
      ]
    },
    {
      "cell_type": "code",
      "execution_count": 3,
      "metadata": {
        "colab": {
          "base_uri": "https://localhost:8080/"
        },
        "id": "QdN35DfeZ_JD",
        "outputId": "80c18f36-f3b8-46b1-d02b-44e8e0eff42a"
      },
      "outputs": [
        {
          "output_type": "stream",
          "name": "stdout",
          "text": [
            "Drive already mounted at /content/drive; to attempt to forcibly remount, call drive.mount(\"/content/drive\", force_remount=True).\n"
          ]
        }
      ],
      "source": [
        "# Read the dataset\n",
        "from google.colab import drive\n",
        "drive.mount('/content/drive')"
      ]
    },
    {
      "cell_type": "code",
      "execution_count": 4,
      "metadata": {
        "id": "lwBc6rSfaLS3"
      },
      "outputs": [],
      "source": [
        "df=pd.read_csv('/content/drive/My Drive/Fuel_cell_performance_data-Full.csv')"
      ]
    },
    {
      "cell_type": "code",
      "execution_count": 5,
      "metadata": {
        "colab": {
          "base_uri": "https://localhost:8080/",
          "height": 260
        },
        "id": "FpqQGT7XafwB",
        "outputId": "a1e16b31-dbd6-49b5-c467-e0c78d58a630"
      },
      "outputs": [
        {
          "output_type": "execute_result",
          "data": {
            "text/plain": [
              "     F1    F2    F3     F4      F5    F6     F7     F8   F9   F10      F11  \\\n",
              "0  52.9  1.33  49.1  37.13  129.43  35.0  0.281  112.7  207  0.55   98.971   \n",
              "1  87.6  2.12  48.8  42.10  171.07  37.6  0.153  157.4  188  0.86  101.179   \n",
              "2  73.3  2.72  93.8  20.11  163.69  44.3  0.367  348.7  270  1.87   98.919   \n",
              "3  65.6  2.58  48.1  35.11   63.37  32.5  0.279  321.2  322  1.75  101.560   \n",
              "4  39.6  2.58  49.3  32.93   63.40  47.0  0.149  205.6  203  1.55   98.148   \n",
              "\n",
              "    F12   F13   F14   F15  Target1  Target2  Target3  Target4  Target5  \n",
              "0  2.87  1362  15.9   429    0.959    1.531     79.3     4.19    33.29  \n",
              "1  2.34  5130  26.1  1819    0.728    1.690     57.2     5.19    34.50  \n",
              "2  2.13  7811  16.7  1763    0.784    1.865     61.6     7.77   129.28  \n",
              "3  2.91  1641  32.1   203    0.884    1.920     71.3     8.40   186.65  \n",
              "4  1.93  7648  27.5   276    0.736    1.711     58.5     4.75    52.32  "
            ],
            "text/html": [
              "\n",
              "  <div id=\"df-c93bf380-7878-4a3d-90de-c6cf186dae27\" class=\"colab-df-container\">\n",
              "    <div>\n",
              "<style scoped>\n",
              "    .dataframe tbody tr th:only-of-type {\n",
              "        vertical-align: middle;\n",
              "    }\n",
              "\n",
              "    .dataframe tbody tr th {\n",
              "        vertical-align: top;\n",
              "    }\n",
              "\n",
              "    .dataframe thead th {\n",
              "        text-align: right;\n",
              "    }\n",
              "</style>\n",
              "<table border=\"1\" class=\"dataframe\">\n",
              "  <thead>\n",
              "    <tr style=\"text-align: right;\">\n",
              "      <th></th>\n",
              "      <th>F1</th>\n",
              "      <th>F2</th>\n",
              "      <th>F3</th>\n",
              "      <th>F4</th>\n",
              "      <th>F5</th>\n",
              "      <th>F6</th>\n",
              "      <th>F7</th>\n",
              "      <th>F8</th>\n",
              "      <th>F9</th>\n",
              "      <th>F10</th>\n",
              "      <th>F11</th>\n",
              "      <th>F12</th>\n",
              "      <th>F13</th>\n",
              "      <th>F14</th>\n",
              "      <th>F15</th>\n",
              "      <th>Target1</th>\n",
              "      <th>Target2</th>\n",
              "      <th>Target3</th>\n",
              "      <th>Target4</th>\n",
              "      <th>Target5</th>\n",
              "    </tr>\n",
              "  </thead>\n",
              "  <tbody>\n",
              "    <tr>\n",
              "      <th>0</th>\n",
              "      <td>52.9</td>\n",
              "      <td>1.33</td>\n",
              "      <td>49.1</td>\n",
              "      <td>37.13</td>\n",
              "      <td>129.43</td>\n",
              "      <td>35.0</td>\n",
              "      <td>0.281</td>\n",
              "      <td>112.7</td>\n",
              "      <td>207</td>\n",
              "      <td>0.55</td>\n",
              "      <td>98.971</td>\n",
              "      <td>2.87</td>\n",
              "      <td>1362</td>\n",
              "      <td>15.9</td>\n",
              "      <td>429</td>\n",
              "      <td>0.959</td>\n",
              "      <td>1.531</td>\n",
              "      <td>79.3</td>\n",
              "      <td>4.19</td>\n",
              "      <td>33.29</td>\n",
              "    </tr>\n",
              "    <tr>\n",
              "      <th>1</th>\n",
              "      <td>87.6</td>\n",
              "      <td>2.12</td>\n",
              "      <td>48.8</td>\n",
              "      <td>42.10</td>\n",
              "      <td>171.07</td>\n",
              "      <td>37.6</td>\n",
              "      <td>0.153</td>\n",
              "      <td>157.4</td>\n",
              "      <td>188</td>\n",
              "      <td>0.86</td>\n",
              "      <td>101.179</td>\n",
              "      <td>2.34</td>\n",
              "      <td>5130</td>\n",
              "      <td>26.1</td>\n",
              "      <td>1819</td>\n",
              "      <td>0.728</td>\n",
              "      <td>1.690</td>\n",
              "      <td>57.2</td>\n",
              "      <td>5.19</td>\n",
              "      <td>34.50</td>\n",
              "    </tr>\n",
              "    <tr>\n",
              "      <th>2</th>\n",
              "      <td>73.3</td>\n",
              "      <td>2.72</td>\n",
              "      <td>93.8</td>\n",
              "      <td>20.11</td>\n",
              "      <td>163.69</td>\n",
              "      <td>44.3</td>\n",
              "      <td>0.367</td>\n",
              "      <td>348.7</td>\n",
              "      <td>270</td>\n",
              "      <td>1.87</td>\n",
              "      <td>98.919</td>\n",
              "      <td>2.13</td>\n",
              "      <td>7811</td>\n",
              "      <td>16.7</td>\n",
              "      <td>1763</td>\n",
              "      <td>0.784</td>\n",
              "      <td>1.865</td>\n",
              "      <td>61.6</td>\n",
              "      <td>7.77</td>\n",
              "      <td>129.28</td>\n",
              "    </tr>\n",
              "    <tr>\n",
              "      <th>3</th>\n",
              "      <td>65.6</td>\n",
              "      <td>2.58</td>\n",
              "      <td>48.1</td>\n",
              "      <td>35.11</td>\n",
              "      <td>63.37</td>\n",
              "      <td>32.5</td>\n",
              "      <td>0.279</td>\n",
              "      <td>321.2</td>\n",
              "      <td>322</td>\n",
              "      <td>1.75</td>\n",
              "      <td>101.560</td>\n",
              "      <td>2.91</td>\n",
              "      <td>1641</td>\n",
              "      <td>32.1</td>\n",
              "      <td>203</td>\n",
              "      <td>0.884</td>\n",
              "      <td>1.920</td>\n",
              "      <td>71.3</td>\n",
              "      <td>8.40</td>\n",
              "      <td>186.65</td>\n",
              "    </tr>\n",
              "    <tr>\n",
              "      <th>4</th>\n",
              "      <td>39.6</td>\n",
              "      <td>2.58</td>\n",
              "      <td>49.3</td>\n",
              "      <td>32.93</td>\n",
              "      <td>63.40</td>\n",
              "      <td>47.0</td>\n",
              "      <td>0.149</td>\n",
              "      <td>205.6</td>\n",
              "      <td>203</td>\n",
              "      <td>1.55</td>\n",
              "      <td>98.148</td>\n",
              "      <td>1.93</td>\n",
              "      <td>7648</td>\n",
              "      <td>27.5</td>\n",
              "      <td>276</td>\n",
              "      <td>0.736</td>\n",
              "      <td>1.711</td>\n",
              "      <td>58.5</td>\n",
              "      <td>4.75</td>\n",
              "      <td>52.32</td>\n",
              "    </tr>\n",
              "  </tbody>\n",
              "</table>\n",
              "</div>\n",
              "    <div class=\"colab-df-buttons\">\n",
              "\n",
              "  <div class=\"colab-df-container\">\n",
              "    <button class=\"colab-df-convert\" onclick=\"convertToInteractive('df-c93bf380-7878-4a3d-90de-c6cf186dae27')\"\n",
              "            title=\"Convert this dataframe to an interactive table.\"\n",
              "            style=\"display:none;\">\n",
              "\n",
              "  <svg xmlns=\"http://www.w3.org/2000/svg\" height=\"24px\" viewBox=\"0 -960 960 960\">\n",
              "    <path d=\"M120-120v-720h720v720H120Zm60-500h600v-160H180v160Zm220 220h160v-160H400v160Zm0 220h160v-160H400v160ZM180-400h160v-160H180v160Zm440 0h160v-160H620v160ZM180-180h160v-160H180v160Zm440 0h160v-160H620v160Z\"/>\n",
              "  </svg>\n",
              "    </button>\n",
              "\n",
              "  <style>\n",
              "    .colab-df-container {\n",
              "      display:flex;\n",
              "      gap: 12px;\n",
              "    }\n",
              "\n",
              "    .colab-df-convert {\n",
              "      background-color: #E8F0FE;\n",
              "      border: none;\n",
              "      border-radius: 50%;\n",
              "      cursor: pointer;\n",
              "      display: none;\n",
              "      fill: #1967D2;\n",
              "      height: 32px;\n",
              "      padding: 0 0 0 0;\n",
              "      width: 32px;\n",
              "    }\n",
              "\n",
              "    .colab-df-convert:hover {\n",
              "      background-color: #E2EBFA;\n",
              "      box-shadow: 0px 1px 2px rgba(60, 64, 67, 0.3), 0px 1px 3px 1px rgba(60, 64, 67, 0.15);\n",
              "      fill: #174EA6;\n",
              "    }\n",
              "\n",
              "    .colab-df-buttons div {\n",
              "      margin-bottom: 4px;\n",
              "    }\n",
              "\n",
              "    [theme=dark] .colab-df-convert {\n",
              "      background-color: #3B4455;\n",
              "      fill: #D2E3FC;\n",
              "    }\n",
              "\n",
              "    [theme=dark] .colab-df-convert:hover {\n",
              "      background-color: #434B5C;\n",
              "      box-shadow: 0px 1px 3px 1px rgba(0, 0, 0, 0.15);\n",
              "      filter: drop-shadow(0px 1px 2px rgba(0, 0, 0, 0.3));\n",
              "      fill: #FFFFFF;\n",
              "    }\n",
              "  </style>\n",
              "\n",
              "    <script>\n",
              "      const buttonEl =\n",
              "        document.querySelector('#df-c93bf380-7878-4a3d-90de-c6cf186dae27 button.colab-df-convert');\n",
              "      buttonEl.style.display =\n",
              "        google.colab.kernel.accessAllowed ? 'block' : 'none';\n",
              "\n",
              "      async function convertToInteractive(key) {\n",
              "        const element = document.querySelector('#df-c93bf380-7878-4a3d-90de-c6cf186dae27');\n",
              "        const dataTable =\n",
              "          await google.colab.kernel.invokeFunction('convertToInteractive',\n",
              "                                                    [key], {});\n",
              "        if (!dataTable) return;\n",
              "\n",
              "        const docLinkHtml = 'Like what you see? Visit the ' +\n",
              "          '<a target=\"_blank\" href=https://colab.research.google.com/notebooks/data_table.ipynb>data table notebook</a>'\n",
              "          + ' to learn more about interactive tables.';\n",
              "        element.innerHTML = '';\n",
              "        dataTable['output_type'] = 'display_data';\n",
              "        await google.colab.output.renderOutput(dataTable, element);\n",
              "        const docLink = document.createElement('div');\n",
              "        docLink.innerHTML = docLinkHtml;\n",
              "        element.appendChild(docLink);\n",
              "      }\n",
              "    </script>\n",
              "  </div>\n",
              "\n",
              "\n",
              "<div id=\"df-7c4120e0-cfb5-482b-abef-c0b9a8b2c765\">\n",
              "  <button class=\"colab-df-quickchart\" onclick=\"quickchart('df-7c4120e0-cfb5-482b-abef-c0b9a8b2c765')\"\n",
              "            title=\"Suggest charts\"\n",
              "            style=\"display:none;\">\n",
              "\n",
              "<svg xmlns=\"http://www.w3.org/2000/svg\" height=\"24px\"viewBox=\"0 0 24 24\"\n",
              "     width=\"24px\">\n",
              "    <g>\n",
              "        <path d=\"M19 3H5c-1.1 0-2 .9-2 2v14c0 1.1.9 2 2 2h14c1.1 0 2-.9 2-2V5c0-1.1-.9-2-2-2zM9 17H7v-7h2v7zm4 0h-2V7h2v10zm4 0h-2v-4h2v4z\"/>\n",
              "    </g>\n",
              "</svg>\n",
              "  </button>\n",
              "\n",
              "<style>\n",
              "  .colab-df-quickchart {\n",
              "      --bg-color: #E8F0FE;\n",
              "      --fill-color: #1967D2;\n",
              "      --hover-bg-color: #E2EBFA;\n",
              "      --hover-fill-color: #174EA6;\n",
              "      --disabled-fill-color: #AAA;\n",
              "      --disabled-bg-color: #DDD;\n",
              "  }\n",
              "\n",
              "  [theme=dark] .colab-df-quickchart {\n",
              "      --bg-color: #3B4455;\n",
              "      --fill-color: #D2E3FC;\n",
              "      --hover-bg-color: #434B5C;\n",
              "      --hover-fill-color: #FFFFFF;\n",
              "      --disabled-bg-color: #3B4455;\n",
              "      --disabled-fill-color: #666;\n",
              "  }\n",
              "\n",
              "  .colab-df-quickchart {\n",
              "    background-color: var(--bg-color);\n",
              "    border: none;\n",
              "    border-radius: 50%;\n",
              "    cursor: pointer;\n",
              "    display: none;\n",
              "    fill: var(--fill-color);\n",
              "    height: 32px;\n",
              "    padding: 0;\n",
              "    width: 32px;\n",
              "  }\n",
              "\n",
              "  .colab-df-quickchart:hover {\n",
              "    background-color: var(--hover-bg-color);\n",
              "    box-shadow: 0 1px 2px rgba(60, 64, 67, 0.3), 0 1px 3px 1px rgba(60, 64, 67, 0.15);\n",
              "    fill: var(--button-hover-fill-color);\n",
              "  }\n",
              "\n",
              "  .colab-df-quickchart-complete:disabled,\n",
              "  .colab-df-quickchart-complete:disabled:hover {\n",
              "    background-color: var(--disabled-bg-color);\n",
              "    fill: var(--disabled-fill-color);\n",
              "    box-shadow: none;\n",
              "  }\n",
              "\n",
              "  .colab-df-spinner {\n",
              "    border: 2px solid var(--fill-color);\n",
              "    border-color: transparent;\n",
              "    border-bottom-color: var(--fill-color);\n",
              "    animation:\n",
              "      spin 1s steps(1) infinite;\n",
              "  }\n",
              "\n",
              "  @keyframes spin {\n",
              "    0% {\n",
              "      border-color: transparent;\n",
              "      border-bottom-color: var(--fill-color);\n",
              "      border-left-color: var(--fill-color);\n",
              "    }\n",
              "    20% {\n",
              "      border-color: transparent;\n",
              "      border-left-color: var(--fill-color);\n",
              "      border-top-color: var(--fill-color);\n",
              "    }\n",
              "    30% {\n",
              "      border-color: transparent;\n",
              "      border-left-color: var(--fill-color);\n",
              "      border-top-color: var(--fill-color);\n",
              "      border-right-color: var(--fill-color);\n",
              "    }\n",
              "    40% {\n",
              "      border-color: transparent;\n",
              "      border-right-color: var(--fill-color);\n",
              "      border-top-color: var(--fill-color);\n",
              "    }\n",
              "    60% {\n",
              "      border-color: transparent;\n",
              "      border-right-color: var(--fill-color);\n",
              "    }\n",
              "    80% {\n",
              "      border-color: transparent;\n",
              "      border-right-color: var(--fill-color);\n",
              "      border-bottom-color: var(--fill-color);\n",
              "    }\n",
              "    90% {\n",
              "      border-color: transparent;\n",
              "      border-bottom-color: var(--fill-color);\n",
              "    }\n",
              "  }\n",
              "</style>\n",
              "\n",
              "  <script>\n",
              "    async function quickchart(key) {\n",
              "      const quickchartButtonEl =\n",
              "        document.querySelector('#' + key + ' button');\n",
              "      quickchartButtonEl.disabled = true;  // To prevent multiple clicks.\n",
              "      quickchartButtonEl.classList.add('colab-df-spinner');\n",
              "      try {\n",
              "        const charts = await google.colab.kernel.invokeFunction(\n",
              "            'suggestCharts', [key], {});\n",
              "      } catch (error) {\n",
              "        console.error('Error during call to suggestCharts:', error);\n",
              "      }\n",
              "      quickchartButtonEl.classList.remove('colab-df-spinner');\n",
              "      quickchartButtonEl.classList.add('colab-df-quickchart-complete');\n",
              "    }\n",
              "    (() => {\n",
              "      let quickchartButtonEl =\n",
              "        document.querySelector('#df-7c4120e0-cfb5-482b-abef-c0b9a8b2c765 button');\n",
              "      quickchartButtonEl.style.display =\n",
              "        google.colab.kernel.accessAllowed ? 'block' : 'none';\n",
              "    })();\n",
              "  </script>\n",
              "</div>\n",
              "\n",
              "    </div>\n",
              "  </div>\n"
            ],
            "application/vnd.google.colaboratory.intrinsic+json": {
              "type": "dataframe",
              "variable_name": "df",
              "summary": "{\n  \"name\": \"df\",\n  \"rows\": 1000,\n  \"fields\": [\n    {\n      \"column\": \"F1\",\n      \"properties\": {\n        \"dtype\": \"number\",\n        \"std\": 17.652136355351093,\n        \"min\": 29.7,\n        \"max\": 94.2,\n        \"num_unique_values\": 508,\n        \"samples\": [\n          68.2,\n          51.3,\n          43.0\n        ],\n        \"semantic_type\": \"\",\n        \"description\": \"\"\n      }\n    },\n    {\n      \"column\": \"F2\",\n      \"properties\": {\n        \"dtype\": \"number\",\n        \"std\": 0.5840904429500157,\n        \"min\": 0.97,\n        \"max\": 3.14,\n        \"num_unique_values\": 213,\n        \"samples\": [\n          1.54,\n          1.44,\n          1.86\n        ],\n        \"semantic_type\": \"\",\n        \"description\": \"\"\n      }\n    },\n    {\n      \"column\": \"F3\",\n      \"properties\": {\n        \"dtype\": \"number\",\n        \"std\": 20.36069643699349,\n        \"min\": 29.7,\n        \"max\": 101.9,\n        \"num_unique_values\": 535,\n        \"samples\": [\n          90.7,\n          53.6,\n          46.5\n        ],\n        \"semantic_type\": \"\",\n        \"description\": \"\"\n      }\n    },\n    {\n      \"column\": \"F4\",\n      \"properties\": {\n        \"dtype\": \"number\",\n        \"std\": 11.490853221330172,\n        \"min\": 9.88,\n        \"max\": 52.58,\n        \"num_unique_values\": 879,\n        \"samples\": [\n          20.75,\n          37.51,\n          38.21\n        ],\n        \"semantic_type\": \"\",\n        \"description\": \"\"\n      }\n    },\n    {\n      \"column\": \"F5\",\n      \"properties\": {\n        \"dtype\": \"number\",\n        \"std\": 46.09249529967811,\n        \"min\": 38.43,\n        \"max\": 206.01,\n        \"num_unique_values\": 974,\n        \"samples\": [\n          71.82,\n          148.04,\n          180.28\n        ],\n        \"semantic_type\": \"\",\n        \"description\": \"\"\n      }\n    },\n    {\n      \"column\": \"F6\",\n      \"properties\": {\n        \"dtype\": \"number\",\n        \"std\": 7.270715129097581,\n        \"min\": 24.4,\n        \"max\": 52.2,\n        \"num_unique_values\": 260,\n        \"samples\": [\n          38.9,\n          27.1,\n          36.0\n        ],\n        \"semantic_type\": \"\",\n        \"description\": \"\"\n      }\n    },\n    {\n      \"column\": \"F7\",\n      \"properties\": {\n        \"dtype\": \"number\",\n        \"std\": 0.08700182455831874,\n        \"min\": 0.099,\n        \"max\": 0.409,\n        \"num_unique_values\": 300,\n        \"samples\": [\n          0.308,\n          0.21,\n          0.379\n        ],\n        \"semantic_type\": \"\",\n        \"description\": \"\"\n      }\n    },\n    {\n      \"column\": \"F8\",\n      \"properties\": {\n        \"dtype\": \"number\",\n        \"std\": 85.80602915086239,\n        \"min\": 99.1,\n        \"max\": 411.8,\n        \"num_unique_values\": 843,\n        \"samples\": [\n          360.7,\n          174.5,\n          119.7\n        ],\n        \"semantic_type\": \"\",\n        \"description\": \"\"\n      }\n    },\n    {\n      \"column\": \"F9\",\n      \"properties\": {\n        \"dtype\": \"number\",\n        \"std\": 101,\n        \"min\": 50,\n        \"max\": 398,\n        \"num_unique_values\": 327,\n        \"samples\": [\n          217,\n          370,\n          388\n        ],\n        \"semantic_type\": \"\",\n        \"description\": \"\"\n      }\n    },\n    {\n      \"column\": \"F10\",\n      \"properties\": {\n        \"dtype\": \"number\",\n        \"std\": 0.4257797857178356,\n        \"min\": 0.5,\n        \"max\": 2.09,\n        \"num_unique_values\": 153,\n        \"samples\": [\n          1.36,\n          0.8,\n          0.65\n        ],\n        \"semantic_type\": \"\",\n        \"description\": \"\"\n      }\n    },\n    {\n      \"column\": \"F11\",\n      \"properties\": {\n        \"dtype\": \"number\",\n        \"std\": 2.0840467286803626,\n        \"min\": 93.309,\n        \"max\": 106.601,\n        \"num_unique_values\": 925,\n        \"samples\": [\n          103.561,\n          103.903,\n          100.005\n        ],\n        \"semantic_type\": \"\",\n        \"description\": \"\"\n      }\n    },\n    {\n      \"column\": \"F12\",\n      \"properties\": {\n        \"dtype\": \"number\",\n        \"std\": 0.43548755873596895,\n        \"min\": 1.45,\n        \"max\": 3.18,\n        \"num_unique_values\": 162,\n        \"samples\": [\n          3.18,\n          2.06,\n          2.89\n        ],\n        \"semantic_type\": \"\",\n        \"description\": \"\"\n      }\n    },\n    {\n      \"column\": \"F13\",\n      \"properties\": {\n        \"dtype\": \"number\",\n        \"std\": 2884,\n        \"min\": 13,\n        \"max\": 10275,\n        \"num_unique_values\": 951,\n        \"samples\": [\n          1118,\n          7916,\n          4152\n        ],\n        \"semantic_type\": \"\",\n        \"description\": \"\"\n      }\n    },\n    {\n      \"column\": \"F14\",\n      \"properties\": {\n        \"dtype\": \"number\",\n        \"std\": 5.738261863073978,\n        \"min\": 14.7,\n        \"max\": 36.1,\n        \"num_unique_values\": 210,\n        \"samples\": [\n          17.2,\n          35.8,\n          33.9\n        ],\n        \"semantic_type\": \"\",\n        \"description\": \"\"\n      }\n    },\n    {\n      \"column\": \"F15\",\n      \"properties\": {\n        \"dtype\": \"number\",\n        \"std\": 578,\n        \"min\": 0,\n        \"max\": 2050,\n        \"num_unique_values\": 792,\n        \"samples\": [\n          706,\n          1334,\n          945\n        ],\n        \"semantic_type\": \"\",\n        \"description\": \"\"\n      }\n    },\n    {\n      \"column\": \"Target1\",\n      \"properties\": {\n        \"dtype\": \"number\",\n        \"std\": 0.06753844950219955,\n        \"min\": 0.656,\n        \"max\": 0.993,\n        \"num_unique_values\": 281,\n        \"samples\": [\n          0.826,\n          0.774,\n          0.945\n        ],\n        \"semantic_type\": \"\",\n        \"description\": \"\"\n      }\n    },\n    {\n      \"column\": \"Target2\",\n      \"properties\": {\n        \"dtype\": \"number\",\n        \"std\": 0.5427722632133236,\n        \"min\": 0.191,\n        \"max\": 2.088,\n        \"num_unique_values\": 732,\n        \"samples\": [\n          1.485,\n          0.39,\n          0.551\n        ],\n        \"semantic_type\": \"\",\n        \"description\": \"\"\n      }\n    },\n    {\n      \"column\": \"Target3\",\n      \"properties\": {\n        \"dtype\": \"number\",\n        \"std\": 5.434580448816141,\n        \"min\": 54.1,\n        \"max\": 80.7,\n        \"num_unique_values\": 235,\n        \"samples\": [\n          61.4,\n          72.8,\n          70.0\n        ],\n        \"semantic_type\": \"\",\n        \"description\": \"\"\n      }\n    },\n    {\n      \"column\": \"Target4\",\n      \"properties\": {\n        \"dtype\": \"number\",\n        \"std\": 2.2919060883722797,\n        \"min\": 2.0,\n        \"max\": 10.27,\n        \"num_unique_values\": 585,\n        \"samples\": [\n          3.58,\n          6.93,\n          6.43\n        ],\n        \"semantic_type\": \"\",\n        \"description\": \"\"\n      }\n    },\n    {\n      \"column\": \"Target5\",\n      \"properties\": {\n        \"dtype\": \"number\",\n        \"std\": 44.421317488171,\n        \"min\": 2.84,\n        \"max\": 271.45,\n        \"num_unique_values\": 955,\n        \"samples\": [\n          51.36,\n          27.78,\n          28.74\n        ],\n        \"semantic_type\": \"\",\n        \"description\": \"\"\n      }\n    }\n  ]\n}"
            }
          },
          "metadata": {},
          "execution_count": 5
        }
      ],
      "source": [
        "df.head()"
      ]
    },
    {
      "cell_type": "code",
      "execution_count": 6,
      "metadata": {
        "id": "yjH9O7QUazQw"
      },
      "outputs": [],
      "source": [
        "# Select the target as given below (and drop other targets)\n",
        "# Target1 - Roll Numbers ending with 0 or 5\n",
        "# Target2 - Roll Numbers ending with 1 or 6\n",
        "# Target3 - Roll Numbers ending with 2 or 7\n",
        "# Target4 - Roll Numbers ending with 3 or 8\n",
        "# Target5 - Roll Numbers ending with 4 or 9\n",
        "df['pseudo_roll'] = df.index\n",
        "def select_target(roll):\n",
        "    last_digit = roll % 10\n",
        "    if last_digit in [0, 5]:\n",
        "        return 'Target1'\n",
        "    elif last_digit in [1, 6]:\n",
        "        return 'Target2'\n",
        "    elif last_digit in [2, 7]:\n",
        "        return 'Target3'\n",
        "    elif last_digit in [3, 8]:\n",
        "        return 'Target4'\n",
        "    elif last_digit in [4, 9]:\n",
        "        return 'Target5'"
      ]
    },
    {
      "cell_type": "markdown",
      "source": [
        "**Pre-process the dataset**"
      ],
      "metadata": {
        "id": "PzV7P7wwSAVg"
      }
    },
    {
      "cell_type": "code",
      "execution_count": 7,
      "metadata": {
        "colab": {
          "base_uri": "https://localhost:8080/"
        },
        "id": "omHxTTbsa41w",
        "outputId": "a0486c83-2ddf-4c53-aee7-ccbe28da0ead"
      },
      "outputs": [
        {
          "output_type": "stream",
          "name": "stdout",
          "text": [
            "Total null values: 0\n"
          ]
        }
      ],
      "source": [
        "# check for null values\n",
        "for col in df.columns:\n",
        "  if df[col].isnull().sum() > 0:\n",
        "    df[col] = df[col].fillna(df[col].mean())\n",
        "print(\"Total null values:\", df.isnull().sum().sum())"
      ]
    },
    {
      "cell_type": "code",
      "execution_count": 8,
      "metadata": {
        "id": "MHLUgeE-eeoY"
      },
      "outputs": [],
      "source": [
        "df = df.select_dtypes(include=['number'])"
      ]
    },
    {
      "cell_type": "code",
      "execution_count": 9,
      "metadata": {
        "colab": {
          "base_uri": "https://localhost:8080/",
          "height": 854
        },
        "id": "p4JkWkGNenGr",
        "outputId": "9fe56314-5b9f-4c92-904d-57c4d140b768"
      },
      "outputs": [
        {
          "output_type": "display_data",
          "data": {
            "text/plain": [
              "<Figure size 1000x1000 with 25 Axes>"
            ],
            "image/png": "[encoded data removed]"
          },
          "metadata": {}
        }
      ],
      "source": [
        "df.hist(bins=20, figsize=(10, 10))\n",
        "plt.show()"
      ]
    },
    {
      "cell_type": "code",
      "execution_count": 10,
      "metadata": {
        "id": "s-ePSZCoe3a6"
      },
      "outputs": [],
      "source": [
        "for col in df.columns:\n",
        "  if df[col].dtype == 'object':\n",
        "    try:\n",
        "      df[col] = pd.to_numeric(df[col], errors='coerce')\n",
        "    except:\n",
        "      pass"
      ]
    },
    {
      "cell_type": "code",
      "execution_count": 11,
      "metadata": {
        "colab": {
          "base_uri": "https://localhost:8080/",
          "height": 1000
        },
        "id": "GsyYMziJe9p3",
        "outputId": "ed4cef6e-f18e-4f29-a3d5-b1b10d92a6f4"
      },
      "outputs": [
        {
          "output_type": "display_data",
          "data": {
            "text/plain": [
              "<Figure size 1200x1200 with 1 Axes>"
            ],
            "image/png": "[encoded data removed]"
          },
          "metadata": {}
        }
      ],
      "source": [
        "corr = df.corr()\n",
        "plt.figure(figsize=(12, 12))\n",
        "sns.heatmap(corr > 0.7, annot=True, cbar=False)\n",
        "plt.show()"
      ]
    },
    {
      "cell_type": "code",
      "execution_count": 12,
      "metadata": {
        "colab": {
          "base_uri": "https://localhost:8080/"
        },
        "id": "XgJEdZtbiC3M",
        "outputId": "147a603c-520e-4cc5-c671-7770bff06907"
      },
      "outputs": [
        {
          "output_type": "stream",
          "name": "stdout",
          "text": [
            "Index(['F1', 'F2', 'F3', 'F4', 'F5', 'F6', 'F7', 'F8', 'F9', 'F10', 'F11',\n",
            "       'F12', 'F13', 'F14', 'F15', 'Target1', 'Target2', 'Target3', 'Target4',\n",
            "       'Target5', 'pseudo_roll'],\n",
            "      dtype='object')\n"
          ]
        }
      ],
      "source": [
        "print(df.columns)"
      ]
    },
    {
      "cell_type": "code",
      "execution_count": 13,
      "metadata": {
        "id": "ANM3udNCha5Y"
      },
      "outputs": [],
      "source": [
        "df['SelectedTargetCol'] = df['pseudo_roll'].apply(select_target)\n",
        "df['Target'] = df.apply(lambda row: row[row['SelectedTargetCol']], axis=1)\n",
        "\n",
        "# Drop other target columns\n",
        "df = df.drop(columns=['Target1','Target2','Target3','Target4','Target5','SelectedTargetCol','pseudo_roll'])"
      ]
    },
    {
      "cell_type": "code",
      "execution_count": 14,
      "metadata": {
        "colab": {
          "base_uri": "https://localhost:8080/"
        },
        "id": "s0ofJecRfjcl",
        "outputId": "53987283-0d85-4b10-d0ee-9047367e421d"
      },
      "outputs": [
        {
          "output_type": "stream",
          "name": "stdout",
          "text": [
            "Requirement already satisfied: pycaret in /usr/local/lib/python3.10/dist-packages (3.3.2)\n",
            "Requirement already satisfied: ipython>=5.5.0 in /usr/local/lib/python3.10/dist-packages (from pycaret) (7.34.0)\n",
            "Requirement already satisfied: ipywidgets>=7.6.5 in /usr/local/lib/python3.10/dist-packages (from pycaret) (7.7.1)\n",
            "Requirement already satisfied: tqdm>=4.62.0 in /usr/local/lib/python3.10/dist-packages (from pycaret) (4.66.6)\n",
            "Requirement already satisfied: numpy<1.27,>=1.21 in /usr/local/lib/python3.10/dist-packages (from pycaret) (1.26.4)\n",
            "Requirement already satisfied: pandas<2.2.0 in /usr/local/lib/python3.10/dist-packages (from pycaret) (2.1.4)\n",
            "Requirement already satisfied: jinja2>=3 in /usr/local/lib/python3.10/dist-packages (from pycaret) (3.1.4)\n",
            "Requirement already satisfied: scipy<=1.11.4,>=1.6.1 in /usr/local/lib/python3.10/dist-packages (from pycaret) (1.11.4)\n",
            "Requirement already satisfied: joblib<1.4,>=1.2.0 in /usr/local/lib/python3.10/dist-packages (from pycaret) (1.3.2)\n",
            "Requirement already satisfied: scikit-learn>1.4.0 in /usr/local/lib/python3.10/dist-packages (from pycaret) (1.4.2)\n",
            "Requirement already satisfied: pyod>=1.1.3 in /usr/local/lib/python3.10/dist-packages (from pycaret) (2.0.2)\n",
            "Requirement already satisfied: imbalanced-learn>=0.12.0 in /usr/local/lib/python3.10/dist-packages (from pycaret) (0.12.4)\n",
            "Requirement already satisfied: category-encoders>=2.4.0 in /usr/local/lib/python3.10/dist-packages (from pycaret) (2.6.4)\n",
            "Requirement already satisfied: lightgbm>=3.0.0 in /usr/local/lib/python3.10/dist-packages (from pycaret) (4.5.0)\n",
            "Requirement already satisfied: numba>=0.55.0 in /usr/local/lib/python3.10/dist-packages (from pycaret) (0.60.0)\n",
            "Requirement already satisfied: requests>=2.27.1 in /usr/local/lib/python3.10/dist-packages (from pycaret) (2.32.3)\n",
            "Requirement already satisfied: psutil>=5.9.0 in /usr/local/lib/python3.10/dist-packages (from pycaret) (5.9.5)\n",
            "Requirement already satisfied: markupsafe>=2.0.1 in /usr/local/lib/python3.10/dist-packages (from pycaret) (3.0.2)\n",
            "Requirement already satisfied: importlib-metadata>=4.12.0 in /usr/local/lib/python3.10/dist-packages (from pycaret) (8.5.0)\n",
            "Requirement already satisfied: nbformat>=4.2.0 in /usr/local/lib/python3.10/dist-packages (from pycaret) (5.10.4)\n",
            "Requirement already satisfied: cloudpickle in /usr/local/lib/python3.10/dist-packages (from pycaret) (3.1.0)\n",
            "Requirement already satisfied: deprecation>=2.1.0 in /usr/local/lib/python3.10/dist-packages (from pycaret) (2.1.0)\n",
            "Requirement already satisfied: xxhash in /usr/local/lib/python3.10/dist-packages (from pycaret) (3.5.0)\n",
            "Requirement already satisfied: matplotlib<3.8.0 in /usr/local/lib/python3.10/dist-packages (from pycaret) (3.7.5)\n",
            "Requirement already satisfied: scikit-plot>=0.3.7 in /usr/local/lib/python3.10/dist-packages (from pycaret) (0.3.7)\n",
            "Requirement already satisfied: yellowbrick>=1.4 in /usr/local/lib/python3.10/dist-packages (from pycaret) (1.5)\n",
            "Requirement already satisfied: plotly>=5.14.0 in /usr/local/lib/python3.10/dist-packages (from pycaret) (5.24.1)\n",
            "Requirement already satisfied: kaleido>=0.2.1 in /usr/local/lib/python3.10/dist-packages (from pycaret) (0.2.1)\n",
            "Requirement already satisfied: schemdraw==0.15 in /usr/local/lib/python3.10/dist-packages (from pycaret) (0.15)\n",
            "Requirement already satisfied: plotly-resampler>=0.8.3.1 in /usr/local/lib/python3.10/dist-packages (from pycaret) (0.10.0)\n",
            "Requirement already satisfied: statsmodels>=0.12.1 in /usr/local/lib/python3.10/dist-packages (from pycaret) (0.14.4)\n",
            "Requirement already satisfied: sktime==0.26.0 in /usr/local/lib/python3.10/dist-packages (from pycaret) (0.26.0)\n",
            "Requirement already satisfied: tbats>=1.1.3 in /usr/local/lib/python3.10/dist-packages (from pycaret) (1.1.3)\n",
            "Requirement already satisfied: pmdarima>=2.0.4 in /usr/local/lib/python3.10/dist-packages (from pycaret) (2.0.4)\n",
            "Requirement already satisfied: wurlitzer in /usr/local/lib/python3.10/dist-packages (from pycaret) (3.1.1)\n",
            "Requirement already satisfied: packaging in /usr/local/lib/python3.10/dist-packages (from sktime==0.26.0->pycaret) (24.2)\n",
            "Requirement already satisfied: scikit-base<0.8.0 in /usr/local/lib/python3.10/dist-packages (from sktime==0.26.0->pycaret) (0.7.8)\n",
            "Requirement already satisfied: patsy>=0.5.1 in /usr/local/lib/python3.10/dist-packages (from category-encoders>=2.4.0->pycaret) (1.0.1)\n",
            "Requirement already satisfied: threadpoolctl>=2.0.0 in /usr/local/lib/python3.10/dist-packages (from imbalanced-learn>=0.12.0->pycaret) (3.5.0)\n",
            "Requirement already satisfied: zipp>=3.20 in /usr/local/lib/python3.10/dist-packages (from importlib-metadata>=4.12.0->pycaret) (3.21.0)\n",
            "Requirement already satisfied: setuptools>=18.5 in /usr/local/lib/python3.10/dist-packages (from ipython>=5.5.0->pycaret) (75.1.0)\n",
            "Requirement already satisfied: jedi>=0.16 in /usr/local/lib/python3.10/dist-packages (from ipython>=5.5.0->pycaret) (0.19.2)\n",
            "Requirement already satisfied: decorator in /usr/local/lib/python3.10/dist-packages (from ipython>=5.5.0->pycaret) (4.4.2)\n",
            "Requirement already satisfied: pickleshare in /usr/local/lib/python3.10/dist-packages (from ipython>=5.5.0->pycaret) (0.7.5)\n",
            "Requirement already satisfied: traitlets>=4.2 in /usr/local/lib/python3.10/dist-packages (from ipython>=5.5.0->pycaret) (5.7.1)\n",
            "Requirement already satisfied: prompt-toolkit!=3.0.0,!=3.0.1,<3.1.0,>=2.0.0 in /usr/local/lib/python3.10/dist-packages (from ipython>=5.5.0->pycaret) (3.0.48)\n",
            "Requirement already satisfied: pygments in /usr/local/lib/python3.10/dist-packages (from ipython>=5.5.0->pycaret) (2.18.0)\n",
            "Requirement already satisfied: backcall in /usr/local/lib/python3.10/dist-packages (from ipython>=5.5.0->pycaret) (0.2.0)\n",
            "Requirement already satisfied: matplotlib-inline in /usr/local/lib/python3.10/dist-packages (from ipython>=5.5.0->pycaret) (0.1.7)\n",
            "Requirement already satisfied: pexpect>4.3 in /usr/local/lib/python3.10/dist-packages (from ipython>=5.5.0->pycaret) (4.9.0)\n",
            "Requirement already satisfied: ipykernel>=4.5.1 in /usr/local/lib/python3.10/dist-packages (from ipywidgets>=7.6.5->pycaret) (5.5.6)\n",
            "Requirement already satisfied: ipython-genutils~=0.2.0 in /usr/local/lib/python3.10/dist-packages (from ipywidgets>=7.6.5->pycaret) (0.2.0)\n",
            "Requirement already satisfied: widgetsnbextension~=3.6.0 in /usr/local/lib/python3.10/dist-packages (from ipywidgets>=7.6.5->pycaret) (3.6.10)\n",
            "Requirement already satisfied: jupyterlab-widgets>=1.0.0 in /usr/local/lib/python3.10/dist-packages (from ipywidgets>=7.6.5->pycaret) (3.0.13)\n",
            "Requirement already satisfied: contourpy>=1.0.1 in /usr/local/lib/python3.10/dist-packages (from matplotlib<3.8.0->pycaret) (1.3.1)\n",
            "Requirement already satisfied: cycler>=0.10 in /usr/local/lib/python3.10/dist-packages (from matplotlib<3.8.0->pycaret) (0.12.1)\n",
            "Requirement already satisfied: fonttools>=4.22.0 in /usr/local/lib/python3.10/dist-packages (from matplotlib<3.8.0->pycaret) (4.55.3)\n",
            "Requirement already satisfied: kiwisolver>=1.0.1 in /usr/local/lib/python3.10/dist-packages (from matplotlib<3.8.0->pycaret) (1.4.7)\n",
            "Requirement already satisfied: pillow>=6.2.0 in /usr/local/lib/python3.10/dist-packages (from matplotlib<3.8.0->pycaret) (11.0.0)\n",
            "Requirement already satisfied: pyparsing>=2.3.1 in /usr/local/lib/python3.10/dist-packages (from matplotlib<3.8.0->pycaret) (3.2.0)\n",
            "Requirement already satisfied: python-dateutil>=2.7 in /usr/local/lib/python3.10/dist-packages (from matplotlib<3.8.0->pycaret) (2.8.2)\n",
            "Requirement already satisfied: fastjsonschema>=2.15 in /usr/local/lib/python3.10/dist-packages (from nbformat>=4.2.0->pycaret) (2.21.1)\n",
            "Requirement already satisfied: jsonschema>=2.6 in /usr/local/lib/python3.10/dist-packages (from nbformat>=4.2.0->pycaret) (4.23.0)\n",
            "Requirement already satisfied: jupyter-core!=5.0.*,>=4.12 in /usr/local/lib/python3.10/dist-packages (from nbformat>=4.2.0->pycaret) (5.7.2)\n",
            "Requirement already satisfied: llvmlite<0.44,>=0.43.0dev0 in /usr/local/lib/python3.10/dist-packages (from numba>=0.55.0->pycaret) (0.43.0)\n",
            "Requirement already satisfied: pytz>=2020.1 in /usr/local/lib/python3.10/dist-packages (from pandas<2.2.0->pycaret) (2024.2)\n",
            "Requirement already satisfied: tzdata>=2022.1 in /usr/local/lib/python3.10/dist-packages (from pandas<2.2.0->pycaret) (2024.2)\n",
            "Requirement already satisfied: tenacity>=6.2.0 in /usr/local/lib/python3.10/dist-packages (from plotly>=5.14.0->pycaret) (9.0.0)\n",
            "Requirement already satisfied: dash>=2.9.0 in /usr/local/lib/python3.10/dist-packages (from plotly-resampler>=0.8.3.1->pycaret) (2.18.2)\n",
            "Requirement already satisfied: orjson<4.0.0,>=3.8.0 in /usr/local/lib/python3.10/dist-packages (from plotly-resampler>=0.8.3.1->pycaret) (3.10.12)\n",
            "Requirement already satisfied: tsdownsample>=0.1.3 in /usr/local/lib/python3.10/dist-packages (from plotly-resampler>=0.8.3.1->pycaret) (0.1.3)\n",
            "Requirement already satisfied: Cython!=0.29.18,!=0.29.31,>=0.29 in /usr/local/lib/python3.10/dist-packages (from pmdarima>=2.0.4->pycaret) (3.0.11)\n",
            "Requirement already satisfied: urllib3 in /usr/local/lib/python3.10/dist-packages (from pmdarima>=2.0.4->pycaret) (2.2.3)\n",
            "Requirement already satisfied: charset-normalizer<4,>=2 in /usr/local/lib/python3.10/dist-packages (from requests>=2.27.1->pycaret) (3.4.0)\n",
            "Requirement already satisfied: idna<4,>=2.5 in /usr/local/lib/python3.10/dist-packages (from requests>=2.27.1->pycaret) (3.10)\n",
            "Requirement already satisfied: certifi>=2017.4.17 in /usr/local/lib/python3.10/dist-packages (from requests>=2.27.1->pycaret) (2024.8.30)\n",
            "Requirement already satisfied: Flask<3.1,>=1.0.4 in /usr/local/lib/python3.10/dist-packages (from dash>=2.9.0->plotly-resampler>=0.8.3.1->pycaret) (3.0.3)\n",
            "Requirement already satisfied: Werkzeug<3.1 in /usr/local/lib/python3.10/dist-packages (from dash>=2.9.0->plotly-resampler>=0.8.3.1->pycaret) (3.0.6)\n",
            "Requirement already satisfied: dash-html-components==2.0.0 in /usr/local/lib/python3.10/dist-packages (from dash>=2.9.0->plotly-resampler>=0.8.3.1->pycaret) (2.0.0)\n",
            "Requirement already satisfied: dash-core-components==2.0.0 in /usr/local/lib/python3.10/dist-packages (from dash>=2.9.0->plotly-resampler>=0.8.3.1->pycaret) (2.0.0)\n",
            "Requirement already satisfied: dash-table==5.0.0 in /usr/local/lib/python3.10/dist-packages (from dash>=2.9.0->plotly-resampler>=0.8.3.1->pycaret) (5.0.0)\n",
            "Requirement already satisfied: typing-extensions>=4.1.1 in /usr/local/lib/python3.10/dist-packages (from dash>=2.9.0->plotly-resampler>=0.8.3.1->pycaret) (4.12.2)\n",
            "Requirement already satisfied: retrying in /usr/local/lib/python3.10/dist-packages (from dash>=2.9.0->plotly-resampler>=0.8.3.1->pycaret) (1.3.4)\n",
            "Requirement already satisfied: nest-asyncio in /usr/local/lib/python3.10/dist-packages (from dash>=2.9.0->plotly-resampler>=0.8.3.1->pycaret) (1.6.0)\n",
            "Requirement already satisfied: jupyter-client in /usr/local/lib/python3.10/dist-packages (from ipykernel>=4.5.1->ipywidgets>=7.6.5->pycaret) (6.1.12)\n",
            "Requirement already satisfied: tornado>=4.2 in /usr/local/lib/python3.10/dist-packages (from ipykernel>=4.5.1->ipywidgets>=7.6.5->pycaret) (6.3.3)\n",
            "Requirement already satisfied: parso<0.9.0,>=0.8.4 in /usr/local/lib/python3.10/dist-packages (from jedi>=0.16->ipython>=5.5.0->pycaret) (0.8.4)\n",
            "Requirement already satisfied: attrs>=22.2.0 in /usr/local/lib/python3.10/dist-packages (from jsonschema>=2.6->nbformat>=4.2.0->pycaret) (24.2.0)\n",
            "Requirement already satisfied: jsonschema-specifications>=2023.03.6 in /usr/local/lib/python3.10/dist-packages (from jsonschema>=2.6->nbformat>=4.2.0->pycaret) (2024.10.1)\n",
            "Requirement already satisfied: referencing>=0.28.4 in /usr/local/lib/python3.10/dist-packages (from jsonschema>=2.6->nbformat>=4.2.0->pycaret) (0.35.1)\n",
            "Requirement already satisfied: rpds-py>=0.7.1 in /usr/local/lib/python3.10/dist-packages (from jsonschema>=2.6->nbformat>=4.2.0->pycaret) (0.22.3)\n",
            "Requirement already satisfied: platformdirs>=2.5 in /usr/local/lib/python3.10/dist-packages (from jupyter-core!=5.0.*,>=4.12->nbformat>=4.2.0->pycaret) (4.3.6)\n",
            "Requirement already satisfied: ptyprocess>=0.5 in /usr/local/lib/python3.10/dist-packages (from pexpect>4.3->ipython>=5.5.0->pycaret) (0.7.0)\n",
            "Requirement already satisfied: wcwidth in /usr/local/lib/python3.10/dist-packages (from prompt-toolkit!=3.0.0,!=3.0.1,<3.1.0,>=2.0.0->ipython>=5.5.0->pycaret) (0.2.13)\n",
            "Requirement already satisfied: six>=1.5 in /usr/local/lib/python3.10/dist-packages (from python-dateutil>=2.7->matplotlib<3.8.0->pycaret) (1.17.0)\n",
            "Requirement already satisfied: notebook>=4.4.1 in /usr/local/lib/python3.10/dist-packages (from widgetsnbextension~=3.6.0->ipywidgets>=7.6.5->pycaret) (6.5.5)\n",
            "Requirement already satisfied: itsdangerous>=2.1.2 in /usr/local/lib/python3.10/dist-packages (from Flask<3.1,>=1.0.4->dash>=2.9.0->plotly-resampler>=0.8.3.1->pycaret) (2.2.0)\n",
            "Requirement already satisfied: click>=8.1.3 in /usr/local/lib/python3.10/dist-packages (from Flask<3.1,>=1.0.4->dash>=2.9.0->plotly-resampler>=0.8.3.1->pycaret) (8.1.7)\n",
            "Requirement already satisfied: blinker>=1.6.2 in /usr/local/lib/python3.10/dist-packages (from Flask<3.1,>=1.0.4->dash>=2.9.0->plotly-resampler>=0.8.3.1->pycaret) (1.9.0)\n",
            "Requirement already satisfied: pyzmq<25,>=17 in /usr/local/lib/python3.10/dist-packages (from notebook>=4.4.1->widgetsnbextension~=3.6.0->ipywidgets>=7.6.5->pycaret) (24.0.1)\n",
            "Requirement already satisfied: argon2-cffi in /usr/local/lib/python3.10/dist-packages (from notebook>=4.4.1->widgetsnbextension~=3.6.0->ipywidgets>=7.6.5->pycaret) (23.1.0)\n",
            "Requirement already satisfied: nbconvert>=5 in /usr/local/lib/python3.10/dist-packages (from notebook>=4.4.1->widgetsnbextension~=3.6.0->ipywidgets>=7.6.5->pycaret) (7.16.4)\n",
            "Requirement already satisfied: Send2Trash>=1.8.0 in /usr/local/lib/python3.10/dist-packages (from notebook>=4.4.1->widgetsnbextension~=3.6.0->ipywidgets>=7.6.5->pycaret) (1.8.3)\n",
            "Requirement already satisfied: terminado>=0.8.3 in /usr/local/lib/python3.10/dist-packages (from notebook>=4.4.1->widgetsnbextension~=3.6.0->ipywidgets>=7.6.5->pycaret) (0.18.1)\n",
            "Requirement already satisfied: prometheus-client in /usr/local/lib/python3.10/dist-packages (from notebook>=4.4.1->widgetsnbextension~=3.6.0->ipywidgets>=7.6.5->pycaret) (0.21.1)\n",
            "Requirement already satisfied: nbclassic>=0.4.7 in /usr/local/lib/python3.10/dist-packages (from notebook>=4.4.1->widgetsnbextension~=3.6.0->ipywidgets>=7.6.5->pycaret) (1.1.0)\n",
            "Requirement already satisfied: notebook-shim>=0.2.3 in /usr/local/lib/python3.10/dist-packages (from nbclassic>=0.4.7->notebook>=4.4.1->widgetsnbextension~=3.6.0->ipywidgets>=7.6.5->pycaret) (0.2.4)\n",
            "Requirement already satisfied: beautifulsoup4 in /usr/local/lib/python3.10/dist-packages (from nbconvert>=5->notebook>=4.4.1->widgetsnbextension~=3.6.0->ipywidgets>=7.6.5->pycaret) (4.12.3)\n",
            "Requirement already satisfied: bleach!=5.0.0 in /usr/local/lib/python3.10/dist-packages (from nbconvert>=5->notebook>=4.4.1->widgetsnbextension~=3.6.0->ipywidgets>=7.6.5->pycaret) (6.2.0)\n",
            "Requirement already satisfied: defusedxml in /usr/local/lib/python3.10/dist-packages (from nbconvert>=5->notebook>=4.4.1->widgetsnbextension~=3.6.0->ipywidgets>=7.6.5->pycaret) (0.7.1)\n",
            "Requirement already satisfied: jupyterlab-pygments in /usr/local/lib/python3.10/dist-packages (from nbconvert>=5->notebook>=4.4.1->widgetsnbextension~=3.6.0->ipywidgets>=7.6.5->pycaret) (0.3.0)\n",
            "Requirement already satisfied: mistune<4,>=2.0.3 in /usr/local/lib/python3.10/dist-packages (from nbconvert>=5->notebook>=4.4.1->widgetsnbextension~=3.6.0->ipywidgets>=7.6.5->pycaret) (3.0.2)\n",
            "Requirement already satisfied: nbclient>=0.5.0 in /usr/local/lib/python3.10/dist-packages (from nbconvert>=5->notebook>=4.4.1->widgetsnbextension~=3.6.0->ipywidgets>=7.6.5->pycaret) (0.10.1)\n",
            "Requirement already satisfied: pandocfilters>=1.4.1 in /usr/local/lib/python3.10/dist-packages (from nbconvert>=5->notebook>=4.4.1->widgetsnbextension~=3.6.0->ipywidgets>=7.6.5->pycaret) (1.5.1)\n",
            "Requirement already satisfied: tinycss2 in /usr/local/lib/python3.10/dist-packages (from nbconvert>=5->notebook>=4.4.1->widgetsnbextension~=3.6.0->ipywidgets>=7.6.5->pycaret) (1.4.0)\n",
            "Requirement already satisfied: argon2-cffi-bindings in /usr/local/lib/python3.10/dist-packages (from argon2-cffi->notebook>=4.4.1->widgetsnbextension~=3.6.0->ipywidgets>=7.6.5->pycaret) (21.2.0)\n",
            "Requirement already satisfied: webencodings in /usr/local/lib/python3.10/dist-packages (from bleach!=5.0.0->nbconvert>=5->notebook>=4.4.1->widgetsnbextension~=3.6.0->ipywidgets>=7.6.5->pycaret) (0.5.1)\n",
            "Requirement already satisfied: jupyter-server<3,>=1.8 in /usr/local/lib/python3.10/dist-packages (from notebook-shim>=0.2.3->nbclassic>=0.4.7->notebook>=4.4.1->widgetsnbextension~=3.6.0->ipywidgets>=7.6.5->pycaret) (1.24.0)\n",
            "Requirement already satisfied: cffi>=1.0.1 in /usr/local/lib/python3.10/dist-packages (from argon2-cffi-bindings->argon2-cffi->notebook>=4.4.1->widgetsnbextension~=3.6.0->ipywidgets>=7.6.5->pycaret) (1.17.1)\n",
            "Requirement already satisfied: soupsieve>1.2 in /usr/local/lib/python3.10/dist-packages (from beautifulsoup4->nbconvert>=5->notebook>=4.4.1->widgetsnbextension~=3.6.0->ipywidgets>=7.6.5->pycaret) (2.6)\n",
            "Requirement already satisfied: pycparser in /usr/local/lib/python3.10/dist-packages (from cffi>=1.0.1->argon2-cffi-bindings->argon2-cffi->notebook>=4.4.1->widgetsnbextension~=3.6.0->ipywidgets>=7.6.5->pycaret) (2.22)\n",
            "Requirement already satisfied: anyio<4,>=3.1.0 in /usr/local/lib/python3.10/dist-packages (from jupyter-server<3,>=1.8->notebook-shim>=0.2.3->nbclassic>=0.4.7->notebook>=4.4.1->widgetsnbextension~=3.6.0->ipywidgets>=7.6.5->pycaret) (3.7.1)\n",
            "Requirement already satisfied: websocket-client in /usr/local/lib/python3.10/dist-packages (from jupyter-server<3,>=1.8->notebook-shim>=0.2.3->nbclassic>=0.4.7->notebook>=4.4.1->widgetsnbextension~=3.6.0->ipywidgets>=7.6.5->pycaret) (1.8.0)\n",
            "Requirement already satisfied: sniffio>=1.1 in /usr/local/lib/python3.10/dist-packages (from anyio<4,>=3.1.0->jupyter-server<3,>=1.8->notebook-shim>=0.2.3->nbclassic>=0.4.7->notebook>=4.4.1->widgetsnbextension~=3.6.0->ipywidgets>=7.6.5->pycaret) (1.3.1)\n",
            "Requirement already satisfied: exceptiongroup in /usr/local/lib/python3.10/dist-packages (from anyio<4,>=3.1.0->jupyter-server<3,>=1.8->notebook-shim>=0.2.3->nbclassic>=0.4.7->notebook>=4.4.1->widgetsnbextension~=3.6.0->ipywidgets>=7.6.5->pycaret) (1.2.2)\n"
          ]
        }
      ],
      "source": [
        "# install pycaret to compare models\n",
        "!pip install pycaret"
      ]
    },
    {
      "cell_type": "code",
      "execution_count": 15,
      "metadata": {
        "colab": {
          "base_uri": "https://localhost:8080/"
        },
        "id": "K0_Gl4wCjMK5",
        "outputId": "7813a880-68d4-4065-81da-2bbdee434f29"
      },
      "outputs": [
        {
          "output_type": "stream",
          "name": "stdout",
          "text": [
            "Target\n",
            "68.600     4\n",
            "69.900     4\n",
            "69.600     4\n",
            "0.887      4\n",
            "0.838      4\n",
            "          ..\n",
            "1.947      1\n",
            "78.700     1\n",
            "2.230      1\n",
            "102.370    1\n",
            "5.590      1\n",
            "Name: count, Length: 800, dtype: int64\n"
          ]
        }
      ],
      "source": [
        "print(df['Target'].value_counts())"
      ]
    },
    {
      "cell_type": "code",
      "execution_count": 16,
      "metadata": {
        "id": "_LD5Fe-Zgdgx"
      },
      "outputs": [],
      "source": [
        "from pycaret.regression import setup, compare_models, pull, finalize_model, predict_model"
      ]
    },
    {
      "cell_type": "code",
      "source": [
        "# Initialize for regression\n",
        "reg_setup = setup(data=df, target='Target', session_id=42, preprocess=True, verbose=False)"
      ],
      "metadata": {
        "id": "8pY_M4Rb0KVf"
      },
      "execution_count": 17,
      "outputs": []
    },
    {
      "cell_type": "code",
      "execution_count": 18,
      "metadata": {
        "colab": {
          "base_uri": "https://localhost:8080/"
        },
        "id": "jyB-4LWwko4V",
        "outputId": "83fb4909-003b-4fe4-b0b0-61d6d7b439c5"
      },
      "outputs": [
        {
          "output_type": "stream",
          "name": "stdout",
          "text": [
            "Index(['F1', 'F2', 'F3', 'F4', 'F5', 'F6', 'F7', 'F8', 'F9', 'F10', 'F11',\n",
            "       'F12', 'F13', 'F14', 'F15', 'Target'],\n",
            "      dtype='object')\n"
          ]
        }
      ],
      "source": [
        "print(df.columns)"
      ]
    },
    {
      "cell_type": "code",
      "source": [
        "best_models = compare_models(sort='R2', n_select=10, fold=5)"
      ],
      "metadata": {
        "colab": {
          "base_uri": "https://localhost:8080/",
          "height": 820,
          "referenced_widgets": [
            "803202e1f92e41feb942b8bb51d6e91a",
            "9db05e5a5fc943dc9b49cf62d1069635",
            "a1e7122c4b764d9b921cd8ccce45de9c",
            "065fcd715bbb4ee4ae16ca747a5abc36",
            "d32e530ebdb44e2095c220a6c247e890",
            "17ffcf8046c94f44bf02ae37d1f4b890",
            "cb094ccfaa554e0194a4a46f566f8813",
            "f49fbed2933f40ea868232f6cc03a38c",
            "fbfbe395b380457fa54d6dae1167920b",
            "ec23d57f9c76449a8b57b4a40f8fb300",
            "05d810b0970346b4885cd37edb9a9892"
          ]
        },
        "id": "6UQPlQAe0RKN",
        "outputId": "6b8c2082-12dc-4f26-9ccf-4d684e15b905"
      },
      "execution_count": 19,
      "outputs": [
        {
          "output_type": "display_data",
          "data": {
            "text/plain": [
              "<IPython.core.display.HTML object>"
            ],
            "text/html": []
          },
          "metadata": {}
        },
        {
          "output_type": "display_data",
          "data": {
            "text/plain": [
              "<pandas.io.formats.style.Styler at 0x7862be812ce0>"
            ],
            "text/html": [
              "<style type=\"text/css\">\n",
              "#T_3f1a6 th {\n",
              "  text-align: left;\n",
              "}\n",
              "#T_3f1a6_row0_col0, #T_3f1a6_row0_col1, #T_3f1a6_row0_col5, #T_3f1a6_row0_col6, #T_3f1a6_row1_col0, #T_3f1a6_row1_col1, #T_3f1a6_row1_col2, #T_3f1a6_row1_col3, #T_3f1a6_row1_col4, #T_3f1a6_row1_col5, #T_3f1a6_row1_col6, #T_3f1a6_row2_col0, #T_3f1a6_row2_col1, #T_3f1a6_row2_col2, #T_3f1a6_row2_col3, #T_3f1a6_row2_col4, #T_3f1a6_row2_col5, #T_3f1a6_row2_col6, #T_3f1a6_row3_col0, #T_3f1a6_row3_col1, #T_3f1a6_row3_col2, #T_3f1a6_row3_col3, #T_3f1a6_row3_col4, #T_3f1a6_row3_col5, #T_3f1a6_row3_col6, #T_3f1a6_row4_col0, #T_3f1a6_row4_col1, #T_3f1a6_row4_col2, #T_3f1a6_row4_col3, #T_3f1a6_row4_col4, #T_3f1a6_row4_col5, #T_3f1a6_row4_col6, #T_3f1a6_row5_col0, #T_3f1a6_row5_col1, #T_3f1a6_row5_col2, #T_3f1a6_row5_col3, #T_3f1a6_row5_col4, #T_3f1a6_row5_col5, #T_3f1a6_row5_col6, #T_3f1a6_row6_col0, #T_3f1a6_row6_col1, #T_3f1a6_row6_col2, #T_3f1a6_row6_col3, #T_3f1a6_row6_col4, #T_3f1a6_row6_col5, #T_3f1a6_row6_col6, #T_3f1a6_row7_col0, #T_3f1a6_row7_col1, #T_3f1a6_row7_col2, #T_3f1a6_row7_col3, #T_3f1a6_row7_col4, #T_3f1a6_row7_col5, #T_3f1a6_row7_col6, #T_3f1a6_row8_col0, #T_3f1a6_row8_col1, #T_3f1a6_row8_col2, #T_3f1a6_row8_col3, #T_3f1a6_row8_col4, #T_3f1a6_row8_col5, #T_3f1a6_row8_col6, #T_3f1a6_row9_col0, #T_3f1a6_row9_col1, #T_3f1a6_row9_col2, #T_3f1a6_row9_col3, #T_3f1a6_row9_col4, #T_3f1a6_row9_col5, #T_3f1a6_row9_col6, #T_3f1a6_row10_col0, #T_3f1a6_row10_col1, #T_3f1a6_row10_col2, #T_3f1a6_row10_col3, #T_3f1a6_row10_col4, #T_3f1a6_row10_col5, #T_3f1a6_row10_col6, #T_3f1a6_row11_col0, #T_3f1a6_row11_col1, #T_3f1a6_row11_col2, #T_3f1a6_row11_col3, #T_3f1a6_row11_col4, #T_3f1a6_row11_col5, #T_3f1a6_row11_col6, #T_3f1a6_row12_col0, #T_3f1a6_row12_col1, #T_3f1a6_row12_col2, #T_3f1a6_row12_col3, #T_3f1a6_row12_col4, #T_3f1a6_row12_col5, #T_3f1a6_row12_col6, #T_3f1a6_row13_col0, #T_3f1a6_row13_col1, #T_3f1a6_row13_col2, #T_3f1a6_row13_col3, #T_3f1a6_row13_col4, #T_3f1a6_row13_col5, #T_3f1a6_row13_col6, #T_3f1a6_row14_col0, #T_3f1a6_row14_col1, #T_3f1a6_row14_col2, #T_3f1a6_row14_col3, #T_3f1a6_row14_col4, #T_3f1a6_row14_col5, #T_3f1a6_row14_col6, #T_3f1a6_row15_col0, #T_3f1a6_row15_col1, #T_3f1a6_row15_col2, #T_3f1a6_row15_col3, #T_3f1a6_row15_col4, #T_3f1a6_row15_col5, #T_3f1a6_row15_col6, #T_3f1a6_row16_col0, #T_3f1a6_row16_col2, #T_3f1a6_row16_col3, #T_3f1a6_row16_col4, #T_3f1a6_row17_col0, #T_3f1a6_row17_col1, #T_3f1a6_row17_col2, #T_3f1a6_row17_col3, #T_3f1a6_row17_col4, #T_3f1a6_row17_col5, #T_3f1a6_row17_col6, #T_3f1a6_row18_col0, #T_3f1a6_row18_col1, #T_3f1a6_row18_col2, #T_3f1a6_row18_col3, #T_3f1a6_row18_col4, #T_3f1a6_row18_col5, #T_3f1a6_row18_col6 {\n",
              "  text-align: left;\n",
              "}\n",
              "#T_3f1a6_row0_col2, #T_3f1a6_row0_col3, #T_3f1a6_row0_col4, #T_3f1a6_row16_col1, #T_3f1a6_row16_col5, #T_3f1a6_row16_col6 {\n",
              "  text-align: left;\n",
              "  background-color: yellow;\n",
              "}\n",
              "#T_3f1a6_row0_col7, #T_3f1a6_row2_col7, #T_3f1a6_row3_col7, #T_3f1a6_row5_col7, #T_3f1a6_row6_col7, #T_3f1a6_row7_col7, #T_3f1a6_row8_col7, #T_3f1a6_row9_col7, #T_3f1a6_row10_col7, #T_3f1a6_row11_col7, #T_3f1a6_row12_col7, #T_3f1a6_row13_col7, #T_3f1a6_row14_col7, #T_3f1a6_row15_col7, #T_3f1a6_row16_col7, #T_3f1a6_row17_col7, #T_3f1a6_row18_col7 {\n",
              "  text-align: left;\n",
              "  background-color: lightgrey;\n",
              "}\n",
              "#T_3f1a6_row1_col7, #T_3f1a6_row4_col7 {\n",
              "  text-align: left;\n",
              "  background-color: yellow;\n",
              "  background-color: lightgrey;\n",
              "}\n",
              "</style>\n",
              "<table id=\"T_3f1a6\" class=\"dataframe\">\n",
              "  <thead>\n",
              "    <tr>\n",
              "      <th class=\"blank level0\" >&nbsp;</th>\n",
              "      <th id=\"T_3f1a6_level0_col0\" class=\"col_heading level0 col0\" >Model</th>\n",
              "      <th id=\"T_3f1a6_level0_col1\" class=\"col_heading level0 col1\" >MAE</th>\n",
              "      <th id=\"T_3f1a6_level0_col2\" class=\"col_heading level0 col2\" >MSE</th>\n",
              "      <th id=\"T_3f1a6_level0_col3\" class=\"col_heading level0 col3\" >RMSE</th>\n",
              "      <th id=\"T_3f1a6_level0_col4\" class=\"col_heading level0 col4\" >R2</th>\n",
              "      <th id=\"T_3f1a6_level0_col5\" class=\"col_heading level0 col5\" >RMSLE</th>\n",
              "      <th id=\"T_3f1a6_level0_col6\" class=\"col_heading level0 col6\" >MAPE</th>\n",
              "      <th id=\"T_3f1a6_level0_col7\" class=\"col_heading level0 col7\" >TT (Sec)</th>\n",
              "    </tr>\n",
              "  </thead>\n",
              "  <tbody>\n",
              "    <tr>\n",
              "      <th id=\"T_3f1a6_level0_row0\" class=\"row_heading level0 row0\" >br</th>\n",
              "      <td id=\"T_3f1a6_row0_col0\" class=\"data row0 col0\" >Bayesian Ridge</td>\n",
              "      <td id=\"T_3f1a6_row0_col1\" class=\"data row0 col1\" >28.8257</td>\n",
              "      <td id=\"T_3f1a6_row0_col2\" class=\"data row0 col2\" >1150.6197</td>\n",
              "      <td id=\"T_3f1a6_row0_col3\" class=\"data row0 col3\" >33.8776</td>\n",
              "      <td id=\"T_3f1a6_row0_col4\" class=\"data row0 col4\" >0.0018</td>\n",
              "      <td id=\"T_3f1a6_row0_col5\" class=\"data row0 col5\" >1.8438</td>\n",
              "      <td id=\"T_3f1a6_row0_col6\" class=\"data row0 col6\" >11.5672</td>\n",
              "      <td id=\"T_3f1a6_row0_col7\" class=\"data row0 col7\" >0.0660</td>\n",
              "    </tr>\n",
              "    <tr>\n",
              "      <th id=\"T_3f1a6_level0_row1\" class=\"row_heading level0 row1\" >lasso</th>\n",
              "      <td id=\"T_3f1a6_row1_col0\" class=\"data row1 col0\" >Lasso Regression</td>\n",
              "      <td id=\"T_3f1a6_row1_col1\" class=\"data row1 col1\" >28.6468</td>\n",
              "      <td id=\"T_3f1a6_row1_col2\" class=\"data row1 col2\" >1153.1883</td>\n",
              "      <td id=\"T_3f1a6_row1_col3\" class=\"data row1 col3\" >33.9242</td>\n",
              "      <td id=\"T_3f1a6_row1_col4\" class=\"data row1 col4\" >-0.0020</td>\n",
              "      <td id=\"T_3f1a6_row1_col5\" class=\"data row1 col5\" >1.8396</td>\n",
              "      <td id=\"T_3f1a6_row1_col6\" class=\"data row1 col6\" >11.4715</td>\n",
              "      <td id=\"T_3f1a6_row1_col7\" class=\"data row1 col7\" >0.0260</td>\n",
              "    </tr>\n",
              "    <tr>\n",
              "      <th id=\"T_3f1a6_level0_row2\" class=\"row_heading level0 row2\" >llar</th>\n",
              "      <td id=\"T_3f1a6_row2_col0\" class=\"data row2 col0\" >Lasso Least Angle Regression</td>\n",
              "      <td id=\"T_3f1a6_row2_col1\" class=\"data row2 col1\" >28.6468</td>\n",
              "      <td id=\"T_3f1a6_row2_col2\" class=\"data row2 col2\" >1153.1883</td>\n",
              "      <td id=\"T_3f1a6_row2_col3\" class=\"data row2 col3\" >33.9242</td>\n",
              "      <td id=\"T_3f1a6_row2_col4\" class=\"data row2 col4\" >-0.0020</td>\n",
              "      <td id=\"T_3f1a6_row2_col5\" class=\"data row2 col5\" >1.8396</td>\n",
              "      <td id=\"T_3f1a6_row2_col6\" class=\"data row2 col6\" >11.4715</td>\n",
              "      <td id=\"T_3f1a6_row2_col7\" class=\"data row2 col7\" >0.0360</td>\n",
              "    </tr>\n",
              "    <tr>\n",
              "      <th id=\"T_3f1a6_level0_row3\" class=\"row_heading level0 row3\" >en</th>\n",
              "      <td id=\"T_3f1a6_row3_col0\" class=\"data row3 col0\" >Elastic Net</td>\n",
              "      <td id=\"T_3f1a6_row3_col1\" class=\"data row3 col1\" >28.6449</td>\n",
              "      <td id=\"T_3f1a6_row3_col2\" class=\"data row3 col2\" >1153.7172</td>\n",
              "      <td id=\"T_3f1a6_row3_col3\" class=\"data row3 col3\" >33.9323</td>\n",
              "      <td id=\"T_3f1a6_row3_col4\" class=\"data row3 col4\" >-0.0025</td>\n",
              "      <td id=\"T_3f1a6_row3_col5\" class=\"data row3 col5\" >1.8392</td>\n",
              "      <td id=\"T_3f1a6_row3_col6\" class=\"data row3 col6\" >11.4551</td>\n",
              "      <td id=\"T_3f1a6_row3_col7\" class=\"data row3 col7\" >0.0360</td>\n",
              "    </tr>\n",
              "    <tr>\n",
              "      <th id=\"T_3f1a6_level0_row4\" class=\"row_heading level0 row4\" >ridge</th>\n",
              "      <td id=\"T_3f1a6_row4_col0\" class=\"data row4 col0\" >Ridge Regression</td>\n",
              "      <td id=\"T_3f1a6_row4_col1\" class=\"data row4 col1\" >28.4622</td>\n",
              "      <td id=\"T_3f1a6_row4_col2\" class=\"data row4 col2\" >1154.6667</td>\n",
              "      <td id=\"T_3f1a6_row4_col3\" class=\"data row4 col3\" >33.9468</td>\n",
              "      <td id=\"T_3f1a6_row4_col4\" class=\"data row4 col4\" >-0.0035</td>\n",
              "      <td id=\"T_3f1a6_row4_col5\" class=\"data row4 col5\" >1.8345</td>\n",
              "      <td id=\"T_3f1a6_row4_col6\" class=\"data row4 col6\" >11.4059</td>\n",
              "      <td id=\"T_3f1a6_row4_col7\" class=\"data row4 col7\" >0.0260</td>\n",
              "    </tr>\n",
              "    <tr>\n",
              "      <th id=\"T_3f1a6_level0_row5\" class=\"row_heading level0 row5\" >lr</th>\n",
              "      <td id=\"T_3f1a6_row5_col0\" class=\"data row5 col0\" >Linear Regression</td>\n",
              "      <td id=\"T_3f1a6_row5_col1\" class=\"data row5 col1\" >28.4560</td>\n",
              "      <td id=\"T_3f1a6_row5_col2\" class=\"data row5 col2\" >1155.2368</td>\n",
              "      <td id=\"T_3f1a6_row5_col3\" class=\"data row5 col3\" >33.9547</td>\n",
              "      <td id=\"T_3f1a6_row5_col4\" class=\"data row5 col4\" >-0.0040</td>\n",
              "      <td id=\"T_3f1a6_row5_col5\" class=\"data row5 col5\" >1.8346</td>\n",
              "      <td id=\"T_3f1a6_row5_col6\" class=\"data row5 col6\" >11.4064</td>\n",
              "      <td id=\"T_3f1a6_row5_col7\" class=\"data row5 col7\" >0.9420</td>\n",
              "    </tr>\n",
              "    <tr>\n",
              "      <th id=\"T_3f1a6_level0_row6\" class=\"row_heading level0 row6\" >lar</th>\n",
              "      <td id=\"T_3f1a6_row6_col0\" class=\"data row6 col0\" >Least Angle Regression</td>\n",
              "      <td id=\"T_3f1a6_row6_col1\" class=\"data row6 col1\" >28.4497</td>\n",
              "      <td id=\"T_3f1a6_row6_col2\" class=\"data row6 col2\" >1156.9989</td>\n",
              "      <td id=\"T_3f1a6_row6_col3\" class=\"data row6 col3\" >33.9800</td>\n",
              "      <td id=\"T_3f1a6_row6_col4\" class=\"data row6 col4\" >-0.0054</td>\n",
              "      <td id=\"T_3f1a6_row6_col5\" class=\"data row6 col5\" >1.8343</td>\n",
              "      <td id=\"T_3f1a6_row6_col6\" class=\"data row6 col6\" >11.3986</td>\n",
              "      <td id=\"T_3f1a6_row6_col7\" class=\"data row6 col7\" >0.0280</td>\n",
              "    </tr>\n",
              "    <tr>\n",
              "      <th id=\"T_3f1a6_level0_row7\" class=\"row_heading level0 row7\" >dummy</th>\n",
              "      <td id=\"T_3f1a6_row7_col0\" class=\"data row7 col0\" >Dummy Regressor</td>\n",
              "      <td id=\"T_3f1a6_row7_col1\" class=\"data row7 col1\" >29.2651</td>\n",
              "      <td id=\"T_3f1a6_row7_col2\" class=\"data row7 col2\" >1168.2968</td>\n",
              "      <td id=\"T_3f1a6_row7_col3\" class=\"data row7 col3\" >34.1229</td>\n",
              "      <td id=\"T_3f1a6_row7_col4\" class=\"data row7 col4\" >-0.0119</td>\n",
              "      <td id=\"T_3f1a6_row7_col5\" class=\"data row7 col5\" >1.8584</td>\n",
              "      <td id=\"T_3f1a6_row7_col6\" class=\"data row7 col6\" >11.6675</td>\n",
              "      <td id=\"T_3f1a6_row7_col7\" class=\"data row7 col7\" >0.0360</td>\n",
              "    </tr>\n",
              "    <tr>\n",
              "      <th id=\"T_3f1a6_level0_row8\" class=\"row_heading level0 row8\" >omp</th>\n",
              "      <td id=\"T_3f1a6_row8_col0\" class=\"data row8 col0\" >Orthogonal Matching Pursuit</td>\n",
              "      <td id=\"T_3f1a6_row8_col1\" class=\"data row8 col1\" >29.2769</td>\n",
              "      <td id=\"T_3f1a6_row8_col2\" class=\"data row8 col2\" >1168.5772</td>\n",
              "      <td id=\"T_3f1a6_row8_col3\" class=\"data row8 col3\" >34.1268</td>\n",
              "      <td id=\"T_3f1a6_row8_col4\" class=\"data row8 col4\" >-0.0121</td>\n",
              "      <td id=\"T_3f1a6_row8_col5\" class=\"data row8 col5\" >1.8586</td>\n",
              "      <td id=\"T_3f1a6_row8_col6\" class=\"data row8 col6\" >11.6716</td>\n",
              "      <td id=\"T_3f1a6_row8_col7\" class=\"data row8 col7\" >0.0420</td>\n",
              "    </tr>\n",
              "    <tr>\n",
              "      <th id=\"T_3f1a6_level0_row9\" class=\"row_heading level0 row9\" >et</th>\n",
              "      <td id=\"T_3f1a6_row9_col0\" class=\"data row9 col0\" >Extra Trees Regressor</td>\n",
              "      <td id=\"T_3f1a6_row9_col1\" class=\"data row9 col1\" >29.4039</td>\n",
              "      <td id=\"T_3f1a6_row9_col2\" class=\"data row9 col2\" >1205.5424</td>\n",
              "      <td id=\"T_3f1a6_row9_col3\" class=\"data row9 col3\" >34.6907</td>\n",
              "      <td id=\"T_3f1a6_row9_col4\" class=\"data row9 col4\" >-0.0481</td>\n",
              "      <td id=\"T_3f1a6_row9_col5\" class=\"data row9 col5\" >1.8752</td>\n",
              "      <td id=\"T_3f1a6_row9_col6\" class=\"data row9 col6\" >12.2455</td>\n",
              "      <td id=\"T_3f1a6_row9_col7\" class=\"data row9 col7\" >0.3300</td>\n",
              "    </tr>\n",
              "    <tr>\n",
              "      <th id=\"T_3f1a6_level0_row10\" class=\"row_heading level0 row10\" >rf</th>\n",
              "      <td id=\"T_3f1a6_row10_col0\" class=\"data row10 col0\" >Random Forest Regressor</td>\n",
              "      <td id=\"T_3f1a6_row10_col1\" class=\"data row10 col1\" >29.6055</td>\n",
              "      <td id=\"T_3f1a6_row10_col2\" class=\"data row10 col2\" >1240.5059</td>\n",
              "      <td id=\"T_3f1a6_row10_col3\" class=\"data row10 col3\" >35.2024</td>\n",
              "      <td id=\"T_3f1a6_row10_col4\" class=\"data row10 col4\" >-0.0805</td>\n",
              "      <td id=\"T_3f1a6_row10_col5\" class=\"data row10 col5\" >1.8726</td>\n",
              "      <td id=\"T_3f1a6_row10_col6\" class=\"data row10 col6\" >12.3115</td>\n",
              "      <td id=\"T_3f1a6_row10_col7\" class=\"data row10 col7\" >1.0200</td>\n",
              "    </tr>\n",
              "    <tr>\n",
              "      <th id=\"T_3f1a6_level0_row11\" class=\"row_heading level0 row11\" >ada</th>\n",
              "      <td id=\"T_3f1a6_row11_col0\" class=\"data row11 col0\" >AdaBoost Regressor</td>\n",
              "      <td id=\"T_3f1a6_row11_col1\" class=\"data row11 col1\" >31.9172</td>\n",
              "      <td id=\"T_3f1a6_row11_col2\" class=\"data row11 col2\" >1258.4889</td>\n",
              "      <td id=\"T_3f1a6_row11_col3\" class=\"data row11 col3\" >35.4345</td>\n",
              "      <td id=\"T_3f1a6_row11_col4\" class=\"data row11 col4\" >-0.0955</td>\n",
              "      <td id=\"T_3f1a6_row11_col5\" class=\"data row11 col5\" >2.0191</td>\n",
              "      <td id=\"T_3f1a6_row11_col6\" class=\"data row11 col6\" >15.5585</td>\n",
              "      <td id=\"T_3f1a6_row11_col7\" class=\"data row11 col7\" >0.1580</td>\n",
              "    </tr>\n",
              "    <tr>\n",
              "      <th id=\"T_3f1a6_level0_row12\" class=\"row_heading level0 row12\" >gbr</th>\n",
              "      <td id=\"T_3f1a6_row12_col0\" class=\"data row12 col0\" >Gradient Boosting Regressor</td>\n",
              "      <td id=\"T_3f1a6_row12_col1\" class=\"data row12 col1\" >29.6460</td>\n",
              "      <td id=\"T_3f1a6_row12_col2\" class=\"data row12 col2\" >1288.2812</td>\n",
              "      <td id=\"T_3f1a6_row12_col3\" class=\"data row12 col3\" >35.8643</td>\n",
              "      <td id=\"T_3f1a6_row12_col4\" class=\"data row12 col4\" >-0.1222</td>\n",
              "      <td id=\"T_3f1a6_row12_col5\" class=\"data row12 col5\" >1.8755</td>\n",
              "      <td id=\"T_3f1a6_row12_col6\" class=\"data row12 col6\" >12.0252</td>\n",
              "      <td id=\"T_3f1a6_row12_col7\" class=\"data row12 col7\" >0.3160</td>\n",
              "    </tr>\n",
              "    <tr>\n",
              "      <th id=\"T_3f1a6_level0_row13\" class=\"row_heading level0 row13\" >lightgbm</th>\n",
              "      <td id=\"T_3f1a6_row13_col0\" class=\"data row13 col0\" >Light Gradient Boosting Machine</td>\n",
              "      <td id=\"T_3f1a6_row13_col1\" class=\"data row13 col1\" >29.1230</td>\n",
              "      <td id=\"T_3f1a6_row13_col2\" class=\"data row13 col2\" >1300.3692</td>\n",
              "      <td id=\"T_3f1a6_row13_col3\" class=\"data row13 col3\" >36.0121</td>\n",
              "      <td id=\"T_3f1a6_row13_col4\" class=\"data row13 col4\" >-0.1283</td>\n",
              "      <td id=\"T_3f1a6_row13_col5\" class=\"data row13 col5\" >1.8606</td>\n",
              "      <td id=\"T_3f1a6_row13_col6\" class=\"data row13 col6\" >11.4734</td>\n",
              "      <td id=\"T_3f1a6_row13_col7\" class=\"data row13 col7\" >0.4560</td>\n",
              "    </tr>\n",
              "    <tr>\n",
              "      <th id=\"T_3f1a6_level0_row14\" class=\"row_heading level0 row14\" >xgboost</th>\n",
              "      <td id=\"T_3f1a6_row14_col0\" class=\"data row14 col0\" >Extreme Gradient Boosting</td>\n",
              "      <td id=\"T_3f1a6_row14_col1\" class=\"data row14 col1\" >29.6100</td>\n",
              "      <td id=\"T_3f1a6_row14_col2\" class=\"data row14 col2\" >1356.1214</td>\n",
              "      <td id=\"T_3f1a6_row14_col3\" class=\"data row14 col3\" >36.8099</td>\n",
              "      <td id=\"T_3f1a6_row14_col4\" class=\"data row14 col4\" >-0.1816</td>\n",
              "      <td id=\"T_3f1a6_row14_col5\" class=\"data row14 col5\" >1.8715</td>\n",
              "      <td id=\"T_3f1a6_row14_col6\" class=\"data row14 col6\" >11.6345</td>\n",
              "      <td id=\"T_3f1a6_row14_col7\" class=\"data row14 col7\" >0.3820</td>\n",
              "    </tr>\n",
              "    <tr>\n",
              "      <th id=\"T_3f1a6_level0_row15\" class=\"row_heading level0 row15\" >knn</th>\n",
              "      <td id=\"T_3f1a6_row15_col0\" class=\"data row15 col0\" >K Neighbors Regressor</td>\n",
              "      <td id=\"T_3f1a6_row15_col1\" class=\"data row15 col1\" >29.8795</td>\n",
              "      <td id=\"T_3f1a6_row15_col2\" class=\"data row15 col2\" >1392.7424</td>\n",
              "      <td id=\"T_3f1a6_row15_col3\" class=\"data row15 col3\" >37.2475</td>\n",
              "      <td id=\"T_3f1a6_row15_col4\" class=\"data row15 col4\" >-0.2067</td>\n",
              "      <td id=\"T_3f1a6_row15_col5\" class=\"data row15 col5\" >1.9209</td>\n",
              "      <td id=\"T_3f1a6_row15_col6\" class=\"data row15 col6\" >11.9573</td>\n",
              "      <td id=\"T_3f1a6_row15_col7\" class=\"data row15 col7\" >0.0560</td>\n",
              "    </tr>\n",
              "    <tr>\n",
              "      <th id=\"T_3f1a6_level0_row16\" class=\"row_heading level0 row16\" >huber</th>\n",
              "      <td id=\"T_3f1a6_row16_col0\" class=\"data row16 col0\" >Huber Regressor</td>\n",
              "      <td id=\"T_3f1a6_row16_col1\" class=\"data row16 col1\" >24.2322</td>\n",
              "      <td id=\"T_3f1a6_row16_col2\" class=\"data row16 col2\" >1570.2991</td>\n",
              "      <td id=\"T_3f1a6_row16_col3\" class=\"data row16 col3\" >39.4914</td>\n",
              "      <td id=\"T_3f1a6_row16_col4\" class=\"data row16 col4\" >-0.3542</td>\n",
              "      <td id=\"T_3f1a6_row16_col5\" class=\"data row16 col5\" >1.6262</td>\n",
              "      <td id=\"T_3f1a6_row16_col6\" class=\"data row16 col6\" >2.5282</td>\n",
              "      <td id=\"T_3f1a6_row16_col7\" class=\"data row16 col7\" >0.0980</td>\n",
              "    </tr>\n",
              "    <tr>\n",
              "      <th id=\"T_3f1a6_level0_row17\" class=\"row_heading level0 row17\" >dt</th>\n",
              "      <td id=\"T_3f1a6_row17_col0\" class=\"data row17 col0\" >Decision Tree Regressor</td>\n",
              "      <td id=\"T_3f1a6_row17_col1\" class=\"data row17 col1\" >33.3292</td>\n",
              "      <td id=\"T_3f1a6_row17_col2\" class=\"data row17 col2\" >2284.6641</td>\n",
              "      <td id=\"T_3f1a6_row17_col3\" class=\"data row17 col3\" >47.6228</td>\n",
              "      <td id=\"T_3f1a6_row17_col4\" class=\"data row17 col4\" >-1.0062</td>\n",
              "      <td id=\"T_3f1a6_row17_col5\" class=\"data row17 col5\" >2.1466</td>\n",
              "      <td id=\"T_3f1a6_row17_col6\" class=\"data row17 col6\" >12.1204</td>\n",
              "      <td id=\"T_3f1a6_row17_col7\" class=\"data row17 col7\" >0.0660</td>\n",
              "    </tr>\n",
              "    <tr>\n",
              "      <th id=\"T_3f1a6_level0_row18\" class=\"row_heading level0 row18\" >par</th>\n",
              "      <td id=\"T_3f1a6_row18_col0\" class=\"data row18 col0\" >Passive Aggressive Regressor</td>\n",
              "      <td id=\"T_3f1a6_row18_col1\" class=\"data row18 col1\" >41.6894</td>\n",
              "      <td id=\"T_3f1a6_row18_col2\" class=\"data row18 col2\" >2647.7259</td>\n",
              "      <td id=\"T_3f1a6_row18_col3\" class=\"data row18 col3\" >50.3357</td>\n",
              "      <td id=\"T_3f1a6_row18_col4\" class=\"data row18 col4\" >-1.3781</td>\n",
              "      <td id=\"T_3f1a6_row18_col5\" class=\"data row18 col5\" >2.2043</td>\n",
              "      <td id=\"T_3f1a6_row18_col6\" class=\"data row18 col6\" >22.0661</td>\n",
              "      <td id=\"T_3f1a6_row18_col7\" class=\"data row18 col7\" >0.0500</td>\n",
              "    </tr>\n",
              "  </tbody>\n",
              "</table>\n"
            ]
          },
          "metadata": {}
        },
        {
          "output_type": "display_data",
          "data": {
            "text/plain": [
              "Processing:   0%|          | 0/90 [00:00<?, ?it/s]"
            ],
            "application/vnd.jupyter.widget-view+json": {
              "version_major": 2,
              "version_minor": 0,
              "model_id": "803202e1f92e41feb942b8bb51d6e91a"
            }
          },
          "metadata": {
            "application/vnd.jupyter.widget-view+json": {
              "colab": {
                "custom_widget_manager": {
                  "url": "https://ssl.gstatic.com/colaboratory-static/widgets/colab-cdn-widget-manager/2b70e893a8ba7c0f/manager.min.js"
                }
              }
            }
          }
        },
        {
          "output_type": "display_data",
          "data": {
            "text/plain": [
              "<IPython.core.display.HTML object>"
            ],
            "text/html": []
          },
          "metadata": {}
        }
      ]
    },
    {
      "cell_type": "code",
      "execution_count": 20,
      "metadata": {
        "id": "CGg4ANmKlbQ5",
        "colab": {
          "base_uri": "https://localhost:8080/"
        },
        "outputId": "f479ada8-b1db-4e7b-969f-82effa6175f4"
      },
      "outputs": [
        {
          "output_type": "stream",
          "name": "stdout",
          "text": [
            "                                    Model      R2     RMSE      MAE\n",
            "br                         Bayesian Ridge  0.0018  33.8776  28.8257\n",
            "lasso                    Lasso Regression -0.0020  33.9242  28.6468\n",
            "llar         Lasso Least Angle Regression -0.0020  33.9242  28.6468\n",
            "en                            Elastic Net -0.0025  33.9323  28.6449\n",
            "ridge                    Ridge Regression -0.0035  33.9468  28.4622\n",
            "lr                      Linear Regression -0.0040  33.9547  28.4560\n",
            "lar                Least Angle Regression -0.0054  33.9800  28.4497\n",
            "dummy                     Dummy Regressor -0.0119  34.1229  29.2651\n",
            "omp           Orthogonal Matching Pursuit -0.0121  34.1268  29.2769\n",
            "et                  Extra Trees Regressor -0.0481  34.6907  29.4039\n",
            "rf                Random Forest Regressor -0.0805  35.2024  29.6055\n",
            "ada                    AdaBoost Regressor -0.0955  35.4345  31.9172\n",
            "gbr           Gradient Boosting Regressor -0.1222  35.8643  29.6460\n",
            "lightgbm  Light Gradient Boosting Machine -0.1283  36.0121  29.1230\n",
            "xgboost         Extreme Gradient Boosting -0.1816  36.8099  29.6100\n",
            "knn                 K Neighbors Regressor -0.2067  37.2475  29.8795\n",
            "huber                     Huber Regressor -0.3542  39.4914  24.2322\n",
            "dt                Decision Tree Regressor -1.0062  47.6228  33.3292\n",
            "par          Passive Aggressive Regressor -1.3781  50.3357  41.6894\n"
          ]
        }
      ],
      "source": [
        "results = pull()\n",
        "results = results[['Model', 'R2', 'RMSE', 'MAE']]\n",
        "print(results)"
      ]
    },
    {
      "cell_type": "code",
      "source": [
        "# Plot Model vs R2\n",
        "plt.figure(figsize=(12, 6))\n",
        "sns.barplot(x='R2', y='Model', data=results, palette='viridis')\n",
        "plt.xlabel(\"R² Score\")\n",
        "plt.ylabel(\"Model\")\n",
        "plt.title(\"Model vs R²\")\n",
        "plt.show()"
      ],
      "metadata": {
        "colab": {
          "base_uri": "https://localhost:8080/",
          "height": 562
        },
        "id": "KAlJyJLN0cJT",
        "outputId": "b75636b5-324f-451b-c05e-c85ccb46f97f"
      },
      "execution_count": 21,
      "outputs": [
        {
          "output_type": "display_data",
          "data": {
            "text/plain": [
              "<Figure size 1200x600 with 1 Axes>"
            ],
            "image/png": "[encoded data removed]"
          },
          "metadata": {}
        }
      ]
    },
    {
      "cell_type": "code",
      "source": [
        "X = df.drop(columns=['Target'])\n",
        "y = df['Target']\n",
        "\n",
        "# Divide the dataset into 70/30\n",
        "X_train, X_test, y_train, y_test = train_test_split(X, y, train_size=0.7, random_state=42)\n",
        "train_data = pd.concat([X_train, y_train], axis=1)\n",
        "test_data = pd.concat([X_test, y_test], axis=1)\n",
        "\n",
        "# Select the best model\n",
        "final_model = finalize_model(best_models[0])"
      ],
      "metadata": {
        "id": "aC7T7r2O00dB"
      },
      "execution_count": 22,
      "outputs": []
    },
    {
      "cell_type": "code",
      "source": [
        "predictions = predict_model(final_model, data=test_data)\n",
        "print(\"Predictions and Evaluation on Test Data:\")\n",
        "print(predictions.head())"
      ],
      "metadata": {
        "colab": {
          "base_uri": "https://localhost:8080/",
          "height": 562
        },
        "id": "Ktr2p5QA0-Pp",
        "outputId": "f5386d0a-942a-44d7-940d-5eb175f5eeca"
      },
      "execution_count": 23,
      "outputs": [
        {
          "output_type": "display_data",
          "data": {
            "text/plain": [
              "<pandas.io.formats.style.Styler at 0x7862c7dba7d0>"
            ],
            "text/html": [
              "<style type=\"text/css\">\n",
              "</style>\n",
              "<table id=\"T_b1ba6\" class=\"dataframe\">\n",
              "  <thead>\n",
              "    <tr>\n",
              "      <th class=\"blank level0\" >&nbsp;</th>\n",
              "      <th id=\"T_b1ba6_level0_col0\" class=\"col_heading level0 col0\" >Model</th>\n",
              "      <th id=\"T_b1ba6_level0_col1\" class=\"col_heading level0 col1\" >MAE</th>\n",
              "      <th id=\"T_b1ba6_level0_col2\" class=\"col_heading level0 col2\" >MSE</th>\n",
              "      <th id=\"T_b1ba6_level0_col3\" class=\"col_heading level0 col3\" >RMSE</th>\n",
              "      <th id=\"T_b1ba6_level0_col4\" class=\"col_heading level0 col4\" >R2</th>\n",
              "      <th id=\"T_b1ba6_level0_col5\" class=\"col_heading level0 col5\" >RMSLE</th>\n",
              "      <th id=\"T_b1ba6_level0_col6\" class=\"col_heading level0 col6\" >MAPE</th>\n",
              "    </tr>\n",
              "  </thead>\n",
              "  <tbody>\n",
              "    <tr>\n",
              "      <th id=\"T_b1ba6_level0_row0\" class=\"row_heading level0 row0\" >0</th>\n",
              "      <td id=\"T_b1ba6_row0_col0\" class=\"data row0 col0\" >Bayesian Ridge</td>\n",
              "      <td id=\"T_b1ba6_row0_col1\" class=\"data row0 col1\" >29.4999</td>\n",
              "      <td id=\"T_b1ba6_row0_col2\" class=\"data row0 col2\" >1422.9062</td>\n",
              "      <td id=\"T_b1ba6_row0_col3\" class=\"data row0 col3\" >37.7214</td>\n",
              "      <td id=\"T_b1ba6_row0_col4\" class=\"data row0 col4\" >0.0833</td>\n",
              "      <td id=\"T_b1ba6_row0_col5\" class=\"data row0 col5\" >1.8255</td>\n",
              "      <td id=\"T_b1ba6_row0_col6\" class=\"data row0 col6\" >11.9217</td>\n",
              "    </tr>\n",
              "  </tbody>\n",
              "</table>\n"
            ]
          },
          "metadata": {}
        },
        {
          "output_type": "stream",
          "name": "stdout",
          "text": [
            "Predictions and Evaluation on Test Data:\n",
            "            F1    F2         F3         F4          F5         F6     F7  \\\n",
            "521  53.299999  2.96  39.799999  29.850000  132.610001  39.200001  0.168   \n",
            "737  79.400002  1.34  67.699997  38.540001   95.220001  31.799999  0.100   \n",
            "740  57.400002  2.64  57.200001  47.099998  153.100006  46.599998  0.156   \n",
            "660  52.299999  2.27  64.099998  29.330000  123.169998  30.000000  0.266   \n",
            "411  87.199997  1.24  40.599998  15.390000   40.860001  32.099998  0.202   \n",
            "\n",
            "             F8   F9   F10         F11   F12   F13        F14   F15  \\\n",
            "521  250.199997  148  0.99   98.070000  2.33  5382  23.500000  1706   \n",
            "737  163.300003  198  0.99  102.834999  2.15  7648  26.299999  1675   \n",
            "740  268.100006  294  1.73  101.441002  1.90   852  25.799999  1203   \n",
            "660  108.099998  385  1.54  100.304001  2.82  8513  18.400000  1641   \n",
            "411  232.600006  302  1.54   99.363998  2.82  5708  23.100000   428   \n",
            "\n",
            "        Target  prediction_label  \n",
            "521   1.732000         21.850124  \n",
            "737  70.300003         20.222136  \n",
            "740   0.942000         36.027536  \n",
            "660   0.853000         30.804652  \n",
            "411   0.859000         28.654230  \n"
          ]
        }
      ]
    },
    {
      "cell_type": "code",
      "source": [
        "predictions = predict_model(final_model, data=test_data)\n",
        "print(\"Columns returned by predict_model:\", predictions.columns)"
      ],
      "metadata": {
        "colab": {
          "base_uri": "https://localhost:8080/",
          "height": 166
        },
        "id": "LwNm8z151bHr",
        "outputId": "0f337997-7463-4422-c906-d74564b180b2"
      },
      "execution_count": 24,
      "outputs": [
        {
          "output_type": "display_data",
          "data": {
            "text/plain": [
              "<pandas.io.formats.style.Styler at 0x7862becc3580>"
            ],
            "text/html": [
              "<style type=\"text/css\">\n",
              "</style>\n",
              "<table id=\"T_fd212\" class=\"dataframe\">\n",
              "  <thead>\n",
              "    <tr>\n",
              "      <th class=\"blank level0\" >&nbsp;</th>\n",
              "      <th id=\"T_fd212_level0_col0\" class=\"col_heading level0 col0\" >Model</th>\n",
              "      <th id=\"T_fd212_level0_col1\" class=\"col_heading level0 col1\" >MAE</th>\n",
              "      <th id=\"T_fd212_level0_col2\" class=\"col_heading level0 col2\" >MSE</th>\n",
              "      <th id=\"T_fd212_level0_col3\" class=\"col_heading level0 col3\" >RMSE</th>\n",
              "      <th id=\"T_fd212_level0_col4\" class=\"col_heading level0 col4\" >R2</th>\n",
              "      <th id=\"T_fd212_level0_col5\" class=\"col_heading level0 col5\" >RMSLE</th>\n",
              "      <th id=\"T_fd212_level0_col6\" class=\"col_heading level0 col6\" >MAPE</th>\n",
              "    </tr>\n",
              "  </thead>\n",
              "  <tbody>\n",
              "    <tr>\n",
              "      <th id=\"T_fd212_level0_row0\" class=\"row_heading level0 row0\" >0</th>\n",
              "      <td id=\"T_fd212_row0_col0\" class=\"data row0 col0\" >Bayesian Ridge</td>\n",
              "      <td id=\"T_fd212_row0_col1\" class=\"data row0 col1\" >29.4999</td>\n",
              "      <td id=\"T_fd212_row0_col2\" class=\"data row0 col2\" >1422.9062</td>\n",
              "      <td id=\"T_fd212_row0_col3\" class=\"data row0 col3\" >37.7214</td>\n",
              "      <td id=\"T_fd212_row0_col4\" class=\"data row0 col4\" >0.0833</td>\n",
              "      <td id=\"T_fd212_row0_col5\" class=\"data row0 col5\" >1.8255</td>\n",
              "      <td id=\"T_fd212_row0_col6\" class=\"data row0 col6\" >11.9217</td>\n",
              "    </tr>\n",
              "  </tbody>\n",
              "</table>\n"
            ]
          },
          "metadata": {}
        },
        {
          "output_type": "stream",
          "name": "stdout",
          "text": [
            "Columns returned by predict_model: Index(['F1', 'F2', 'F3', 'F4', 'F5', 'F6', 'F7', 'F8', 'F9', 'F10', 'F11',\n",
            "       'F12', 'F13', 'F14', 'F15', 'Target', 'prediction_label'],\n",
            "      dtype='object')\n"
          ]
        }
      ]
    },
    {
      "cell_type": "code",
      "source": [
        "from sklearn.metrics import r2_score, mean_squared_error, mean_absolute_error\n",
        "y_true = predictions['Target']\n",
        "y_pred = predictions['prediction_label']\n",
        "r2 = r2_score(y_true, y_pred)\n",
        "mse = mean_squared_error(y_true, y_pred)\n",
        "rmse = mse**0.5\n",
        "mae = mean_absolute_error(y_true, y_pred)\n",
        "print(\"R² = \", r2)\n",
        "print(\"RMSE = \", rmse)\n",
        "print(\"MAE = \", mae)"
      ],
      "metadata": {
        "colab": {
          "base_uri": "https://localhost:8080/"
        },
        "id": "ogyFZIhI1AWh",
        "outputId": "361567ca-8898-46bb-f221-af7caac32ebd"
      },
      "execution_count": 25,
      "outputs": [
        {
          "output_type": "stream",
          "name": "stdout",
          "text": [
            "R² =  0.08327689831249319\n",
            "RMSE =  37.72142877185208\n",
            "MAE =  29.49990904852934\n"
          ]
        }
      ]
    }
  ],
  "metadata": {
    "colab": {
      "provenance": []
    },
    "kernelspec": {
      "display_name": "Python 3",
      "name": "python3"
    },
    "language_info": {
      "name": "python"
    },
    "widgets": {
      "application/vnd.jupyter.widget-state+json": {
        "803202e1f92e41feb942b8bb51d6e91a": {
          "model_module": "@jupyter-widgets/controls",
          "model_name": "HBoxModel",
          "model_module_version": "1.5.0",
          "state": {
            "_dom_classes": [],
            "_model_module": "@jupyter-widgets/controls",
            "_model_module_version": "1.5.0",
            "_model_name": "HBoxModel",
            "_view_count": null,
            "_view_module": "@jupyter-widgets/controls",
            "_view_module_version": "1.5.0",
            "_view_name": "HBoxView",
            "box_style": "",
            "children": [
              "IPY_MODEL_9db05e5a5fc943dc9b49cf62d1069635",
              "IPY_MODEL_a1e7122c4b764d9b921cd8ccce45de9c",
              "IPY_MODEL_065fcd715bbb4ee4ae16ca747a5abc36"
            ],
            "layout": "IPY_MODEL_d32e530ebdb44e2095c220a6c247e890"
          }
        },
        "9db05e5a5fc943dc9b49cf62d1069635": {
          "model_module": "@jupyter-widgets/controls",
          "model_name": "HTMLModel",
          "model_module_version": "1.5.0",
          "state": {
            "_dom_classes": [],
            "_model_module": "@jupyter-widgets/controls",
            "_model_module_version": "1.5.0",
            "_model_name": "HTMLModel",
            "_view_count": null,
            "_view_module": "@jupyter-widgets/controls",
            "_view_module_version": "1.5.0",
            "_view_name": "HTMLView",
            "description": "",
            "description_tooltip": null,
            "layout": "IPY_MODEL_17ffcf8046c94f44bf02ae37d1f4b890",
            "placeholder": "​",
            "style": "IPY_MODEL_cb094ccfaa554e0194a4a46f566f8813",
            "value": "Processing: 100%"
          }
        },
        "a1e7122c4b764d9b921cd8ccce45de9c": {
          "model_module": "@jupyter-widgets/controls",
          "model_name": "FloatProgressModel",
          "model_module_version": "1.5.0",
          "state": {
            "_dom_classes": [],
            "_model_module": "@jupyter-widgets/controls",
            "_model_module_version": "1.5.0",
            "_model_name": "FloatProgressModel",
            "_view_count": null,
            "_view_module": "@jupyter-widgets/controls",
            "_view_module_version": "1.5.0",
            "_view_name": "ProgressView",
            "bar_style": "",
            "description": "",
            "description_tooltip": null,
            "layout": "IPY_MODEL_f49fbed2933f40ea868232f6cc03a38c",
            "max": 90,
            "min": 0,
            "orientation": "horizontal",
            "style": "IPY_MODEL_fbfbe395b380457fa54d6dae1167920b",
            "value": 90
          }
        },
        "065fcd715bbb4ee4ae16ca747a5abc36": {
          "model_module": "@jupyter-widgets/controls",
          "model_name": "HTMLModel",
          "model_module_version": "1.5.0",
          "state": {
            "_dom_classes": [],
            "_model_module": "@jupyter-widgets/controls",
            "_model_module_version": "1.5.0",
            "_model_name": "HTMLModel",
            "_view_count": null,
            "_view_module": "@jupyter-widgets/controls",
            "_view_module_version": "1.5.0",
            "_view_name": "HTMLView",
            "description": "",
            "description_tooltip": null,
            "layout": "IPY_MODEL_ec23d57f9c76449a8b57b4a40f8fb300",
            "placeholder": "​",
            "style": "IPY_MODEL_05d810b0970346b4885cd37edb9a9892",
            "value": " 90/90 [00:31&lt;00:00,  1.99it/s]"
          }
        },
        "d32e530ebdb44e2095c220a6c247e890": {
          "model_module": "@jupyter-widgets/base",
          "model_name": "LayoutModel",
          "model_module_version": "1.2.0",
          "state": {
            "_model_module": "@jupyter-widgets/base",
            "_model_module_version": "1.2.0",
            "_model_name": "LayoutModel",
            "_view_count": null,
            "_view_module": "@jupyter-widgets/base",
            "_view_module_version": "1.2.0",
            "_view_name": "LayoutView",
            "align_content": null,
            "align_items": null,
            "align_self": null,
            "border": null,
            "bottom": null,
            "display": null,
            "flex": null,
            "flex_flow": null,
            "grid_area": null,
            "grid_auto_columns": null,
            "grid_auto_flow": null,
            "grid_auto_rows": null,
            "grid_column": null,
            "grid_gap": null,
            "grid_row": null,
            "grid_template_areas": null,
            "grid_template_columns": null,
            "grid_template_rows": null,
            "height": null,
            "justify_content": null,
            "justify_items": null,
            "left": null,
            "margin": null,
            "max_height": null,
            "max_width": null,
            "min_height": null,
            "min_width": null,
            "object_fit": null,
            "object_position": null,
            "order": null,
            "overflow": null,
            "overflow_x": null,
            "overflow_y": null,
            "padding": null,
            "right": null,
            "top": null,
            "visibility": "hidden",
            "width": null
          }
        },
        "17ffcf8046c94f44bf02ae37d1f4b890": {
          "model_module": "@jupyter-widgets/base",
          "model_name": "LayoutModel",
          "model_module_version": "1.2.0",
          "state": {
            "_model_module": "@jupyter-widgets/base",
            "_model_module_version": "1.2.0",
            "_model_name": "LayoutModel",
            "_view_count": null,
            "_view_module": "@jupyter-widgets/base",
            "_view_module_version": "1.2.0",
            "_view_name": "LayoutView",
            "align_content": null,
            "align_items": null,
            "align_self": null,
            "border": null,
            "bottom": null,
            "display": null,
            "flex": null,
            "flex_flow": null,
            "grid_area": null,
            "grid_auto_columns": null,
            "grid_auto_flow": null,
            "grid_auto_rows": null,
            "grid_column": null,
            "grid_gap": null,
            "grid_row": null,
            "grid_template_areas": null,
            "grid_template_columns": null,
            "grid_template_rows": null,
            "height": null,
            "justify_content": null,
            "justify_items": null,
            "left": null,
            "margin": null,
            "max_height": null,
            "max_width": null,
            "min_height": null,
            "min_width": null,
            "object_fit": null,
            "object_position": null,
            "order": null,
            "overflow": null,
            "overflow_x": null,
            "overflow_y": null,
            "padding": null,
            "right": null,
            "top": null,
            "visibility": null,
            "width": null
          }
        },
        "cb094ccfaa554e0194a4a46f566f8813": {
          "model_module": "@jupyter-widgets/controls",
          "model_name": "DescriptionStyleModel",
          "model_module_version": "1.5.0",
          "state": {
            "_model_module": "@jupyter-widgets/controls",
            "_model_module_version": "1.5.0",
            "_model_name": "DescriptionStyleModel",
            "_view_count": null,
            "_view_module": "@jupyter-widgets/base",
            "_view_module_version": "1.2.0",
            "_view_name": "StyleView",
            "description_width": ""
          }
        },
        "f49fbed2933f40ea868232f6cc03a38c": {
          "model_module": "@jupyter-widgets/base",
          "model_name": "LayoutModel",
          "model_module_version": "1.2.0",
          "state": {
            "_model_module": "@jupyter-widgets/base",
            "_model_module_version": "1.2.0",
            "_model_name": "LayoutModel",
            "_view_count": null,
            "_view_module": "@jupyter-widgets/base",
            "_view_module_version": "1.2.0",
            "_view_name": "LayoutView",
            "align_content": null,
            "align_items": null,
            "align_self": null,
            "border": null,
            "bottom": null,
            "display": null,
            "flex": null,
            "flex_flow": null,
            "grid_area": null,
            "grid_auto_columns": null,
            "grid_auto_flow": null,
            "grid_auto_rows": null,
            "grid_column": null,
            "grid_gap": null,
            "grid_row": null,
            "grid_template_areas": null,
            "grid_template_columns": null,
            "grid_template_rows": null,
            "height": null,
            "justify_content": null,
            "justify_items": null,
            "left": null,
            "margin": null,
            "max_height": null,
            "max_width": null,
            "min_height": null,
            "min_width": null,
            "object_fit": null,
            "object_position": null,
            "order": null,
            "overflow": null,
            "overflow_x": null,
            "overflow_y": null,
            "padding": null,
            "right": null,
            "top": null,
            "visibility": null,
            "width": null
          }
        },
        "fbfbe395b380457fa54d6dae1167920b": {
          "model_module": "@jupyter-widgets/controls",
          "model_name": "ProgressStyleModel",
          "model_module_version": "1.5.0",
          "state": {
            "_model_module": "@jupyter-widgets/controls",
            "_model_module_version": "1.5.0",
            "_model_name": "ProgressStyleModel",
            "_view_count": null,
            "_view_module": "@jupyter-widgets/base",
            "_view_module_version": "1.2.0",
            "_view_name": "StyleView",
            "bar_color": null,
            "description_width": ""
          }
        },
        "ec23d57f9c76449a8b57b4a40f8fb300": {
          "model_module": "@jupyter-widgets/base",
          "model_name": "LayoutModel",
          "model_module_version": "1.2.0",
          "state": {
            "_model_module": "@jupyter-widgets/base",
            "_model_module_version": "1.2.0",
            "_model_name": "LayoutModel",
            "_view_count": null,
            "_view_module": "@jupyter-widgets/base",
            "_view_module_version": "1.2.0",
            "_view_name": "LayoutView",
            "align_content": null,
            "align_items": null,
            "align_self": null,
            "border": null,
            "bottom": null,
            "display": null,
            "flex": null,
            "flex_flow": null,
            "grid_area": null,
            "grid_auto_columns": null,
            "grid_auto_flow": null,
            "grid_auto_rows": null,
            "grid_column": null,
            "grid_gap": null,
            "grid_row": null,
            "grid_template_areas": null,
            "grid_template_columns": null,
            "grid_template_rows": null,
            "height": null,
            "justify_content": null,
            "justify_items": null,
            "left": null,
            "margin": null,
            "max_height": null,
            "max_width": null,
            "min_height": null,
            "min_width": null,
            "object_fit": null,
            "object_position": null,
            "order": null,
            "overflow": null,
            "overflow_x": null,
            "overflow_y": null,
            "padding": null,
            "right": null,
            "top": null,
            "visibility": null,
            "width": null
          }
        },
        "05d810b0970346b4885cd37edb9a9892": {
          "model_module": "@jupyter-widgets/controls",
          "model_name": "DescriptionStyleModel",
          "model_module_version": "1.5.0",
          "state": {
            "_model_module": "@jupyter-widgets/controls",
            "_model_module_version": "1.5.0",
            "_model_name": "DescriptionStyleModel",
            "_view_count": null,
            "_view_module": "@jupyter-widgets/base",
            "_view_module_version": "1.2.0",
            "_view_name": "StyleView",
            "description_width": ""
          }
        }
      }
    }
  },
  "nbformat": 4,
  "nbformat_minor": 0
}